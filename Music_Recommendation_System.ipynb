{
 "cells": [
  {
   "cell_type": "markdown",
   "metadata": {},
   "source": [
    "# Music Recommendation System\n",
    "- Jonathan Rai"
   ]
  },
  {
   "cell_type": "markdown",
   "metadata": {},
   "source": [
    "## Dataset Description\n",
    "- In this task, you will be asked to predict the chances of a user listening to a song repetitively after the first observable listening event within a time window was triggered. If there are recurring listening event(s) triggered within a month after the user’s very first observable listening event, its target is marked 1, and 0 otherwise in the training set. The same rule applies to the testing set.\n",
    "\n",
    "- KKBOX provides a training data set consists of information of the first observable listening event for each unique user-song pair within a specific time duration. Metadata of each unique user and song pair is also provided. The use of public data to increase the level of accuracy of your prediction is encouraged.\n",
    "\n",
    "- The train and the test data are selected from users listening history in a given time period. Note that this time period is chosen to be before the WSDM-KKBox Churn Prediction time period. The train and test sets are split based on time, and the split of public/private are based on unique user/song pairs.\n",
    "\n",
    "## Tables\n",
    "#### train.csv\n",
    "- msno: user id\n",
    "- song_id: song id\n",
    "- source_system_tab: the name of the tab where the event was triggered. System tabs are used to categorize KKBOX mobile apps functions. For example, tab my library contains functions to manipulate the local storage, and tab search contains functions relating to search.\n",
    "- source_screen_name: name of the layout a user sees.\n",
    "- source_type: an entry point a user first plays music on mobile apps. An entry point could be album, online-playlist, song .. etc.\n",
    "- target: this is the target variable. target=1 means there are recurring listening event(s) triggered within a month after the user’s very first observable listening event, target=0 otherwise .\n",
    "\n",
    "#### test.csv\n",
    "- id: row id (will be used for submission)\n",
    "- msno: user id\n",
    "- song_id: song id\n",
    "- source_system_tab: the name of the tab where the event was triggered. System tabs are used to categorize KKBOX mobile apps functions. For example, tab my library contains functions to manipulate the local storage, and tab search contains functions relating to search.\n",
    "source_screen_name: name of the layout a user sees.\n",
    "- source_type: an entry point a user first plays music on mobile apps. An entry point could be album, online-playlist, song .. etc.\n",
    "\n",
    "#### sample_submission.csv\n",
    "sample submission file in the format that we expect you to submit\n",
    "\n",
    "- id: same as id in test.csv\n",
    "- target: this is the target variable. target=1 means there are recurring listening event(s) triggered within a month after the user’s very first observable listening event, target=0 otherwise .\n",
    "\n",
    "#### songs.csv\n",
    "The songs. Note that data is in unicode.\n",
    "\n",
    "- song_id\n",
    "- song_length: in ms\n",
    "- genre_ids: genre category. Some songs have multiple genres and they are separated by |\n",
    "artist_name\n",
    "composer\n",
    "lyricist\n",
    "language\n",
    "\n",
    "#### members.csv\n",
    "user information.\n",
    "\n",
    "- msno\n",
    "- city\n",
    "- bd: age. Note: this column has outlier values, please use your judgement.\n",
    "gender\n",
    "- registered_via: registration method\n",
    "- registration_init_time: format %Y%m%d\n",
    "- expiration_date: format %Y%m%d\n",
    "\n",
    "#### song_extra_info.csv\n",
    "- song_id\n",
    "- song name - the name of the song.\n",
    "- isrc - International Standard Recording Code, theoretically can be used as an identity of a song. However, what worth to note is, ISRCs generated from providers have not been officially verified; therefore the information in ISRC, such as country code and reference year, can be misleading/incorrect. Multiple songs could share one ISRC since a single recording could be re-published several times."
   ]
  },
  {
   "cell_type": "code",
   "execution_count": 1,
   "metadata": {},
   "outputs": [],
   "source": [
    "#The files provided are zipped hence need to unzip and extract our datasets\n",
    "#!pip install py7zr\n",
    "import py7zr"
   ]
  },
  {
   "cell_type": "code",
   "execution_count": 2,
   "metadata": {},
   "outputs": [],
   "source": [
    "# Unzipping 7z files\n",
    "df1 = py7zr.SevenZipFile(\"train.csv.7z\", mode='r')\n",
    "df1.extractall(path='Dataset')\n",
    "df1.close()\n"
   ]
  },
  {
   "cell_type": "markdown",
   "metadata": {},
   "source": [
    "- If I would want to extract in same directory instead of dataset folder then\n",
    "-  Unzipping the \"members.csv.7z\" file in the same folder\n",
    "    - df2 = py7zr.SevenZipFile(\"members.csv.7z\", mode='r')\n",
    "    - df2.extractall()\n",
    "    - df2.close()"
   ]
  },
  {
   "cell_type": "code",
   "execution_count": 3,
   "metadata": {},
   "outputs": [],
   "source": [
    "df2 = py7zr.SevenZipFile(\"members.csv.7z\",mode='r')\n",
    "df2.extractall(path='Dataset')\n",
    "df2.close()\n",
    "\n",
    "df3 = py7zr.SevenZipFile(\"song_extra_info.csv.7z\",mode='r')\n",
    "df3.extractall(path='Dataset')\n",
    "df3.close()\n",
    "\n",
    "df4 = py7zr.SevenZipFile(\"songs.csv.7z\",mode='r')\n",
    "df4.extractall(path='Dataset')\n",
    "df4.close()\n",
    "\n",
    "df5 = py7zr.SevenZipFile(\"test.csv.7z\",mode='r')\n",
    "df5.extractall(path='Dataset')\n",
    "df5.close()\n",
    "\n",
    "df6 = py7zr.SevenZipFile(\"sample_submission.csv.7z\",mode='r')\n",
    "df6.extractall(path='Dataset')\n",
    "df6.close()"
   ]
  },
  {
   "cell_type": "markdown",
   "metadata": {},
   "source": [
    "- 'py7zr' library is used to unzip a 7z compressed file and extract its contents to a specified directory\n",
    "\n",
    "- the above code unzips the files like \"train.csv.7z\" file and extracts its contents to the \"Dataset\" directory. After running this code, we can find the \"train.csv\" file (or whatever file(s) were inside the 7z archive) in the \"Dataset\" directory."
   ]
  },
  {
   "cell_type": "markdown",
   "metadata": {},
   "source": [
    "#### Importing other necessary libraries"
   ]
  },
  {
   "cell_type": "code",
   "execution_count": 4,
   "metadata": {},
   "outputs": [],
   "source": [
    "import pandas as pd\n",
    "import numpy as np\n",
    "import seaborn as sns\n",
    "import matplotlib.pyplot as plt"
   ]
  },
  {
   "cell_type": "markdown",
   "metadata": {},
   "source": [
    "#### Loading dataset"
   ]
  },
  {
   "cell_type": "code",
   "execution_count": 5,
   "metadata": {},
   "outputs": [],
   "source": [
    "train = pd.read_csv(\"Dataset/train.csv\")\n",
    "songs = pd.read_csv(\"Dataset/songs.csv\")\n",
    "members = pd.read_csv(\"Dataset/members.csv\")\n",
    "song_info = pd.read_csv(\"Dataset/song_extra_info.csv\")\n",
    "test = pd.read_csv(\"Dataset/test.csv\")\n",
    "sample_submission = pd.read_csv(\"Dataset/sample_submission.csv\")"
   ]
  },
  {
   "cell_type": "code",
   "execution_count": 6,
   "metadata": {},
   "outputs": [
    {
     "data": {
      "text/plain": [
       "(7377418, 6)"
      ]
     },
     "execution_count": 6,
     "metadata": {},
     "output_type": "execute_result"
    }
   ],
   "source": [
    "train.shape"
   ]
  },
  {
   "cell_type": "code",
   "execution_count": 7,
   "metadata": {},
   "outputs": [
    {
     "data": {
      "text/plain": [
       "(2296320, 7)"
      ]
     },
     "execution_count": 7,
     "metadata": {},
     "output_type": "execute_result"
    }
   ],
   "source": [
    "songs.shape"
   ]
  },
  {
   "cell_type": "code",
   "execution_count": 8,
   "metadata": {},
   "outputs": [
    {
     "data": {
      "text/plain": [
       "(34403, 7)"
      ]
     },
     "execution_count": 8,
     "metadata": {},
     "output_type": "execute_result"
    }
   ],
   "source": [
    "members.shape"
   ]
  },
  {
   "cell_type": "code",
   "execution_count": 9,
   "metadata": {},
   "outputs": [
    {
     "data": {
      "text/plain": [
       "(2295971, 3)"
      ]
     },
     "execution_count": 9,
     "metadata": {},
     "output_type": "execute_result"
    }
   ],
   "source": [
    "song_info.shape"
   ]
  },
  {
   "cell_type": "code",
   "execution_count": 10,
   "metadata": {},
   "outputs": [
    {
     "data": {
      "text/plain": [
       "(2556790, 6)"
      ]
     },
     "execution_count": 10,
     "metadata": {},
     "output_type": "execute_result"
    }
   ],
   "source": [
    "test.shape"
   ]
  },
  {
   "cell_type": "code",
   "execution_count": 11,
   "metadata": {},
   "outputs": [
    {
     "data": {
      "text/plain": [
       "(2556790, 2)"
      ]
     },
     "execution_count": 11,
     "metadata": {},
     "output_type": "execute_result"
    }
   ],
   "source": [
    "sample_submission.shape"
   ]
  },
  {
   "cell_type": "markdown",
   "metadata": {},
   "source": [
    "- Considering only 20k tuples from required dataset"
   ]
  },
  {
   "cell_type": "code",
   "execution_count": 12,
   "metadata": {},
   "outputs": [],
   "source": [
    "train_df = pd.read_csv(\"Dataset/train.csv\",nrows=20000)\n",
    "songs_df = pd.read_csv(\"Dataset/songs.csv\",nrows=20000)\n",
    "members_df = pd.read_csv(\"Dataset/members.csv\")\n",
    "song_extra_info_df = pd.read_csv(\"Dataset/song_extra_info.csv\")\n",
    "test_df = pd.read_csv(\"Dataset/test.csv\")\n",
    "sample_submission_df = pd.read_csv(\"Dataset/sample_submission.csv\",nrows=20000)"
   ]
  },
  {
   "cell_type": "code",
   "execution_count": 13,
   "metadata": {},
   "outputs": [
    {
     "data": {
      "text/html": [
       "<div>\n",
       "<style scoped>\n",
       "    .dataframe tbody tr th:only-of-type {\n",
       "        vertical-align: middle;\n",
       "    }\n",
       "\n",
       "    .dataframe tbody tr th {\n",
       "        vertical-align: top;\n",
       "    }\n",
       "\n",
       "    .dataframe thead th {\n",
       "        text-align: right;\n",
       "    }\n",
       "</style>\n",
       "<table border=\"1\" class=\"dataframe\">\n",
       "  <thead>\n",
       "    <tr style=\"text-align: right;\">\n",
       "      <th></th>\n",
       "      <th>msno</th>\n",
       "      <th>song_id</th>\n",
       "      <th>source_system_tab</th>\n",
       "      <th>source_screen_name</th>\n",
       "      <th>source_type</th>\n",
       "      <th>target</th>\n",
       "    </tr>\n",
       "  </thead>\n",
       "  <tbody>\n",
       "    <tr>\n",
       "      <th>0</th>\n",
       "      <td>FGtllVqz18RPiwJj/edr2gV78zirAiY/9SmYvia+kCg=</td>\n",
       "      <td>BBzumQNXUHKdEBOB7mAJuzok+IJA1c2Ryg/yzTF6tik=</td>\n",
       "      <td>explore</td>\n",
       "      <td>Explore</td>\n",
       "      <td>online-playlist</td>\n",
       "      <td>1</td>\n",
       "    </tr>\n",
       "    <tr>\n",
       "      <th>1</th>\n",
       "      <td>Xumu+NIjS6QYVxDS4/t3SawvJ7viT9hPKXmf0RtLNx8=</td>\n",
       "      <td>bhp/MpSNoqoxOIB+/l8WPqu6jldth4DIpCm3ayXnJqM=</td>\n",
       "      <td>my library</td>\n",
       "      <td>Local playlist more</td>\n",
       "      <td>local-playlist</td>\n",
       "      <td>1</td>\n",
       "    </tr>\n",
       "    <tr>\n",
       "      <th>2</th>\n",
       "      <td>Xumu+NIjS6QYVxDS4/t3SawvJ7viT9hPKXmf0RtLNx8=</td>\n",
       "      <td>JNWfrrC7zNN7BdMpsISKa4Mw+xVJYNnxXh3/Epw7QgY=</td>\n",
       "      <td>my library</td>\n",
       "      <td>Local playlist more</td>\n",
       "      <td>local-playlist</td>\n",
       "      <td>1</td>\n",
       "    </tr>\n",
       "    <tr>\n",
       "      <th>3</th>\n",
       "      <td>Xumu+NIjS6QYVxDS4/t3SawvJ7viT9hPKXmf0RtLNx8=</td>\n",
       "      <td>2A87tzfnJTSWqD7gIZHisolhe4DMdzkbd6LzO1KHjNs=</td>\n",
       "      <td>my library</td>\n",
       "      <td>Local playlist more</td>\n",
       "      <td>local-playlist</td>\n",
       "      <td>1</td>\n",
       "    </tr>\n",
       "    <tr>\n",
       "      <th>4</th>\n",
       "      <td>FGtllVqz18RPiwJj/edr2gV78zirAiY/9SmYvia+kCg=</td>\n",
       "      <td>3qm6XTZ6MOCU11x8FIVbAGH5l5uMkT3/ZalWG1oo2Gc=</td>\n",
       "      <td>explore</td>\n",
       "      <td>Explore</td>\n",
       "      <td>online-playlist</td>\n",
       "      <td>1</td>\n",
       "    </tr>\n",
       "  </tbody>\n",
       "</table>\n",
       "</div>"
      ],
      "text/plain": [
       "                                           msno  \\\n",
       "0  FGtllVqz18RPiwJj/edr2gV78zirAiY/9SmYvia+kCg=   \n",
       "1  Xumu+NIjS6QYVxDS4/t3SawvJ7viT9hPKXmf0RtLNx8=   \n",
       "2  Xumu+NIjS6QYVxDS4/t3SawvJ7viT9hPKXmf0RtLNx8=   \n",
       "3  Xumu+NIjS6QYVxDS4/t3SawvJ7viT9hPKXmf0RtLNx8=   \n",
       "4  FGtllVqz18RPiwJj/edr2gV78zirAiY/9SmYvia+kCg=   \n",
       "\n",
       "                                        song_id source_system_tab  \\\n",
       "0  BBzumQNXUHKdEBOB7mAJuzok+IJA1c2Ryg/yzTF6tik=           explore   \n",
       "1  bhp/MpSNoqoxOIB+/l8WPqu6jldth4DIpCm3ayXnJqM=        my library   \n",
       "2  JNWfrrC7zNN7BdMpsISKa4Mw+xVJYNnxXh3/Epw7QgY=        my library   \n",
       "3  2A87tzfnJTSWqD7gIZHisolhe4DMdzkbd6LzO1KHjNs=        my library   \n",
       "4  3qm6XTZ6MOCU11x8FIVbAGH5l5uMkT3/ZalWG1oo2Gc=           explore   \n",
       "\n",
       "    source_screen_name      source_type  target  \n",
       "0              Explore  online-playlist       1  \n",
       "1  Local playlist more   local-playlist       1  \n",
       "2  Local playlist more   local-playlist       1  \n",
       "3  Local playlist more   local-playlist       1  \n",
       "4              Explore  online-playlist       1  "
      ]
     },
     "execution_count": 13,
     "metadata": {},
     "output_type": "execute_result"
    }
   ],
   "source": [
    "train_df.head()"
   ]
  },
  {
   "cell_type": "code",
   "execution_count": 14,
   "metadata": {},
   "outputs": [
    {
     "data": {
      "text/html": [
       "<div>\n",
       "<style scoped>\n",
       "    .dataframe tbody tr th:only-of-type {\n",
       "        vertical-align: middle;\n",
       "    }\n",
       "\n",
       "    .dataframe tbody tr th {\n",
       "        vertical-align: top;\n",
       "    }\n",
       "\n",
       "    .dataframe thead th {\n",
       "        text-align: right;\n",
       "    }\n",
       "</style>\n",
       "<table border=\"1\" class=\"dataframe\">\n",
       "  <thead>\n",
       "    <tr style=\"text-align: right;\">\n",
       "      <th></th>\n",
       "      <th>song_id</th>\n",
       "      <th>song_length</th>\n",
       "      <th>genre_ids</th>\n",
       "      <th>artist_name</th>\n",
       "      <th>composer</th>\n",
       "      <th>lyricist</th>\n",
       "      <th>language</th>\n",
       "    </tr>\n",
       "  </thead>\n",
       "  <tbody>\n",
       "    <tr>\n",
       "      <th>0</th>\n",
       "      <td>CXoTN1eb7AI+DntdU1vbcwGRV4SCIDxZu+YD8JP8r4E=</td>\n",
       "      <td>247640</td>\n",
       "      <td>465</td>\n",
       "      <td>張信哲 (Jeff Chang)</td>\n",
       "      <td>董貞</td>\n",
       "      <td>何啟弘</td>\n",
       "      <td>3.0</td>\n",
       "    </tr>\n",
       "    <tr>\n",
       "      <th>1</th>\n",
       "      <td>o0kFgae9QtnYgRkVPqLJwa05zIhRlUjfF7O1tDw0ZDU=</td>\n",
       "      <td>197328</td>\n",
       "      <td>444</td>\n",
       "      <td>BLACKPINK</td>\n",
       "      <td>TEDDY|  FUTURE BOUNCE|  Bekuh BOOM</td>\n",
       "      <td>TEDDY</td>\n",
       "      <td>31.0</td>\n",
       "    </tr>\n",
       "    <tr>\n",
       "      <th>2</th>\n",
       "      <td>DwVvVurfpuz+XPuFvucclVQEyPqcpUkHR0ne1RQzPs0=</td>\n",
       "      <td>231781</td>\n",
       "      <td>465</td>\n",
       "      <td>SUPER JUNIOR</td>\n",
       "      <td>NaN</td>\n",
       "      <td>NaN</td>\n",
       "      <td>31.0</td>\n",
       "    </tr>\n",
       "    <tr>\n",
       "      <th>3</th>\n",
       "      <td>dKMBWoZyScdxSkihKG+Vf47nc18N9q4m58+b4e7dSSE=</td>\n",
       "      <td>273554</td>\n",
       "      <td>465</td>\n",
       "      <td>S.H.E</td>\n",
       "      <td>湯小康</td>\n",
       "      <td>徐世珍</td>\n",
       "      <td>3.0</td>\n",
       "    </tr>\n",
       "    <tr>\n",
       "      <th>4</th>\n",
       "      <td>W3bqWd3T+VeHFzHAUfARgW9AvVRaF4N5Yzm4Mr6Eo/o=</td>\n",
       "      <td>140329</td>\n",
       "      <td>726</td>\n",
       "      <td>貴族精選</td>\n",
       "      <td>Traditional</td>\n",
       "      <td>Traditional</td>\n",
       "      <td>52.0</td>\n",
       "    </tr>\n",
       "  </tbody>\n",
       "</table>\n",
       "</div>"
      ],
      "text/plain": [
       "                                        song_id  song_length genre_ids  \\\n",
       "0  CXoTN1eb7AI+DntdU1vbcwGRV4SCIDxZu+YD8JP8r4E=       247640       465   \n",
       "1  o0kFgae9QtnYgRkVPqLJwa05zIhRlUjfF7O1tDw0ZDU=       197328       444   \n",
       "2  DwVvVurfpuz+XPuFvucclVQEyPqcpUkHR0ne1RQzPs0=       231781       465   \n",
       "3  dKMBWoZyScdxSkihKG+Vf47nc18N9q4m58+b4e7dSSE=       273554       465   \n",
       "4  W3bqWd3T+VeHFzHAUfARgW9AvVRaF4N5Yzm4Mr6Eo/o=       140329       726   \n",
       "\n",
       "        artist_name                            composer     lyricist  language  \n",
       "0  張信哲 (Jeff Chang)                                  董貞          何啟弘       3.0  \n",
       "1         BLACKPINK  TEDDY|  FUTURE BOUNCE|  Bekuh BOOM        TEDDY      31.0  \n",
       "2      SUPER JUNIOR                                 NaN          NaN      31.0  \n",
       "3             S.H.E                                 湯小康          徐世珍       3.0  \n",
       "4              貴族精選                         Traditional  Traditional      52.0  "
      ]
     },
     "execution_count": 14,
     "metadata": {},
     "output_type": "execute_result"
    }
   ],
   "source": [
    "songs_df.head()"
   ]
  },
  {
   "cell_type": "code",
   "execution_count": 15,
   "metadata": {},
   "outputs": [
    {
     "data": {
      "text/html": [
       "<div>\n",
       "<style scoped>\n",
       "    .dataframe tbody tr th:only-of-type {\n",
       "        vertical-align: middle;\n",
       "    }\n",
       "\n",
       "    .dataframe tbody tr th {\n",
       "        vertical-align: top;\n",
       "    }\n",
       "\n",
       "    .dataframe thead th {\n",
       "        text-align: right;\n",
       "    }\n",
       "</style>\n",
       "<table border=\"1\" class=\"dataframe\">\n",
       "  <thead>\n",
       "    <tr style=\"text-align: right;\">\n",
       "      <th></th>\n",
       "      <th>id</th>\n",
       "      <th>msno</th>\n",
       "      <th>song_id</th>\n",
       "      <th>source_system_tab</th>\n",
       "      <th>source_screen_name</th>\n",
       "      <th>source_type</th>\n",
       "    </tr>\n",
       "  </thead>\n",
       "  <tbody>\n",
       "    <tr>\n",
       "      <th>0</th>\n",
       "      <td>0</td>\n",
       "      <td>V8ruy7SGk7tDm3zA51DPpn6qutt+vmKMBKa21dp54uM=</td>\n",
       "      <td>WmHKgKMlp1lQMecNdNvDMkvIycZYHnFwDT72I5sIssc=</td>\n",
       "      <td>my library</td>\n",
       "      <td>Local playlist more</td>\n",
       "      <td>local-library</td>\n",
       "    </tr>\n",
       "    <tr>\n",
       "      <th>1</th>\n",
       "      <td>1</td>\n",
       "      <td>V8ruy7SGk7tDm3zA51DPpn6qutt+vmKMBKa21dp54uM=</td>\n",
       "      <td>y/rsZ9DC7FwK5F2PK2D5mj+aOBUJAjuu3dZ14NgE0vM=</td>\n",
       "      <td>my library</td>\n",
       "      <td>Local playlist more</td>\n",
       "      <td>local-library</td>\n",
       "    </tr>\n",
       "    <tr>\n",
       "      <th>2</th>\n",
       "      <td>2</td>\n",
       "      <td>/uQAlrAkaczV+nWCd2sPF2ekvXPRipV7q0l+gbLuxjw=</td>\n",
       "      <td>8eZLFOdGVdXBSqoAv5nsLigeH2BvKXzTQYtUM53I0k4=</td>\n",
       "      <td>discover</td>\n",
       "      <td>NaN</td>\n",
       "      <td>song-based-playlist</td>\n",
       "    </tr>\n",
       "    <tr>\n",
       "      <th>3</th>\n",
       "      <td>3</td>\n",
       "      <td>1a6oo/iXKatxQx4eS9zTVD+KlSVaAFbTIqVvwLC1Y0k=</td>\n",
       "      <td>ztCf8thYsS4YN3GcIL/bvoxLm/T5mYBVKOO4C9NiVfQ=</td>\n",
       "      <td>radio</td>\n",
       "      <td>Radio</td>\n",
       "      <td>radio</td>\n",
       "    </tr>\n",
       "    <tr>\n",
       "      <th>4</th>\n",
       "      <td>4</td>\n",
       "      <td>1a6oo/iXKatxQx4eS9zTVD+KlSVaAFbTIqVvwLC1Y0k=</td>\n",
       "      <td>MKVMpslKcQhMaFEgcEQhEfi5+RZhMYlU3eRDpySrH8Y=</td>\n",
       "      <td>radio</td>\n",
       "      <td>Radio</td>\n",
       "      <td>radio</td>\n",
       "    </tr>\n",
       "  </tbody>\n",
       "</table>\n",
       "</div>"
      ],
      "text/plain": [
       "   id                                          msno  \\\n",
       "0   0  V8ruy7SGk7tDm3zA51DPpn6qutt+vmKMBKa21dp54uM=   \n",
       "1   1  V8ruy7SGk7tDm3zA51DPpn6qutt+vmKMBKa21dp54uM=   \n",
       "2   2  /uQAlrAkaczV+nWCd2sPF2ekvXPRipV7q0l+gbLuxjw=   \n",
       "3   3  1a6oo/iXKatxQx4eS9zTVD+KlSVaAFbTIqVvwLC1Y0k=   \n",
       "4   4  1a6oo/iXKatxQx4eS9zTVD+KlSVaAFbTIqVvwLC1Y0k=   \n",
       "\n",
       "                                        song_id source_system_tab  \\\n",
       "0  WmHKgKMlp1lQMecNdNvDMkvIycZYHnFwDT72I5sIssc=        my library   \n",
       "1  y/rsZ9DC7FwK5F2PK2D5mj+aOBUJAjuu3dZ14NgE0vM=        my library   \n",
       "2  8eZLFOdGVdXBSqoAv5nsLigeH2BvKXzTQYtUM53I0k4=          discover   \n",
       "3  ztCf8thYsS4YN3GcIL/bvoxLm/T5mYBVKOO4C9NiVfQ=             radio   \n",
       "4  MKVMpslKcQhMaFEgcEQhEfi5+RZhMYlU3eRDpySrH8Y=             radio   \n",
       "\n",
       "    source_screen_name          source_type  \n",
       "0  Local playlist more        local-library  \n",
       "1  Local playlist more        local-library  \n",
       "2                  NaN  song-based-playlist  \n",
       "3                Radio                radio  \n",
       "4                Radio                radio  "
      ]
     },
     "execution_count": 15,
     "metadata": {},
     "output_type": "execute_result"
    }
   ],
   "source": [
    "test_df.head()"
   ]
  },
  {
   "cell_type": "code",
   "execution_count": 16,
   "metadata": {},
   "outputs": [
    {
     "data": {
      "text/html": [
       "<div>\n",
       "<style scoped>\n",
       "    .dataframe tbody tr th:only-of-type {\n",
       "        vertical-align: middle;\n",
       "    }\n",
       "\n",
       "    .dataframe tbody tr th {\n",
       "        vertical-align: top;\n",
       "    }\n",
       "\n",
       "    .dataframe thead th {\n",
       "        text-align: right;\n",
       "    }\n",
       "</style>\n",
       "<table border=\"1\" class=\"dataframe\">\n",
       "  <thead>\n",
       "    <tr style=\"text-align: right;\">\n",
       "      <th></th>\n",
       "      <th>msno</th>\n",
       "      <th>city</th>\n",
       "      <th>bd</th>\n",
       "      <th>gender</th>\n",
       "      <th>registered_via</th>\n",
       "      <th>registration_init_time</th>\n",
       "      <th>expiration_date</th>\n",
       "    </tr>\n",
       "  </thead>\n",
       "  <tbody>\n",
       "    <tr>\n",
       "      <th>0</th>\n",
       "      <td>XQxgAYj3klVKjR3oxPPXYYFp4soD4TuBghkhMTD4oTw=</td>\n",
       "      <td>1</td>\n",
       "      <td>0</td>\n",
       "      <td>NaN</td>\n",
       "      <td>7</td>\n",
       "      <td>20110820</td>\n",
       "      <td>20170920</td>\n",
       "    </tr>\n",
       "    <tr>\n",
       "      <th>1</th>\n",
       "      <td>UizsfmJb9mV54qE9hCYyU07Va97c0lCRLEQX3ae+ztM=</td>\n",
       "      <td>1</td>\n",
       "      <td>0</td>\n",
       "      <td>NaN</td>\n",
       "      <td>7</td>\n",
       "      <td>20150628</td>\n",
       "      <td>20170622</td>\n",
       "    </tr>\n",
       "    <tr>\n",
       "      <th>2</th>\n",
       "      <td>D8nEhsIOBSoE6VthTaqDX8U6lqjJ7dLdr72mOyLya2A=</td>\n",
       "      <td>1</td>\n",
       "      <td>0</td>\n",
       "      <td>NaN</td>\n",
       "      <td>4</td>\n",
       "      <td>20160411</td>\n",
       "      <td>20170712</td>\n",
       "    </tr>\n",
       "    <tr>\n",
       "      <th>3</th>\n",
       "      <td>mCuD+tZ1hERA/o5GPqk38e041J8ZsBaLcu7nGoIIvhI=</td>\n",
       "      <td>1</td>\n",
       "      <td>0</td>\n",
       "      <td>NaN</td>\n",
       "      <td>9</td>\n",
       "      <td>20150906</td>\n",
       "      <td>20150907</td>\n",
       "    </tr>\n",
       "    <tr>\n",
       "      <th>4</th>\n",
       "      <td>q4HRBfVSssAFS9iRfxWrohxuk9kCYMKjHOEagUMV6rQ=</td>\n",
       "      <td>1</td>\n",
       "      <td>0</td>\n",
       "      <td>NaN</td>\n",
       "      <td>4</td>\n",
       "      <td>20170126</td>\n",
       "      <td>20170613</td>\n",
       "    </tr>\n",
       "  </tbody>\n",
       "</table>\n",
       "</div>"
      ],
      "text/plain": [
       "                                           msno  city  bd gender  \\\n",
       "0  XQxgAYj3klVKjR3oxPPXYYFp4soD4TuBghkhMTD4oTw=     1   0    NaN   \n",
       "1  UizsfmJb9mV54qE9hCYyU07Va97c0lCRLEQX3ae+ztM=     1   0    NaN   \n",
       "2  D8nEhsIOBSoE6VthTaqDX8U6lqjJ7dLdr72mOyLya2A=     1   0    NaN   \n",
       "3  mCuD+tZ1hERA/o5GPqk38e041J8ZsBaLcu7nGoIIvhI=     1   0    NaN   \n",
       "4  q4HRBfVSssAFS9iRfxWrohxuk9kCYMKjHOEagUMV6rQ=     1   0    NaN   \n",
       "\n",
       "   registered_via  registration_init_time  expiration_date  \n",
       "0               7                20110820         20170920  \n",
       "1               7                20150628         20170622  \n",
       "2               4                20160411         20170712  \n",
       "3               9                20150906         20150907  \n",
       "4               4                20170126         20170613  "
      ]
     },
     "execution_count": 16,
     "metadata": {},
     "output_type": "execute_result"
    }
   ],
   "source": [
    "members_df.head()"
   ]
  },
  {
   "cell_type": "code",
   "execution_count": 17,
   "metadata": {},
   "outputs": [
    {
     "data": {
      "text/html": [
       "<div>\n",
       "<style scoped>\n",
       "    .dataframe tbody tr th:only-of-type {\n",
       "        vertical-align: middle;\n",
       "    }\n",
       "\n",
       "    .dataframe tbody tr th {\n",
       "        vertical-align: top;\n",
       "    }\n",
       "\n",
       "    .dataframe thead th {\n",
       "        text-align: right;\n",
       "    }\n",
       "</style>\n",
       "<table border=\"1\" class=\"dataframe\">\n",
       "  <thead>\n",
       "    <tr style=\"text-align: right;\">\n",
       "      <th></th>\n",
       "      <th>song_id</th>\n",
       "      <th>name</th>\n",
       "      <th>isrc</th>\n",
       "    </tr>\n",
       "  </thead>\n",
       "  <tbody>\n",
       "    <tr>\n",
       "      <th>0</th>\n",
       "      <td>LP7pLJoJFBvyuUwvu+oLzjT+bI+UeBPURCecJsX1jjs=</td>\n",
       "      <td>我們</td>\n",
       "      <td>TWUM71200043</td>\n",
       "    </tr>\n",
       "    <tr>\n",
       "      <th>1</th>\n",
       "      <td>ClazTFnk6r0Bnuie44bocdNMM3rdlrq0bCGAsGUWcHE=</td>\n",
       "      <td>Let Me Love You</td>\n",
       "      <td>QMZSY1600015</td>\n",
       "    </tr>\n",
       "    <tr>\n",
       "      <th>2</th>\n",
       "      <td>u2ja/bZE3zhCGxvbbOB3zOoUjx27u40cf5g09UXMoKQ=</td>\n",
       "      <td>原諒我</td>\n",
       "      <td>TWA530887303</td>\n",
       "    </tr>\n",
       "    <tr>\n",
       "      <th>3</th>\n",
       "      <td>92Fqsy0+p6+RHe2EoLKjHahORHR1Kq1TBJoClW9v+Ts=</td>\n",
       "      <td>Classic</td>\n",
       "      <td>USSM11301446</td>\n",
       "    </tr>\n",
       "    <tr>\n",
       "      <th>4</th>\n",
       "      <td>0QFmz/+rJy1Q56C1DuYqT9hKKqi5TUqx0sN0IwvoHrw=</td>\n",
       "      <td>愛投羅網</td>\n",
       "      <td>TWA471306001</td>\n",
       "    </tr>\n",
       "  </tbody>\n",
       "</table>\n",
       "</div>"
      ],
      "text/plain": [
       "                                        song_id             name          isrc\n",
       "0  LP7pLJoJFBvyuUwvu+oLzjT+bI+UeBPURCecJsX1jjs=               我們  TWUM71200043\n",
       "1  ClazTFnk6r0Bnuie44bocdNMM3rdlrq0bCGAsGUWcHE=  Let Me Love You  QMZSY1600015\n",
       "2  u2ja/bZE3zhCGxvbbOB3zOoUjx27u40cf5g09UXMoKQ=              原諒我  TWA530887303\n",
       "3  92Fqsy0+p6+RHe2EoLKjHahORHR1Kq1TBJoClW9v+Ts=          Classic  USSM11301446\n",
       "4  0QFmz/+rJy1Q56C1DuYqT9hKKqi5TUqx0sN0IwvoHrw=             愛投羅網  TWA471306001"
      ]
     },
     "execution_count": 17,
     "metadata": {},
     "output_type": "execute_result"
    }
   ],
   "source": [
    "song_extra_info_df.head()"
   ]
  },
  {
   "cell_type": "code",
   "execution_count": 18,
   "metadata": {},
   "outputs": [
    {
     "data": {
      "text/html": [
       "<div>\n",
       "<style scoped>\n",
       "    .dataframe tbody tr th:only-of-type {\n",
       "        vertical-align: middle;\n",
       "    }\n",
       "\n",
       "    .dataframe tbody tr th {\n",
       "        vertical-align: top;\n",
       "    }\n",
       "\n",
       "    .dataframe thead th {\n",
       "        text-align: right;\n",
       "    }\n",
       "</style>\n",
       "<table border=\"1\" class=\"dataframe\">\n",
       "  <thead>\n",
       "    <tr style=\"text-align: right;\">\n",
       "      <th></th>\n",
       "      <th>id</th>\n",
       "      <th>target</th>\n",
       "    </tr>\n",
       "  </thead>\n",
       "  <tbody>\n",
       "    <tr>\n",
       "      <th>0</th>\n",
       "      <td>0</td>\n",
       "      <td>0.5</td>\n",
       "    </tr>\n",
       "    <tr>\n",
       "      <th>1</th>\n",
       "      <td>1</td>\n",
       "      <td>0.5</td>\n",
       "    </tr>\n",
       "    <tr>\n",
       "      <th>2</th>\n",
       "      <td>2</td>\n",
       "      <td>0.5</td>\n",
       "    </tr>\n",
       "    <tr>\n",
       "      <th>3</th>\n",
       "      <td>3</td>\n",
       "      <td>0.5</td>\n",
       "    </tr>\n",
       "    <tr>\n",
       "      <th>4</th>\n",
       "      <td>4</td>\n",
       "      <td>0.5</td>\n",
       "    </tr>\n",
       "  </tbody>\n",
       "</table>\n",
       "</div>"
      ],
      "text/plain": [
       "   id  target\n",
       "0   0     0.5\n",
       "1   1     0.5\n",
       "2   2     0.5\n",
       "3   3     0.5\n",
       "4   4     0.5"
      ]
     },
     "execution_count": 18,
     "metadata": {},
     "output_type": "execute_result"
    }
   ],
   "source": [
    "sample_submission_df.head()"
   ]
  },
  {
   "cell_type": "markdown",
   "metadata": {},
   "source": [
    "#### Data Preprocessing"
   ]
  },
  {
   "cell_type": "markdown",
   "metadata": {},
   "source": [
    "- Checking for null values"
   ]
  },
  {
   "cell_type": "code",
   "execution_count": 19,
   "metadata": {},
   "outputs": [
    {
     "data": {
      "text/plain": [
       "msno                    0\n",
       "song_id                 0\n",
       "source_system_tab      67\n",
       "source_screen_name    576\n",
       "source_type            50\n",
       "target                  0\n",
       "dtype: int64"
      ]
     },
     "execution_count": 19,
     "metadata": {},
     "output_type": "execute_result"
    }
   ],
   "source": [
    "train_df.isna().sum()"
   ]
  },
  {
   "cell_type": "markdown",
   "metadata": {},
   "source": [
    "- We'll use only msno and song_id attribute, so no missing values \n",
    "- Removing all attributes except msno and song_id"
   ]
  },
  {
   "cell_type": "code",
   "execution_count": 20,
   "metadata": {},
   "outputs": [
    {
     "data": {
      "text/html": [
       "<div>\n",
       "<style scoped>\n",
       "    .dataframe tbody tr th:only-of-type {\n",
       "        vertical-align: middle;\n",
       "    }\n",
       "\n",
       "    .dataframe tbody tr th {\n",
       "        vertical-align: top;\n",
       "    }\n",
       "\n",
       "    .dataframe thead th {\n",
       "        text-align: right;\n",
       "    }\n",
       "</style>\n",
       "<table border=\"1\" class=\"dataframe\">\n",
       "  <thead>\n",
       "    <tr style=\"text-align: right;\">\n",
       "      <th></th>\n",
       "      <th>msno</th>\n",
       "      <th>song_id</th>\n",
       "      <th>target</th>\n",
       "    </tr>\n",
       "  </thead>\n",
       "  <tbody>\n",
       "    <tr>\n",
       "      <th>0</th>\n",
       "      <td>FGtllVqz18RPiwJj/edr2gV78zirAiY/9SmYvia+kCg=</td>\n",
       "      <td>BBzumQNXUHKdEBOB7mAJuzok+IJA1c2Ryg/yzTF6tik=</td>\n",
       "      <td>1</td>\n",
       "    </tr>\n",
       "    <tr>\n",
       "      <th>1</th>\n",
       "      <td>Xumu+NIjS6QYVxDS4/t3SawvJ7viT9hPKXmf0RtLNx8=</td>\n",
       "      <td>bhp/MpSNoqoxOIB+/l8WPqu6jldth4DIpCm3ayXnJqM=</td>\n",
       "      <td>1</td>\n",
       "    </tr>\n",
       "    <tr>\n",
       "      <th>2</th>\n",
       "      <td>Xumu+NIjS6QYVxDS4/t3SawvJ7viT9hPKXmf0RtLNx8=</td>\n",
       "      <td>JNWfrrC7zNN7BdMpsISKa4Mw+xVJYNnxXh3/Epw7QgY=</td>\n",
       "      <td>1</td>\n",
       "    </tr>\n",
       "    <tr>\n",
       "      <th>3</th>\n",
       "      <td>Xumu+NIjS6QYVxDS4/t3SawvJ7viT9hPKXmf0RtLNx8=</td>\n",
       "      <td>2A87tzfnJTSWqD7gIZHisolhe4DMdzkbd6LzO1KHjNs=</td>\n",
       "      <td>1</td>\n",
       "    </tr>\n",
       "    <tr>\n",
       "      <th>4</th>\n",
       "      <td>FGtllVqz18RPiwJj/edr2gV78zirAiY/9SmYvia+kCg=</td>\n",
       "      <td>3qm6XTZ6MOCU11x8FIVbAGH5l5uMkT3/ZalWG1oo2Gc=</td>\n",
       "      <td>1</td>\n",
       "    </tr>\n",
       "  </tbody>\n",
       "</table>\n",
       "</div>"
      ],
      "text/plain": [
       "                                           msno  \\\n",
       "0  FGtllVqz18RPiwJj/edr2gV78zirAiY/9SmYvia+kCg=   \n",
       "1  Xumu+NIjS6QYVxDS4/t3SawvJ7viT9hPKXmf0RtLNx8=   \n",
       "2  Xumu+NIjS6QYVxDS4/t3SawvJ7viT9hPKXmf0RtLNx8=   \n",
       "3  Xumu+NIjS6QYVxDS4/t3SawvJ7viT9hPKXmf0RtLNx8=   \n",
       "4  FGtllVqz18RPiwJj/edr2gV78zirAiY/9SmYvia+kCg=   \n",
       "\n",
       "                                        song_id  target  \n",
       "0  BBzumQNXUHKdEBOB7mAJuzok+IJA1c2Ryg/yzTF6tik=       1  \n",
       "1  bhp/MpSNoqoxOIB+/l8WPqu6jldth4DIpCm3ayXnJqM=       1  \n",
       "2  JNWfrrC7zNN7BdMpsISKa4Mw+xVJYNnxXh3/Epw7QgY=       1  \n",
       "3  2A87tzfnJTSWqD7gIZHisolhe4DMdzkbd6LzO1KHjNs=       1  \n",
       "4  3qm6XTZ6MOCU11x8FIVbAGH5l5uMkT3/ZalWG1oo2Gc=       1  "
      ]
     },
     "execution_count": 20,
     "metadata": {},
     "output_type": "execute_result"
    }
   ],
   "source": [
    "train_df=train_df.drop(['source_system_tab','source_screen_name','source_type'],axis=1)\n",
    "train_df.head()"
   ]
  },
  {
   "cell_type": "markdown",
   "metadata": {},
   "source": [
    "- Renaming msno as user_id"
   ]
  },
  {
   "cell_type": "code",
   "execution_count": 21,
   "metadata": {},
   "outputs": [
    {
     "data": {
      "text/html": [
       "<div>\n",
       "<style scoped>\n",
       "    .dataframe tbody tr th:only-of-type {\n",
       "        vertical-align: middle;\n",
       "    }\n",
       "\n",
       "    .dataframe tbody tr th {\n",
       "        vertical-align: top;\n",
       "    }\n",
       "\n",
       "    .dataframe thead th {\n",
       "        text-align: right;\n",
       "    }\n",
       "</style>\n",
       "<table border=\"1\" class=\"dataframe\">\n",
       "  <thead>\n",
       "    <tr style=\"text-align: right;\">\n",
       "      <th></th>\n",
       "      <th>user_id</th>\n",
       "      <th>song_id</th>\n",
       "      <th>target</th>\n",
       "    </tr>\n",
       "  </thead>\n",
       "  <tbody>\n",
       "    <tr>\n",
       "      <th>0</th>\n",
       "      <td>FGtllVqz18RPiwJj/edr2gV78zirAiY/9SmYvia+kCg=</td>\n",
       "      <td>BBzumQNXUHKdEBOB7mAJuzok+IJA1c2Ryg/yzTF6tik=</td>\n",
       "      <td>1</td>\n",
       "    </tr>\n",
       "    <tr>\n",
       "      <th>1</th>\n",
       "      <td>Xumu+NIjS6QYVxDS4/t3SawvJ7viT9hPKXmf0RtLNx8=</td>\n",
       "      <td>bhp/MpSNoqoxOIB+/l8WPqu6jldth4DIpCm3ayXnJqM=</td>\n",
       "      <td>1</td>\n",
       "    </tr>\n",
       "    <tr>\n",
       "      <th>2</th>\n",
       "      <td>Xumu+NIjS6QYVxDS4/t3SawvJ7viT9hPKXmf0RtLNx8=</td>\n",
       "      <td>JNWfrrC7zNN7BdMpsISKa4Mw+xVJYNnxXh3/Epw7QgY=</td>\n",
       "      <td>1</td>\n",
       "    </tr>\n",
       "    <tr>\n",
       "      <th>3</th>\n",
       "      <td>Xumu+NIjS6QYVxDS4/t3SawvJ7viT9hPKXmf0RtLNx8=</td>\n",
       "      <td>2A87tzfnJTSWqD7gIZHisolhe4DMdzkbd6LzO1KHjNs=</td>\n",
       "      <td>1</td>\n",
       "    </tr>\n",
       "    <tr>\n",
       "      <th>4</th>\n",
       "      <td>FGtllVqz18RPiwJj/edr2gV78zirAiY/9SmYvia+kCg=</td>\n",
       "      <td>3qm6XTZ6MOCU11x8FIVbAGH5l5uMkT3/ZalWG1oo2Gc=</td>\n",
       "      <td>1</td>\n",
       "    </tr>\n",
       "  </tbody>\n",
       "</table>\n",
       "</div>"
      ],
      "text/plain": [
       "                                        user_id  \\\n",
       "0  FGtllVqz18RPiwJj/edr2gV78zirAiY/9SmYvia+kCg=   \n",
       "1  Xumu+NIjS6QYVxDS4/t3SawvJ7viT9hPKXmf0RtLNx8=   \n",
       "2  Xumu+NIjS6QYVxDS4/t3SawvJ7viT9hPKXmf0RtLNx8=   \n",
       "3  Xumu+NIjS6QYVxDS4/t3SawvJ7viT9hPKXmf0RtLNx8=   \n",
       "4  FGtllVqz18RPiwJj/edr2gV78zirAiY/9SmYvia+kCg=   \n",
       "\n",
       "                                        song_id  target  \n",
       "0  BBzumQNXUHKdEBOB7mAJuzok+IJA1c2Ryg/yzTF6tik=       1  \n",
       "1  bhp/MpSNoqoxOIB+/l8WPqu6jldth4DIpCm3ayXnJqM=       1  \n",
       "2  JNWfrrC7zNN7BdMpsISKa4Mw+xVJYNnxXh3/Epw7QgY=       1  \n",
       "3  2A87tzfnJTSWqD7gIZHisolhe4DMdzkbd6LzO1KHjNs=       1  \n",
       "4  3qm6XTZ6MOCU11x8FIVbAGH5l5uMkT3/ZalWG1oo2Gc=       1  "
      ]
     },
     "execution_count": 21,
     "metadata": {},
     "output_type": "execute_result"
    }
   ],
   "source": [
    "train_df.rename(columns={'msno':'user_id'},inplace=True)\n",
    "train_df.head()"
   ]
  },
  {
   "cell_type": "code",
   "execution_count": 22,
   "metadata": {},
   "outputs": [
    {
     "data": {
      "text/plain": [
       "(20000, 3)"
      ]
     },
     "execution_count": 22,
     "metadata": {},
     "output_type": "execute_result"
    }
   ],
   "source": [
    "train_df.shape"
   ]
  },
  {
   "cell_type": "code",
   "execution_count": 23,
   "metadata": {},
   "outputs": [
    {
     "data": {
      "text/plain": [
       "song_id            0\n",
       "song_length        0\n",
       "genre_ids        346\n",
       "artist_name        0\n",
       "composer        8382\n",
       "lyricist       14332\n",
       "language           0\n",
       "dtype: int64"
      ]
     },
     "execution_count": 23,
     "metadata": {},
     "output_type": "execute_result"
    }
   ],
   "source": [
    "songs_df.isna().sum()"
   ]
  },
  {
   "cell_type": "code",
   "execution_count": 24,
   "metadata": {},
   "outputs": [
    {
     "name": "stdout",
     "output_type": "stream",
     "text": [
      "<class 'pandas.core.frame.DataFrame'>\n",
      "RangeIndex: 20000 entries, 0 to 19999\n",
      "Data columns (total 7 columns):\n",
      " #   Column       Non-Null Count  Dtype  \n",
      "---  ------       --------------  -----  \n",
      " 0   song_id      20000 non-null  object \n",
      " 1   song_length  20000 non-null  int64  \n",
      " 2   genre_ids    19654 non-null  object \n",
      " 3   artist_name  20000 non-null  object \n",
      " 4   composer     11618 non-null  object \n",
      " 5   lyricist     5668 non-null   object \n",
      " 6   language     20000 non-null  float64\n",
      "dtypes: float64(1), int64(1), object(5)\n",
      "memory usage: 1.1+ MB\n"
     ]
    }
   ],
   "source": [
    "songs_df.info()"
   ]
  },
  {
   "cell_type": "markdown",
   "metadata": {},
   "source": [
    "- Filling the missing values"
   ]
  },
  {
   "cell_type": "code",
   "execution_count": 25,
   "metadata": {},
   "outputs": [],
   "source": [
    "songs_df['genre_ids'].fillna(' ',inplace=True)\n",
    "songs_df['composer'].fillna(' ',inplace=True)\n",
    "songs_df['lyricist'].fillna(' ',inplace=True)"
   ]
  },
  {
   "cell_type": "markdown",
   "metadata": {},
   "source": [
    "- We'll use all attributes except song_length and language"
   ]
  },
  {
   "cell_type": "code",
   "execution_count": 26,
   "metadata": {},
   "outputs": [
    {
     "data": {
      "text/plain": [
       "song_id        0\n",
       "song_length    0\n",
       "genre_ids      0\n",
       "artist_name    0\n",
       "composer       0\n",
       "lyricist       0\n",
       "language       0\n",
       "dtype: int64"
      ]
     },
     "execution_count": 26,
     "metadata": {},
     "output_type": "execute_result"
    }
   ],
   "source": [
    "songs_df.isnull().sum()"
   ]
  },
  {
   "cell_type": "code",
   "execution_count": 27,
   "metadata": {},
   "outputs": [
    {
     "data": {
      "text/plain": [
       "song_id         0\n",
       "name            2\n",
       "isrc       136548\n",
       "dtype: int64"
      ]
     },
     "execution_count": 27,
     "metadata": {},
     "output_type": "execute_result"
    }
   ],
   "source": [
    "song_extra_info_df.isna().sum()"
   ]
  },
  {
   "cell_type": "markdown",
   "metadata": {},
   "source": [
    "- We'll not use isrc attribute in our main dataset so, no need to clean it\n"
   ]
  },
  {
   "cell_type": "code",
   "execution_count": 28,
   "metadata": {},
   "outputs": [
    {
     "data": {
      "text/html": [
       "<div>\n",
       "<style scoped>\n",
       "    .dataframe tbody tr th:only-of-type {\n",
       "        vertical-align: middle;\n",
       "    }\n",
       "\n",
       "    .dataframe tbody tr th {\n",
       "        vertical-align: top;\n",
       "    }\n",
       "\n",
       "    .dataframe thead th {\n",
       "        text-align: right;\n",
       "    }\n",
       "</style>\n",
       "<table border=\"1\" class=\"dataframe\">\n",
       "  <thead>\n",
       "    <tr style=\"text-align: right;\">\n",
       "      <th></th>\n",
       "      <th>user_id</th>\n",
       "      <th>song_id</th>\n",
       "      <th>target</th>\n",
       "    </tr>\n",
       "  </thead>\n",
       "  <tbody>\n",
       "    <tr>\n",
       "      <th>0</th>\n",
       "      <td>FGtllVqz18RPiwJj/edr2gV78zirAiY/9SmYvia+kCg=</td>\n",
       "      <td>BBzumQNXUHKdEBOB7mAJuzok+IJA1c2Ryg/yzTF6tik=</td>\n",
       "      <td>1</td>\n",
       "    </tr>\n",
       "    <tr>\n",
       "      <th>1</th>\n",
       "      <td>Xumu+NIjS6QYVxDS4/t3SawvJ7viT9hPKXmf0RtLNx8=</td>\n",
       "      <td>bhp/MpSNoqoxOIB+/l8WPqu6jldth4DIpCm3ayXnJqM=</td>\n",
       "      <td>1</td>\n",
       "    </tr>\n",
       "    <tr>\n",
       "      <th>2</th>\n",
       "      <td>Xumu+NIjS6QYVxDS4/t3SawvJ7viT9hPKXmf0RtLNx8=</td>\n",
       "      <td>JNWfrrC7zNN7BdMpsISKa4Mw+xVJYNnxXh3/Epw7QgY=</td>\n",
       "      <td>1</td>\n",
       "    </tr>\n",
       "    <tr>\n",
       "      <th>3</th>\n",
       "      <td>Xumu+NIjS6QYVxDS4/t3SawvJ7viT9hPKXmf0RtLNx8=</td>\n",
       "      <td>2A87tzfnJTSWqD7gIZHisolhe4DMdzkbd6LzO1KHjNs=</td>\n",
       "      <td>1</td>\n",
       "    </tr>\n",
       "    <tr>\n",
       "      <th>4</th>\n",
       "      <td>FGtllVqz18RPiwJj/edr2gV78zirAiY/9SmYvia+kCg=</td>\n",
       "      <td>3qm6XTZ6MOCU11x8FIVbAGH5l5uMkT3/ZalWG1oo2Gc=</td>\n",
       "      <td>1</td>\n",
       "    </tr>\n",
       "  </tbody>\n",
       "</table>\n",
       "</div>"
      ],
      "text/plain": [
       "                                        user_id  \\\n",
       "0  FGtllVqz18RPiwJj/edr2gV78zirAiY/9SmYvia+kCg=   \n",
       "1  Xumu+NIjS6QYVxDS4/t3SawvJ7viT9hPKXmf0RtLNx8=   \n",
       "2  Xumu+NIjS6QYVxDS4/t3SawvJ7viT9hPKXmf0RtLNx8=   \n",
       "3  Xumu+NIjS6QYVxDS4/t3SawvJ7viT9hPKXmf0RtLNx8=   \n",
       "4  FGtllVqz18RPiwJj/edr2gV78zirAiY/9SmYvia+kCg=   \n",
       "\n",
       "                                        song_id  target  \n",
       "0  BBzumQNXUHKdEBOB7mAJuzok+IJA1c2Ryg/yzTF6tik=       1  \n",
       "1  bhp/MpSNoqoxOIB+/l8WPqu6jldth4DIpCm3ayXnJqM=       1  \n",
       "2  JNWfrrC7zNN7BdMpsISKa4Mw+xVJYNnxXh3/Epw7QgY=       1  \n",
       "3  2A87tzfnJTSWqD7gIZHisolhe4DMdzkbd6LzO1KHjNs=       1  \n",
       "4  3qm6XTZ6MOCU11x8FIVbAGH5l5uMkT3/ZalWG1oo2Gc=       1  "
      ]
     },
     "execution_count": 28,
     "metadata": {},
     "output_type": "execute_result"
    }
   ],
   "source": [
    "train_df.head()"
   ]
  },
  {
   "cell_type": "code",
   "execution_count": 83,
   "metadata": {},
   "outputs": [
    {
     "data": {
      "image/png": "[encoded data removed]",
      "text/plain": [
       "<Figure size 432x288 with 1 Axes>"
      ]
     },
     "metadata": {
      "needs_background": "light"
     },
     "output_type": "display_data"
    }
   ],
   "source": [
    "# Explore the target variable distribution\n",
    "sns.countplot(x='target', data=train_df)\n",
    "plt.title('Target Variable Distribution')\n",
    "plt.show()\n",
    "\n"
   ]
  },
  {
   "cell_type": "code",
   "execution_count": 88,
   "metadata": {},
   "outputs": [
    {
     "data": {
      "text/html": [
       "<div>\n",
       "<style scoped>\n",
       "    .dataframe tbody tr th:only-of-type {\n",
       "        vertical-align: middle;\n",
       "    }\n",
       "\n",
       "    .dataframe tbody tr th {\n",
       "        vertical-align: top;\n",
       "    }\n",
       "\n",
       "    .dataframe thead th {\n",
       "        text-align: right;\n",
       "    }\n",
       "</style>\n",
       "<table border=\"1\" class=\"dataframe\">\n",
       "  <thead>\n",
       "    <tr style=\"text-align: right;\">\n",
       "      <th></th>\n",
       "      <th>song_id</th>\n",
       "      <th>song_length</th>\n",
       "      <th>genre_ids</th>\n",
       "      <th>artist_name</th>\n",
       "      <th>composer</th>\n",
       "      <th>lyricist</th>\n",
       "      <th>language</th>\n",
       "    </tr>\n",
       "  </thead>\n",
       "  <tbody>\n",
       "    <tr>\n",
       "      <th>0</th>\n",
       "      <td>CXoTN1eb7AI+DntdU1vbcwGRV4SCIDxZu+YD8JP8r4E=</td>\n",
       "      <td>247640</td>\n",
       "      <td>465</td>\n",
       "      <td>張信哲 (Jeff Chang)</td>\n",
       "      <td>董貞</td>\n",
       "      <td>何啟弘</td>\n",
       "      <td>3.0</td>\n",
       "    </tr>\n",
       "    <tr>\n",
       "      <th>1</th>\n",
       "      <td>o0kFgae9QtnYgRkVPqLJwa05zIhRlUjfF7O1tDw0ZDU=</td>\n",
       "      <td>197328</td>\n",
       "      <td>444</td>\n",
       "      <td>BLACKPINK</td>\n",
       "      <td>TEDDY|  FUTURE BOUNCE|  Bekuh BOOM</td>\n",
       "      <td>TEDDY</td>\n",
       "      <td>31.0</td>\n",
       "    </tr>\n",
       "    <tr>\n",
       "      <th>2</th>\n",
       "      <td>DwVvVurfpuz+XPuFvucclVQEyPqcpUkHR0ne1RQzPs0=</td>\n",
       "      <td>231781</td>\n",
       "      <td>465</td>\n",
       "      <td>SUPER JUNIOR</td>\n",
       "      <td></td>\n",
       "      <td></td>\n",
       "      <td>31.0</td>\n",
       "    </tr>\n",
       "    <tr>\n",
       "      <th>3</th>\n",
       "      <td>dKMBWoZyScdxSkihKG+Vf47nc18N9q4m58+b4e7dSSE=</td>\n",
       "      <td>273554</td>\n",
       "      <td>465</td>\n",
       "      <td>S.H.E</td>\n",
       "      <td>湯小康</td>\n",
       "      <td>徐世珍</td>\n",
       "      <td>3.0</td>\n",
       "    </tr>\n",
       "    <tr>\n",
       "      <th>4</th>\n",
       "      <td>W3bqWd3T+VeHFzHAUfARgW9AvVRaF4N5Yzm4Mr6Eo/o=</td>\n",
       "      <td>140329</td>\n",
       "      <td>726</td>\n",
       "      <td>貴族精選</td>\n",
       "      <td>Traditional</td>\n",
       "      <td>Traditional</td>\n",
       "      <td>52.0</td>\n",
       "    </tr>\n",
       "  </tbody>\n",
       "</table>\n",
       "</div>"
      ],
      "text/plain": [
       "                                        song_id  song_length genre_ids  \\\n",
       "0  CXoTN1eb7AI+DntdU1vbcwGRV4SCIDxZu+YD8JP8r4E=       247640       465   \n",
       "1  o0kFgae9QtnYgRkVPqLJwa05zIhRlUjfF7O1tDw0ZDU=       197328       444   \n",
       "2  DwVvVurfpuz+XPuFvucclVQEyPqcpUkHR0ne1RQzPs0=       231781       465   \n",
       "3  dKMBWoZyScdxSkihKG+Vf47nc18N9q4m58+b4e7dSSE=       273554       465   \n",
       "4  W3bqWd3T+VeHFzHAUfARgW9AvVRaF4N5Yzm4Mr6Eo/o=       140329       726   \n",
       "\n",
       "        artist_name                            composer     lyricist  language  \n",
       "0  張信哲 (Jeff Chang)                                  董貞          何啟弘       3.0  \n",
       "1         BLACKPINK  TEDDY|  FUTURE BOUNCE|  Bekuh BOOM        TEDDY      31.0  \n",
       "2      SUPER JUNIOR                                                       31.0  \n",
       "3             S.H.E                                 湯小康          徐世珍       3.0  \n",
       "4              貴族精選                         Traditional  Traditional      52.0  "
      ]
     },
     "execution_count": 88,
     "metadata": {},
     "output_type": "execute_result"
    }
   ],
   "source": [
    "songs_df.head()"
   ]
  },
  {
   "cell_type": "code",
   "execution_count": 86,
   "metadata": {},
   "outputs": [
    {
     "data": {
      "image/png": "[encoded data removed]",
      "text/plain": [
       "<Figure size 432x288 with 1 Axes>"
      ]
     },
     "metadata": {
      "needs_background": "light"
     },
     "output_type": "display_data"
    }
   ],
   "source": [
    "# Explore the distribution of song lengths in songs_df\n",
    "sns.histplot(songs_df['song_length'], bins=20)\n",
    "plt.title('Song Length Distribution')\n",
    "plt.show()"
   ]
  },
  {
   "cell_type": "code",
   "execution_count": 87,
   "metadata": {},
   "outputs": [
    {
     "data": {
      "image/png": "[encoded data removed]",
      "text/plain": [
       "<Figure size 432x288 with 1 Axes>"
      ]
     },
     "metadata": {
      "needs_background": "light"
     },
     "output_type": "display_data"
    }
   ],
   "source": [
    "# Explore the distribution of language in songs_df\n",
    "sns.countplot(x='language', data=songs_df)\n",
    "plt.title('Language Distribution')\n",
    "plt.show()"
   ]
  },
  {
   "cell_type": "markdown",
   "metadata": {},
   "source": [
    "#### Preparing Main Dataset\n",
    "- Creating new dataframe main_df by merging train_df and songs_df"
   ]
  },
  {
   "cell_type": "code",
   "execution_count": 30,
   "metadata": {},
   "outputs": [
    {
     "data": {
      "text/html": [
       "<div>\n",
       "<style scoped>\n",
       "    .dataframe tbody tr th:only-of-type {\n",
       "        vertical-align: middle;\n",
       "    }\n",
       "\n",
       "    .dataframe tbody tr th {\n",
       "        vertical-align: top;\n",
       "    }\n",
       "\n",
       "    .dataframe thead th {\n",
       "        text-align: right;\n",
       "    }\n",
       "</style>\n",
       "<table border=\"1\" class=\"dataframe\">\n",
       "  <thead>\n",
       "    <tr style=\"text-align: right;\">\n",
       "      <th></th>\n",
       "      <th>user_id</th>\n",
       "      <th>song_id</th>\n",
       "      <th>target</th>\n",
       "    </tr>\n",
       "  </thead>\n",
       "  <tbody>\n",
       "    <tr>\n",
       "      <th>0</th>\n",
       "      <td>FGtllVqz18RPiwJj/edr2gV78zirAiY/9SmYvia+kCg=</td>\n",
       "      <td>BBzumQNXUHKdEBOB7mAJuzok+IJA1c2Ryg/yzTF6tik=</td>\n",
       "      <td>1</td>\n",
       "    </tr>\n",
       "    <tr>\n",
       "      <th>1</th>\n",
       "      <td>Xumu+NIjS6QYVxDS4/t3SawvJ7viT9hPKXmf0RtLNx8=</td>\n",
       "      <td>bhp/MpSNoqoxOIB+/l8WPqu6jldth4DIpCm3ayXnJqM=</td>\n",
       "      <td>1</td>\n",
       "    </tr>\n",
       "    <tr>\n",
       "      <th>2</th>\n",
       "      <td>Xumu+NIjS6QYVxDS4/t3SawvJ7viT9hPKXmf0RtLNx8=</td>\n",
       "      <td>JNWfrrC7zNN7BdMpsISKa4Mw+xVJYNnxXh3/Epw7QgY=</td>\n",
       "      <td>1</td>\n",
       "    </tr>\n",
       "    <tr>\n",
       "      <th>3</th>\n",
       "      <td>Xumu+NIjS6QYVxDS4/t3SawvJ7viT9hPKXmf0RtLNx8=</td>\n",
       "      <td>2A87tzfnJTSWqD7gIZHisolhe4DMdzkbd6LzO1KHjNs=</td>\n",
       "      <td>1</td>\n",
       "    </tr>\n",
       "    <tr>\n",
       "      <th>4</th>\n",
       "      <td>FGtllVqz18RPiwJj/edr2gV78zirAiY/9SmYvia+kCg=</td>\n",
       "      <td>3qm6XTZ6MOCU11x8FIVbAGH5l5uMkT3/ZalWG1oo2Gc=</td>\n",
       "      <td>1</td>\n",
       "    </tr>\n",
       "  </tbody>\n",
       "</table>\n",
       "</div>"
      ],
      "text/plain": [
       "                                        user_id  \\\n",
       "0  FGtllVqz18RPiwJj/edr2gV78zirAiY/9SmYvia+kCg=   \n",
       "1  Xumu+NIjS6QYVxDS4/t3SawvJ7viT9hPKXmf0RtLNx8=   \n",
       "2  Xumu+NIjS6QYVxDS4/t3SawvJ7viT9hPKXmf0RtLNx8=   \n",
       "3  Xumu+NIjS6QYVxDS4/t3SawvJ7viT9hPKXmf0RtLNx8=   \n",
       "4  FGtllVqz18RPiwJj/edr2gV78zirAiY/9SmYvia+kCg=   \n",
       "\n",
       "                                        song_id  target  \n",
       "0  BBzumQNXUHKdEBOB7mAJuzok+IJA1c2Ryg/yzTF6tik=       1  \n",
       "1  bhp/MpSNoqoxOIB+/l8WPqu6jldth4DIpCm3ayXnJqM=       1  \n",
       "2  JNWfrrC7zNN7BdMpsISKa4Mw+xVJYNnxXh3/Epw7QgY=       1  \n",
       "3  2A87tzfnJTSWqD7gIZHisolhe4DMdzkbd6LzO1KHjNs=       1  \n",
       "4  3qm6XTZ6MOCU11x8FIVbAGH5l5uMkT3/ZalWG1oo2Gc=       1  "
      ]
     },
     "execution_count": 30,
     "metadata": {},
     "output_type": "execute_result"
    }
   ],
   "source": [
    "main_df = train_df\n",
    "main_df.head()"
   ]
  },
  {
   "cell_type": "markdown",
   "metadata": {},
   "source": [
    "- Merging main_df and song_df\n"
   ]
  },
  {
   "cell_type": "code",
   "execution_count": 31,
   "metadata": {},
   "outputs": [],
   "source": [
    "main_df = main_df.merge(songs_df, on='song_id')"
   ]
  },
  {
   "cell_type": "code",
   "execution_count": 32,
   "metadata": {},
   "outputs": [
    {
     "data": {
      "text/html": [
       "<div>\n",
       "<style scoped>\n",
       "    .dataframe tbody tr th:only-of-type {\n",
       "        vertical-align: middle;\n",
       "    }\n",
       "\n",
       "    .dataframe tbody tr th {\n",
       "        vertical-align: top;\n",
       "    }\n",
       "\n",
       "    .dataframe thead th {\n",
       "        text-align: right;\n",
       "    }\n",
       "</style>\n",
       "<table border=\"1\" class=\"dataframe\">\n",
       "  <thead>\n",
       "    <tr style=\"text-align: right;\">\n",
       "      <th></th>\n",
       "      <th>user_id</th>\n",
       "      <th>song_id</th>\n",
       "      <th>target</th>\n",
       "      <th>song_length</th>\n",
       "      <th>genre_ids</th>\n",
       "      <th>artist_name</th>\n",
       "      <th>composer</th>\n",
       "      <th>lyricist</th>\n",
       "      <th>language</th>\n",
       "    </tr>\n",
       "  </thead>\n",
       "  <tbody>\n",
       "    <tr>\n",
       "      <th>0</th>\n",
       "      <td>FGtllVqz18RPiwJj/edr2gV78zirAiY/9SmYvia+kCg=</td>\n",
       "      <td>3Hg5kugV1S0wzEVLAEfqjIV5UHzb7bCrdBRQlGygLvU=</td>\n",
       "      <td>1</td>\n",
       "      <td>247803</td>\n",
       "      <td>1259</td>\n",
       "      <td>Desiigner</td>\n",
       "      <td>Sidney Selby| Adnan Khan</td>\n",
       "      <td></td>\n",
       "      <td>52.0</td>\n",
       "    </tr>\n",
       "    <tr>\n",
       "      <th>1</th>\n",
       "      <td>hZyOA+0yqClPLt6uIEndf8fG8szH/95eKMbaxLE5z30=</td>\n",
       "      <td>3Hg5kugV1S0wzEVLAEfqjIV5UHzb7bCrdBRQlGygLvU=</td>\n",
       "      <td>1</td>\n",
       "      <td>247803</td>\n",
       "      <td>1259</td>\n",
       "      <td>Desiigner</td>\n",
       "      <td>Sidney Selby| Adnan Khan</td>\n",
       "      <td></td>\n",
       "      <td>52.0</td>\n",
       "    </tr>\n",
       "    <tr>\n",
       "      <th>2</th>\n",
       "      <td>0LhkakIQDn36HZXI6ClQSO7W7jkpZAy+9MvYgPOZGrA=</td>\n",
       "      <td>skehue/d/R59G71dXYpntDwdjRRPlweN3JE8g40TgZU=</td>\n",
       "      <td>1</td>\n",
       "      <td>249443</td>\n",
       "      <td>458</td>\n",
       "      <td>莊心妍</td>\n",
       "      <td>鄭建浩</td>\n",
       "      <td>鄭建浩</td>\n",
       "      <td>3.0</td>\n",
       "    </tr>\n",
       "    <tr>\n",
       "      <th>3</th>\n",
       "      <td>MofmAMt7P8LIcF4+LLlcjyIhYUzmv13L/LRwYFxiGYE=</td>\n",
       "      <td>skehue/d/R59G71dXYpntDwdjRRPlweN3JE8g40TgZU=</td>\n",
       "      <td>1</td>\n",
       "      <td>249443</td>\n",
       "      <td>458</td>\n",
       "      <td>莊心妍</td>\n",
       "      <td>鄭建浩</td>\n",
       "      <td>鄭建浩</td>\n",
       "      <td>3.0</td>\n",
       "    </tr>\n",
       "    <tr>\n",
       "      <th>4</th>\n",
       "      <td>U9Z+N+szYGJHTPMn/C0V7yIyIC24fDI0RDRWChXATkg=</td>\n",
       "      <td>skehue/d/R59G71dXYpntDwdjRRPlweN3JE8g40TgZU=</td>\n",
       "      <td>0</td>\n",
       "      <td>249443</td>\n",
       "      <td>458</td>\n",
       "      <td>莊心妍</td>\n",
       "      <td>鄭建浩</td>\n",
       "      <td>鄭建浩</td>\n",
       "      <td>3.0</td>\n",
       "    </tr>\n",
       "  </tbody>\n",
       "</table>\n",
       "</div>"
      ],
      "text/plain": [
       "                                        user_id  \\\n",
       "0  FGtllVqz18RPiwJj/edr2gV78zirAiY/9SmYvia+kCg=   \n",
       "1  hZyOA+0yqClPLt6uIEndf8fG8szH/95eKMbaxLE5z30=   \n",
       "2  0LhkakIQDn36HZXI6ClQSO7W7jkpZAy+9MvYgPOZGrA=   \n",
       "3  MofmAMt7P8LIcF4+LLlcjyIhYUzmv13L/LRwYFxiGYE=   \n",
       "4  U9Z+N+szYGJHTPMn/C0V7yIyIC24fDI0RDRWChXATkg=   \n",
       "\n",
       "                                        song_id  target  song_length  \\\n",
       "0  3Hg5kugV1S0wzEVLAEfqjIV5UHzb7bCrdBRQlGygLvU=       1       247803   \n",
       "1  3Hg5kugV1S0wzEVLAEfqjIV5UHzb7bCrdBRQlGygLvU=       1       247803   \n",
       "2  skehue/d/R59G71dXYpntDwdjRRPlweN3JE8g40TgZU=       1       249443   \n",
       "3  skehue/d/R59G71dXYpntDwdjRRPlweN3JE8g40TgZU=       1       249443   \n",
       "4  skehue/d/R59G71dXYpntDwdjRRPlweN3JE8g40TgZU=       0       249443   \n",
       "\n",
       "  genre_ids artist_name                  composer lyricist  language  \n",
       "0      1259   Desiigner  Sidney Selby| Adnan Khan               52.0  \n",
       "1      1259   Desiigner  Sidney Selby| Adnan Khan               52.0  \n",
       "2       458         莊心妍                       鄭建浩      鄭建浩       3.0  \n",
       "3       458         莊心妍                       鄭建浩      鄭建浩       3.0  \n",
       "4       458         莊心妍                       鄭建浩      鄭建浩       3.0  "
      ]
     },
     "execution_count": 32,
     "metadata": {},
     "output_type": "execute_result"
    }
   ],
   "source": [
    "main_df.head()"
   ]
  },
  {
   "cell_type": "markdown",
   "metadata": {},
   "source": [
    "- Dropping song_length and language columns"
   ]
  },
  {
   "cell_type": "code",
   "execution_count": 33,
   "metadata": {},
   "outputs": [
    {
     "data": {
      "text/html": [
       "<div>\n",
       "<style scoped>\n",
       "    .dataframe tbody tr th:only-of-type {\n",
       "        vertical-align: middle;\n",
       "    }\n",
       "\n",
       "    .dataframe tbody tr th {\n",
       "        vertical-align: top;\n",
       "    }\n",
       "\n",
       "    .dataframe thead th {\n",
       "        text-align: right;\n",
       "    }\n",
       "</style>\n",
       "<table border=\"1\" class=\"dataframe\">\n",
       "  <thead>\n",
       "    <tr style=\"text-align: right;\">\n",
       "      <th></th>\n",
       "      <th>user_id</th>\n",
       "      <th>song_id</th>\n",
       "      <th>target</th>\n",
       "      <th>genre_ids</th>\n",
       "      <th>artist_name</th>\n",
       "      <th>composer</th>\n",
       "      <th>lyricist</th>\n",
       "    </tr>\n",
       "  </thead>\n",
       "  <tbody>\n",
       "    <tr>\n",
       "      <th>0</th>\n",
       "      <td>FGtllVqz18RPiwJj/edr2gV78zirAiY/9SmYvia+kCg=</td>\n",
       "      <td>3Hg5kugV1S0wzEVLAEfqjIV5UHzb7bCrdBRQlGygLvU=</td>\n",
       "      <td>1</td>\n",
       "      <td>1259</td>\n",
       "      <td>Desiigner</td>\n",
       "      <td>Sidney Selby| Adnan Khan</td>\n",
       "      <td></td>\n",
       "    </tr>\n",
       "    <tr>\n",
       "      <th>1</th>\n",
       "      <td>hZyOA+0yqClPLt6uIEndf8fG8szH/95eKMbaxLE5z30=</td>\n",
       "      <td>3Hg5kugV1S0wzEVLAEfqjIV5UHzb7bCrdBRQlGygLvU=</td>\n",
       "      <td>1</td>\n",
       "      <td>1259</td>\n",
       "      <td>Desiigner</td>\n",
       "      <td>Sidney Selby| Adnan Khan</td>\n",
       "      <td></td>\n",
       "    </tr>\n",
       "    <tr>\n",
       "      <th>2</th>\n",
       "      <td>0LhkakIQDn36HZXI6ClQSO7W7jkpZAy+9MvYgPOZGrA=</td>\n",
       "      <td>skehue/d/R59G71dXYpntDwdjRRPlweN3JE8g40TgZU=</td>\n",
       "      <td>1</td>\n",
       "      <td>458</td>\n",
       "      <td>莊心妍</td>\n",
       "      <td>鄭建浩</td>\n",
       "      <td>鄭建浩</td>\n",
       "    </tr>\n",
       "    <tr>\n",
       "      <th>3</th>\n",
       "      <td>MofmAMt7P8LIcF4+LLlcjyIhYUzmv13L/LRwYFxiGYE=</td>\n",
       "      <td>skehue/d/R59G71dXYpntDwdjRRPlweN3JE8g40TgZU=</td>\n",
       "      <td>1</td>\n",
       "      <td>458</td>\n",
       "      <td>莊心妍</td>\n",
       "      <td>鄭建浩</td>\n",
       "      <td>鄭建浩</td>\n",
       "    </tr>\n",
       "    <tr>\n",
       "      <th>4</th>\n",
       "      <td>U9Z+N+szYGJHTPMn/C0V7yIyIC24fDI0RDRWChXATkg=</td>\n",
       "      <td>skehue/d/R59G71dXYpntDwdjRRPlweN3JE8g40TgZU=</td>\n",
       "      <td>0</td>\n",
       "      <td>458</td>\n",
       "      <td>莊心妍</td>\n",
       "      <td>鄭建浩</td>\n",
       "      <td>鄭建浩</td>\n",
       "    </tr>\n",
       "  </tbody>\n",
       "</table>\n",
       "</div>"
      ],
      "text/plain": [
       "                                        user_id  \\\n",
       "0  FGtllVqz18RPiwJj/edr2gV78zirAiY/9SmYvia+kCg=   \n",
       "1  hZyOA+0yqClPLt6uIEndf8fG8szH/95eKMbaxLE5z30=   \n",
       "2  0LhkakIQDn36HZXI6ClQSO7W7jkpZAy+9MvYgPOZGrA=   \n",
       "3  MofmAMt7P8LIcF4+LLlcjyIhYUzmv13L/LRwYFxiGYE=   \n",
       "4  U9Z+N+szYGJHTPMn/C0V7yIyIC24fDI0RDRWChXATkg=   \n",
       "\n",
       "                                        song_id  target genre_ids artist_name  \\\n",
       "0  3Hg5kugV1S0wzEVLAEfqjIV5UHzb7bCrdBRQlGygLvU=       1      1259   Desiigner   \n",
       "1  3Hg5kugV1S0wzEVLAEfqjIV5UHzb7bCrdBRQlGygLvU=       1      1259   Desiigner   \n",
       "2  skehue/d/R59G71dXYpntDwdjRRPlweN3JE8g40TgZU=       1       458         莊心妍   \n",
       "3  skehue/d/R59G71dXYpntDwdjRRPlweN3JE8g40TgZU=       1       458         莊心妍   \n",
       "4  skehue/d/R59G71dXYpntDwdjRRPlweN3JE8g40TgZU=       0       458         莊心妍   \n",
       "\n",
       "                   composer lyricist  \n",
       "0  Sidney Selby| Adnan Khan           \n",
       "1  Sidney Selby| Adnan Khan           \n",
       "2                       鄭建浩      鄭建浩  \n",
       "3                       鄭建浩      鄭建浩  \n",
       "4                       鄭建浩      鄭建浩  "
      ]
     },
     "execution_count": 33,
     "metadata": {},
     "output_type": "execute_result"
    }
   ],
   "source": [
    "main_df = main_df.drop(['song_length', 'language'],axis=1)\n",
    "main_df.head()"
   ]
  },
  {
   "cell_type": "code",
   "execution_count": 34,
   "metadata": {},
   "outputs": [
    {
     "data": {
      "text/html": [
       "<div>\n",
       "<style scoped>\n",
       "    .dataframe tbody tr th:only-of-type {\n",
       "        vertical-align: middle;\n",
       "    }\n",
       "\n",
       "    .dataframe tbody tr th {\n",
       "        vertical-align: top;\n",
       "    }\n",
       "\n",
       "    .dataframe thead th {\n",
       "        text-align: right;\n",
       "    }\n",
       "</style>\n",
       "<table border=\"1\" class=\"dataframe\">\n",
       "  <thead>\n",
       "    <tr style=\"text-align: right;\">\n",
       "      <th></th>\n",
       "      <th>song_id</th>\n",
       "      <th>name</th>\n",
       "      <th>isrc</th>\n",
       "    </tr>\n",
       "  </thead>\n",
       "  <tbody>\n",
       "    <tr>\n",
       "      <th>0</th>\n",
       "      <td>LP7pLJoJFBvyuUwvu+oLzjT+bI+UeBPURCecJsX1jjs=</td>\n",
       "      <td>我們</td>\n",
       "      <td>TWUM71200043</td>\n",
       "    </tr>\n",
       "    <tr>\n",
       "      <th>1</th>\n",
       "      <td>ClazTFnk6r0Bnuie44bocdNMM3rdlrq0bCGAsGUWcHE=</td>\n",
       "      <td>Let Me Love You</td>\n",
       "      <td>QMZSY1600015</td>\n",
       "    </tr>\n",
       "    <tr>\n",
       "      <th>2</th>\n",
       "      <td>u2ja/bZE3zhCGxvbbOB3zOoUjx27u40cf5g09UXMoKQ=</td>\n",
       "      <td>原諒我</td>\n",
       "      <td>TWA530887303</td>\n",
       "    </tr>\n",
       "    <tr>\n",
       "      <th>3</th>\n",
       "      <td>92Fqsy0+p6+RHe2EoLKjHahORHR1Kq1TBJoClW9v+Ts=</td>\n",
       "      <td>Classic</td>\n",
       "      <td>USSM11301446</td>\n",
       "    </tr>\n",
       "    <tr>\n",
       "      <th>4</th>\n",
       "      <td>0QFmz/+rJy1Q56C1DuYqT9hKKqi5TUqx0sN0IwvoHrw=</td>\n",
       "      <td>愛投羅網</td>\n",
       "      <td>TWA471306001</td>\n",
       "    </tr>\n",
       "  </tbody>\n",
       "</table>\n",
       "</div>"
      ],
      "text/plain": [
       "                                        song_id             name          isrc\n",
       "0  LP7pLJoJFBvyuUwvu+oLzjT+bI+UeBPURCecJsX1jjs=               我們  TWUM71200043\n",
       "1  ClazTFnk6r0Bnuie44bocdNMM3rdlrq0bCGAsGUWcHE=  Let Me Love You  QMZSY1600015\n",
       "2  u2ja/bZE3zhCGxvbbOB3zOoUjx27u40cf5g09UXMoKQ=              原諒我  TWA530887303\n",
       "3  92Fqsy0+p6+RHe2EoLKjHahORHR1Kq1TBJoClW9v+Ts=          Classic  USSM11301446\n",
       "4  0QFmz/+rJy1Q56C1DuYqT9hKKqi5TUqx0sN0IwvoHrw=             愛投羅網  TWA471306001"
      ]
     },
     "execution_count": 34,
     "metadata": {},
     "output_type": "execute_result"
    }
   ],
   "source": [
    "song_extra_info_df.head()"
   ]
  },
  {
   "cell_type": "markdown",
   "metadata": {},
   "source": [
    "- Merging song_extra_info_df and main_df\n",
    "\n",
    "- Droping isrc attribute."
   ]
  },
  {
   "cell_type": "code",
   "execution_count": 35,
   "metadata": {},
   "outputs": [
    {
     "data": {
      "text/html": [
       "<div>\n",
       "<style scoped>\n",
       "    .dataframe tbody tr th:only-of-type {\n",
       "        vertical-align: middle;\n",
       "    }\n",
       "\n",
       "    .dataframe tbody tr th {\n",
       "        vertical-align: top;\n",
       "    }\n",
       "\n",
       "    .dataframe thead th {\n",
       "        text-align: right;\n",
       "    }\n",
       "</style>\n",
       "<table border=\"1\" class=\"dataframe\">\n",
       "  <thead>\n",
       "    <tr style=\"text-align: right;\">\n",
       "      <th></th>\n",
       "      <th>user_id</th>\n",
       "      <th>song_id</th>\n",
       "      <th>target</th>\n",
       "      <th>genre_ids</th>\n",
       "      <th>artist_name</th>\n",
       "      <th>composer</th>\n",
       "      <th>lyricist</th>\n",
       "      <th>name</th>\n",
       "    </tr>\n",
       "  </thead>\n",
       "  <tbody>\n",
       "    <tr>\n",
       "      <th>0</th>\n",
       "      <td>FGtllVqz18RPiwJj/edr2gV78zirAiY/9SmYvia+kCg=</td>\n",
       "      <td>3Hg5kugV1S0wzEVLAEfqjIV5UHzb7bCrdBRQlGygLvU=</td>\n",
       "      <td>1</td>\n",
       "      <td>1259</td>\n",
       "      <td>Desiigner</td>\n",
       "      <td>Sidney Selby| Adnan Khan</td>\n",
       "      <td></td>\n",
       "      <td>Panda</td>\n",
       "    </tr>\n",
       "    <tr>\n",
       "      <th>1</th>\n",
       "      <td>hZyOA+0yqClPLt6uIEndf8fG8szH/95eKMbaxLE5z30=</td>\n",
       "      <td>3Hg5kugV1S0wzEVLAEfqjIV5UHzb7bCrdBRQlGygLvU=</td>\n",
       "      <td>1</td>\n",
       "      <td>1259</td>\n",
       "      <td>Desiigner</td>\n",
       "      <td>Sidney Selby| Adnan Khan</td>\n",
       "      <td></td>\n",
       "      <td>Panda</td>\n",
       "    </tr>\n",
       "    <tr>\n",
       "      <th>2</th>\n",
       "      <td>0LhkakIQDn36HZXI6ClQSO7W7jkpZAy+9MvYgPOZGrA=</td>\n",
       "      <td>skehue/d/R59G71dXYpntDwdjRRPlweN3JE8g40TgZU=</td>\n",
       "      <td>1</td>\n",
       "      <td>458</td>\n",
       "      <td>莊心妍</td>\n",
       "      <td>鄭建浩</td>\n",
       "      <td>鄭建浩</td>\n",
       "      <td>我過的很好</td>\n",
       "    </tr>\n",
       "    <tr>\n",
       "      <th>3</th>\n",
       "      <td>MofmAMt7P8LIcF4+LLlcjyIhYUzmv13L/LRwYFxiGYE=</td>\n",
       "      <td>skehue/d/R59G71dXYpntDwdjRRPlweN3JE8g40TgZU=</td>\n",
       "      <td>1</td>\n",
       "      <td>458</td>\n",
       "      <td>莊心妍</td>\n",
       "      <td>鄭建浩</td>\n",
       "      <td>鄭建浩</td>\n",
       "      <td>我過的很好</td>\n",
       "    </tr>\n",
       "    <tr>\n",
       "      <th>4</th>\n",
       "      <td>U9Z+N+szYGJHTPMn/C0V7yIyIC24fDI0RDRWChXATkg=</td>\n",
       "      <td>skehue/d/R59G71dXYpntDwdjRRPlweN3JE8g40TgZU=</td>\n",
       "      <td>0</td>\n",
       "      <td>458</td>\n",
       "      <td>莊心妍</td>\n",
       "      <td>鄭建浩</td>\n",
       "      <td>鄭建浩</td>\n",
       "      <td>我過的很好</td>\n",
       "    </tr>\n",
       "  </tbody>\n",
       "</table>\n",
       "</div>"
      ],
      "text/plain": [
       "                                        user_id  \\\n",
       "0  FGtllVqz18RPiwJj/edr2gV78zirAiY/9SmYvia+kCg=   \n",
       "1  hZyOA+0yqClPLt6uIEndf8fG8szH/95eKMbaxLE5z30=   \n",
       "2  0LhkakIQDn36HZXI6ClQSO7W7jkpZAy+9MvYgPOZGrA=   \n",
       "3  MofmAMt7P8LIcF4+LLlcjyIhYUzmv13L/LRwYFxiGYE=   \n",
       "4  U9Z+N+szYGJHTPMn/C0V7yIyIC24fDI0RDRWChXATkg=   \n",
       "\n",
       "                                        song_id  target genre_ids artist_name  \\\n",
       "0  3Hg5kugV1S0wzEVLAEfqjIV5UHzb7bCrdBRQlGygLvU=       1      1259   Desiigner   \n",
       "1  3Hg5kugV1S0wzEVLAEfqjIV5UHzb7bCrdBRQlGygLvU=       1      1259   Desiigner   \n",
       "2  skehue/d/R59G71dXYpntDwdjRRPlweN3JE8g40TgZU=       1       458         莊心妍   \n",
       "3  skehue/d/R59G71dXYpntDwdjRRPlweN3JE8g40TgZU=       1       458         莊心妍   \n",
       "4  skehue/d/R59G71dXYpntDwdjRRPlweN3JE8g40TgZU=       0       458         莊心妍   \n",
       "\n",
       "                   composer lyricist   name  \n",
       "0  Sidney Selby| Adnan Khan           Panda  \n",
       "1  Sidney Selby| Adnan Khan           Panda  \n",
       "2                       鄭建浩      鄭建浩  我過的很好  \n",
       "3                       鄭建浩      鄭建浩  我過的很好  \n",
       "4                       鄭建浩      鄭建浩  我過的很好  "
      ]
     },
     "execution_count": 35,
     "metadata": {},
     "output_type": "execute_result"
    }
   ],
   "source": [
    "main_df = main_df.merge(song_extra_info_df, on='song_id').drop('isrc', axis=1)\n",
    "main_df.head()"
   ]
  },
  {
   "cell_type": "markdown",
   "metadata": {},
   "source": [
    "- Renaming name attribute with song_name"
   ]
  },
  {
   "cell_type": "code",
   "execution_count": 36,
   "metadata": {},
   "outputs": [
    {
     "data": {
      "text/html": [
       "<div>\n",
       "<style scoped>\n",
       "    .dataframe tbody tr th:only-of-type {\n",
       "        vertical-align: middle;\n",
       "    }\n",
       "\n",
       "    .dataframe tbody tr th {\n",
       "        vertical-align: top;\n",
       "    }\n",
       "\n",
       "    .dataframe thead th {\n",
       "        text-align: right;\n",
       "    }\n",
       "</style>\n",
       "<table border=\"1\" class=\"dataframe\">\n",
       "  <thead>\n",
       "    <tr style=\"text-align: right;\">\n",
       "      <th></th>\n",
       "      <th>user_id</th>\n",
       "      <th>song_id</th>\n",
       "      <th>target</th>\n",
       "      <th>genre_ids</th>\n",
       "      <th>artist_name</th>\n",
       "      <th>composer</th>\n",
       "      <th>lyricist</th>\n",
       "      <th>song_name</th>\n",
       "    </tr>\n",
       "  </thead>\n",
       "  <tbody>\n",
       "    <tr>\n",
       "      <th>0</th>\n",
       "      <td>FGtllVqz18RPiwJj/edr2gV78zirAiY/9SmYvia+kCg=</td>\n",
       "      <td>3Hg5kugV1S0wzEVLAEfqjIV5UHzb7bCrdBRQlGygLvU=</td>\n",
       "      <td>1</td>\n",
       "      <td>1259</td>\n",
       "      <td>Desiigner</td>\n",
       "      <td>Sidney Selby| Adnan Khan</td>\n",
       "      <td></td>\n",
       "      <td>Panda</td>\n",
       "    </tr>\n",
       "    <tr>\n",
       "      <th>1</th>\n",
       "      <td>hZyOA+0yqClPLt6uIEndf8fG8szH/95eKMbaxLE5z30=</td>\n",
       "      <td>3Hg5kugV1S0wzEVLAEfqjIV5UHzb7bCrdBRQlGygLvU=</td>\n",
       "      <td>1</td>\n",
       "      <td>1259</td>\n",
       "      <td>Desiigner</td>\n",
       "      <td>Sidney Selby| Adnan Khan</td>\n",
       "      <td></td>\n",
       "      <td>Panda</td>\n",
       "    </tr>\n",
       "    <tr>\n",
       "      <th>2</th>\n",
       "      <td>0LhkakIQDn36HZXI6ClQSO7W7jkpZAy+9MvYgPOZGrA=</td>\n",
       "      <td>skehue/d/R59G71dXYpntDwdjRRPlweN3JE8g40TgZU=</td>\n",
       "      <td>1</td>\n",
       "      <td>458</td>\n",
       "      <td>莊心妍</td>\n",
       "      <td>鄭建浩</td>\n",
       "      <td>鄭建浩</td>\n",
       "      <td>我過的很好</td>\n",
       "    </tr>\n",
       "    <tr>\n",
       "      <th>3</th>\n",
       "      <td>MofmAMt7P8LIcF4+LLlcjyIhYUzmv13L/LRwYFxiGYE=</td>\n",
       "      <td>skehue/d/R59G71dXYpntDwdjRRPlweN3JE8g40TgZU=</td>\n",
       "      <td>1</td>\n",
       "      <td>458</td>\n",
       "      <td>莊心妍</td>\n",
       "      <td>鄭建浩</td>\n",
       "      <td>鄭建浩</td>\n",
       "      <td>我過的很好</td>\n",
       "    </tr>\n",
       "    <tr>\n",
       "      <th>4</th>\n",
       "      <td>U9Z+N+szYGJHTPMn/C0V7yIyIC24fDI0RDRWChXATkg=</td>\n",
       "      <td>skehue/d/R59G71dXYpntDwdjRRPlweN3JE8g40TgZU=</td>\n",
       "      <td>0</td>\n",
       "      <td>458</td>\n",
       "      <td>莊心妍</td>\n",
       "      <td>鄭建浩</td>\n",
       "      <td>鄭建浩</td>\n",
       "      <td>我過的很好</td>\n",
       "    </tr>\n",
       "  </tbody>\n",
       "</table>\n",
       "</div>"
      ],
      "text/plain": [
       "                                        user_id  \\\n",
       "0  FGtllVqz18RPiwJj/edr2gV78zirAiY/9SmYvia+kCg=   \n",
       "1  hZyOA+0yqClPLt6uIEndf8fG8szH/95eKMbaxLE5z30=   \n",
       "2  0LhkakIQDn36HZXI6ClQSO7W7jkpZAy+9MvYgPOZGrA=   \n",
       "3  MofmAMt7P8LIcF4+LLlcjyIhYUzmv13L/LRwYFxiGYE=   \n",
       "4  U9Z+N+szYGJHTPMn/C0V7yIyIC24fDI0RDRWChXATkg=   \n",
       "\n",
       "                                        song_id  target genre_ids artist_name  \\\n",
       "0  3Hg5kugV1S0wzEVLAEfqjIV5UHzb7bCrdBRQlGygLvU=       1      1259   Desiigner   \n",
       "1  3Hg5kugV1S0wzEVLAEfqjIV5UHzb7bCrdBRQlGygLvU=       1      1259   Desiigner   \n",
       "2  skehue/d/R59G71dXYpntDwdjRRPlweN3JE8g40TgZU=       1       458         莊心妍   \n",
       "3  skehue/d/R59G71dXYpntDwdjRRPlweN3JE8g40TgZU=       1       458         莊心妍   \n",
       "4  skehue/d/R59G71dXYpntDwdjRRPlweN3JE8g40TgZU=       0       458         莊心妍   \n",
       "\n",
       "                   composer lyricist song_name  \n",
       "0  Sidney Selby| Adnan Khan              Panda  \n",
       "1  Sidney Selby| Adnan Khan              Panda  \n",
       "2                       鄭建浩      鄭建浩     我過的很好  \n",
       "3                       鄭建浩      鄭建浩     我過的很好  \n",
       "4                       鄭建浩      鄭建浩     我過的很好  "
      ]
     },
     "execution_count": 36,
     "metadata": {},
     "output_type": "execute_result"
    }
   ],
   "source": [
    "main_df.rename(columns={'name':'song_name'}, inplace=True)\n",
    "main_df.head()"
   ]
  },
  {
   "cell_type": "markdown",
   "metadata": {},
   "source": [
    "#### Performing Preprocessing for our constructed main_df dataset"
   ]
  },
  {
   "cell_type": "code",
   "execution_count": 37,
   "metadata": {},
   "outputs": [
    {
     "data": {
      "text/plain": [
       "465                    710\n",
       "458                    400\n",
       "444                     65\n",
       "1609                    57\n",
       "921                     49\n",
       "359                     32\n",
       "                        26\n",
       "139                     24\n",
       "2022                    21\n",
       "1259                    20\n",
       "2122                    13\n",
       "139|125|109              7\n",
       "726                      7\n",
       "451                      7\n",
       "437                      7\n",
       "958                      6\n",
       "786|947                  6\n",
       "465|1259                 4\n",
       "1011                     4\n",
       "786                      4\n",
       "947                      4\n",
       "691                      3\n",
       "921|465                  3\n",
       "430                      3\n",
       "921|458                  2\n",
       "458|1287                 2\n",
       "698                      2\n",
       "444|1259                 2\n",
       "829                      2\n",
       "850                      2\n",
       "1152                     1\n",
       "880|458                  1\n",
       "465|829                  1\n",
       "864|857|850|843          1\n",
       "465|798                  1\n",
       "474                      1\n",
       "864|850|726|857|843      1\n",
       "388                      1\n",
       "864|786|850|857|843      1\n",
       "940                      1\n",
       "1609|465                 1\n",
       "465|2122                 1\n",
       "423                      1\n",
       "726|242                  1\n",
       "437|850                  1\n",
       "Name: genre_ids, dtype: int64"
      ]
     },
     "execution_count": 37,
     "metadata": {},
     "output_type": "execute_result"
    }
   ],
   "source": [
    "main_df['genre_ids'].value_counts()"
   ]
  },
  {
   "cell_type": "markdown",
   "metadata": {},
   "source": [
    "- There are lots of | in genre_ids. Replacing | with ' '\n",
    "- Replacing '|' with a space ' ', the different genre IDs are combined into a single string, which can be more convenient for further analysis or modeling."
   ]
  },
  {
   "cell_type": "code",
   "execution_count": 38,
   "metadata": {},
   "outputs": [
    {
     "data": {
      "text/plain": [
       "1609 465    1\n",
       "465 2122    1\n",
       "423         1\n",
       "726 242     1\n",
       "437 850     1\n",
       "Name: genre_ids, dtype: int64"
      ]
     },
     "execution_count": 38,
     "metadata": {},
     "output_type": "execute_result"
    }
   ],
   "source": [
    "main_df['genre_ids'] = main_df['genre_ids'].str.replace('|', ' ', regex=True)\n",
    "main_df['genre_ids'].value_counts().tail()"
   ]
  },
  {
   "cell_type": "code",
   "execution_count": 39,
   "metadata": {},
   "outputs": [
    {
     "data": {
      "text/plain": [
       "(1509, 8)"
      ]
     },
     "execution_count": 39,
     "metadata": {},
     "output_type": "execute_result"
    }
   ],
   "source": [
    "main_df.shape"
   ]
  },
  {
   "cell_type": "markdown",
   "metadata": {},
   "source": [
    "- Here in attributes (artist_name, commposer and lyricist) have '/' and '|' symbols.\n",
    "- Replacing it with \" \""
   ]
  },
  {
   "cell_type": "code",
   "execution_count": 40,
   "metadata": {},
   "outputs": [],
   "source": [
    "main_df['artist_name'] = main_df['artist_name'].str.replace( '|',' ', regex=True)\n",
    "main_df['artist_name'] = main_df['artist_name'].str.replace( '/',' ',  regex=True)\n",
    "\n",
    "main_df['lyricist'] = main_df['lyricist'].str.replace( '|',' ', regex=True)\n",
    "main_df['lyricist'] = main_df['lyricist'].str.replace( '/',' ', regex=True)\n",
    "\n",
    "main_df['composer'] = main_df['composer'].str.replace( '|',' ', regex=True)\n",
    "main_df['composer'] = main_df['composer'].str.replace( '/',' ', regex=True)"
   ]
  },
  {
   "cell_type": "code",
   "execution_count": 41,
   "metadata": {},
   "outputs": [
    {
     "data": {
      "text/html": [
       "<div>\n",
       "<style scoped>\n",
       "    .dataframe tbody tr th:only-of-type {\n",
       "        vertical-align: middle;\n",
       "    }\n",
       "\n",
       "    .dataframe tbody tr th {\n",
       "        vertical-align: top;\n",
       "    }\n",
       "\n",
       "    .dataframe thead th {\n",
       "        text-align: right;\n",
       "    }\n",
       "</style>\n",
       "<table border=\"1\" class=\"dataframe\">\n",
       "  <thead>\n",
       "    <tr style=\"text-align: right;\">\n",
       "      <th></th>\n",
       "      <th>user_id</th>\n",
       "      <th>song_id</th>\n",
       "      <th>target</th>\n",
       "      <th>genre_ids</th>\n",
       "      <th>artist_name</th>\n",
       "      <th>composer</th>\n",
       "      <th>lyricist</th>\n",
       "      <th>song_name</th>\n",
       "    </tr>\n",
       "  </thead>\n",
       "  <tbody>\n",
       "    <tr>\n",
       "      <th>195</th>\n",
       "      <td>6xIno4/kpVsTK7ChsYaF+b/0cqMLc1GUzvmhq3PzLyo=</td>\n",
       "      <td>KcQ4assZxaXsdizqxGjUSAY7CNc6+6hQzpVsjnWsShQ=</td>\n",
       "      <td>1</td>\n",
       "      <td>458</td>\n",
       "      <td>楊凱琳 (Rosie)</td>\n",
       "      <td>艾怡良</td>\n",
       "      <td>黃祖蔭 余琛懋</td>\n",
       "      <td>怎麼還不愛 (Why Not Love)</td>\n",
       "    </tr>\n",
       "    <tr>\n",
       "      <th>469</th>\n",
       "      <td>6v8Jemjp+1m3F1R8PILMTByss6WHHr7IzJqle4RUrdo=</td>\n",
       "      <td>YmAISVdWO5T+OgcuVLr6qQ7OsqPzAbBO7BrEwfcxMSw=</td>\n",
       "      <td>0</td>\n",
       "      <td>1609</td>\n",
       "      <td>Zedd</td>\n",
       "      <td>Jon Bellion  Anton Zaslavski  Tim James  Anton...</td>\n",
       "      <td></td>\n",
       "      <td>Beautiful Now</td>\n",
       "    </tr>\n",
       "    <tr>\n",
       "      <th>321</th>\n",
       "      <td>UCUleZ7pqjU2YCm2d/saENjn//1qqgwndUeVZbXh3cw=</td>\n",
       "      <td>WWgB6GYGuyplhfw51plAbvpnixjsFA3XKSyEuTN42Tk=</td>\n",
       "      <td>0</td>\n",
       "      <td>921</td>\n",
       "      <td>LYn</td>\n",
       "      <td>Jay Kim  Ji Hyang Kim  Melodesign</td>\n",
       "      <td></td>\n",
       "      <td>Love Story</td>\n",
       "    </tr>\n",
       "    <tr>\n",
       "      <th>155</th>\n",
       "      <td>tNbn6N0sVCcgSeEX6NhgXR86tkAhKnILsbxL0t07ZqU=</td>\n",
       "      <td>BwDDym6Tp7EnGudWBGJyjONZeX0/4ndu5PETiPWzav8=</td>\n",
       "      <td>1</td>\n",
       "      <td>458</td>\n",
       "      <td>楊乃文 (Naiwen Yang)</td>\n",
       "      <td>黃建為</td>\n",
       "      <td>葛大為</td>\n",
       "      <td>離心力 (Centrifugal Force)</td>\n",
       "    </tr>\n",
       "    <tr>\n",
       "      <th>436</th>\n",
       "      <td>3f7F+EbZOzLETluk6RKKXB6C2naG8FneXqj+C0n7ibU=</td>\n",
       "      <td>f+kUjlxaL1nKJ2FZCOkc40O8YHvA5KJY24ykMh3qXII=</td>\n",
       "      <td>1</td>\n",
       "      <td>444</td>\n",
       "      <td>I.O.I</td>\n",
       "      <td></td>\n",
       "      <td></td>\n",
       "      <td>Very Very Very</td>\n",
       "    </tr>\n",
       "    <tr>\n",
       "      <th>1256</th>\n",
       "      <td>1jIjohdOfUa0P8H0r/c1wNltF9oxS16sU8vUP4Yxufg=</td>\n",
       "      <td>sAqHiqMPyfXNXQxNX8TNg10Ov83QbxiPVpaSzxSh8fk=</td>\n",
       "      <td>1</td>\n",
       "      <td>465</td>\n",
       "      <td>CHARLIE PUTH</td>\n",
       "      <td></td>\n",
       "      <td></td>\n",
       "      <td>As You Are</td>\n",
       "    </tr>\n",
       "    <tr>\n",
       "      <th>559</th>\n",
       "      <td>SyTvJleYs+UlnXL3tNyKHOMPBJlMGAH3iPDAcdA4VBA=</td>\n",
       "      <td>o0kFgae9QtnYgRkVPqLJwa05zIhRlUjfF7O1tDw0ZDU=</td>\n",
       "      <td>1</td>\n",
       "      <td>444</td>\n",
       "      <td>BLACKPINK</td>\n",
       "      <td>TEDDY   FUTURE BOUNCE   Bekuh BOOM</td>\n",
       "      <td>TEDDY</td>\n",
       "      <td>PLAYING WITH FIRE</td>\n",
       "    </tr>\n",
       "    <tr>\n",
       "      <th>579</th>\n",
       "      <td>Jp82AaSpxD6PwlFjcKMEnqhQpmc8CJ4t1+kaOn3vr0A=</td>\n",
       "      <td>rqNd52MxQ+okfR61j2c7u36DLODO4d2Zt/hMm3jxncM=</td>\n",
       "      <td>1</td>\n",
       "      <td>458</td>\n",
       "      <td>三個人 (Three People)</td>\n",
       "      <td>倪子岡\\劉軒蓁</td>\n",
       "      <td>劉軒蓁</td>\n",
       "      <td>這是我 (This is me)</td>\n",
       "    </tr>\n",
       "    <tr>\n",
       "      <th>545</th>\n",
       "      <td>zETiTautcUhizCBET83F+oSFNkYA11vbZQYLdKKPU2U=</td>\n",
       "      <td>Of6g3RC1YKF1eqWmOoAP81ao6HmB2zWvXzCUzwUdG1o=</td>\n",
       "      <td>0</td>\n",
       "      <td>458</td>\n",
       "      <td>楊丞琳 (Rainie Yang)</td>\n",
       "      <td>Ying-Jian Chen</td>\n",
       "      <td>Zhuo-Xiong Li</td>\n",
       "      <td>匿名的好友 (Ni Ming De Hao You)</td>\n",
       "    </tr>\n",
       "    <tr>\n",
       "      <th>461</th>\n",
       "      <td>J+TZm4XU4tRYVJW1bTJgq7YchmRipSKHoDc9+wDT9CI=</td>\n",
       "      <td>x/sJa7GF5nZ36aAl5lDSjSJPVlobOx6ROZ3qB33RhMY=</td>\n",
       "      <td>0</td>\n",
       "      <td>465</td>\n",
       "      <td>蔡健雅 (Tanya Chua)</td>\n",
       "      <td>蔡健雅</td>\n",
       "      <td>蔡健雅</td>\n",
       "      <td>Letting Go</td>\n",
       "    </tr>\n",
       "  </tbody>\n",
       "</table>\n",
       "</div>"
      ],
      "text/plain": [
       "                                           user_id  \\\n",
       "195   6xIno4/kpVsTK7ChsYaF+b/0cqMLc1GUzvmhq3PzLyo=   \n",
       "469   6v8Jemjp+1m3F1R8PILMTByss6WHHr7IzJqle4RUrdo=   \n",
       "321   UCUleZ7pqjU2YCm2d/saENjn//1qqgwndUeVZbXh3cw=   \n",
       "155   tNbn6N0sVCcgSeEX6NhgXR86tkAhKnILsbxL0t07ZqU=   \n",
       "436   3f7F+EbZOzLETluk6RKKXB6C2naG8FneXqj+C0n7ibU=   \n",
       "1256  1jIjohdOfUa0P8H0r/c1wNltF9oxS16sU8vUP4Yxufg=   \n",
       "559   SyTvJleYs+UlnXL3tNyKHOMPBJlMGAH3iPDAcdA4VBA=   \n",
       "579   Jp82AaSpxD6PwlFjcKMEnqhQpmc8CJ4t1+kaOn3vr0A=   \n",
       "545   zETiTautcUhizCBET83F+oSFNkYA11vbZQYLdKKPU2U=   \n",
       "461   J+TZm4XU4tRYVJW1bTJgq7YchmRipSKHoDc9+wDT9CI=   \n",
       "\n",
       "                                           song_id  target genre_ids  \\\n",
       "195   KcQ4assZxaXsdizqxGjUSAY7CNc6+6hQzpVsjnWsShQ=       1       458   \n",
       "469   YmAISVdWO5T+OgcuVLr6qQ7OsqPzAbBO7BrEwfcxMSw=       0      1609   \n",
       "321   WWgB6GYGuyplhfw51plAbvpnixjsFA3XKSyEuTN42Tk=       0       921   \n",
       "155   BwDDym6Tp7EnGudWBGJyjONZeX0/4ndu5PETiPWzav8=       1       458   \n",
       "436   f+kUjlxaL1nKJ2FZCOkc40O8YHvA5KJY24ykMh3qXII=       1       444   \n",
       "1256  sAqHiqMPyfXNXQxNX8TNg10Ov83QbxiPVpaSzxSh8fk=       1       465   \n",
       "559   o0kFgae9QtnYgRkVPqLJwa05zIhRlUjfF7O1tDw0ZDU=       1       444   \n",
       "579   rqNd52MxQ+okfR61j2c7u36DLODO4d2Zt/hMm3jxncM=       1       458   \n",
       "545   Of6g3RC1YKF1eqWmOoAP81ao6HmB2zWvXzCUzwUdG1o=       0       458   \n",
       "461   x/sJa7GF5nZ36aAl5lDSjSJPVlobOx6ROZ3qB33RhMY=       0       465   \n",
       "\n",
       "             artist_name                                           composer  \\\n",
       "195          楊凱琳 (Rosie)                                                艾怡良   \n",
       "469                 Zedd  Jon Bellion  Anton Zaslavski  Tim James  Anton...   \n",
       "321                  LYn                  Jay Kim  Ji Hyang Kim  Melodesign   \n",
       "155    楊乃文 (Naiwen Yang)                                                黃建為   \n",
       "436                I.O.I                                                      \n",
       "1256        CHARLIE PUTH                                                      \n",
       "559            BLACKPINK                 TEDDY   FUTURE BOUNCE   Bekuh BOOM   \n",
       "579   三個人 (Three People)                                            倪子岡\\劉軒蓁   \n",
       "545    楊丞琳 (Rainie Yang)                                     Ying-Jian Chen   \n",
       "461     蔡健雅 (Tanya Chua)                                                蔡健雅   \n",
       "\n",
       "           lyricist                   song_name  \n",
       "195         黃祖蔭 余琛懋        怎麼還不愛 (Why Not Love)  \n",
       "469                               Beautiful Now  \n",
       "321                                  Love Story  \n",
       "155             葛大為     離心力 (Centrifugal Force)  \n",
       "436                              Very Very Very  \n",
       "1256                                 As You Are  \n",
       "559           TEDDY           PLAYING WITH FIRE  \n",
       "579             劉軒蓁            這是我 (This is me)  \n",
       "545   Zhuo-Xiong Li  匿名的好友 (Ni Ming De Hao You)  \n",
       "461             蔡健雅                  Letting Go  "
      ]
     },
     "execution_count": 41,
     "metadata": {},
     "output_type": "execute_result"
    }
   ],
   "source": [
    "main_df.sample(10)"
   ]
  },
  {
   "cell_type": "markdown",
   "metadata": {},
   "source": [
    "- Now, also converting them into Lower Case"
   ]
  },
  {
   "cell_type": "code",
   "execution_count": 42,
   "metadata": {},
   "outputs": [],
   "source": [
    "main_df['artist_name']  = main_df['artist_name'].str.lower()\n",
    "main_df['lyricist']  = main_df['lyricist'].str.lower()\n",
    "main_df['composer']  = main_df['composer'].str.lower()"
   ]
  },
  {
   "cell_type": "code",
   "execution_count": 43,
   "metadata": {},
   "outputs": [
    {
     "data": {
      "text/html": [
       "<div>\n",
       "<style scoped>\n",
       "    .dataframe tbody tr th:only-of-type {\n",
       "        vertical-align: middle;\n",
       "    }\n",
       "\n",
       "    .dataframe tbody tr th {\n",
       "        vertical-align: top;\n",
       "    }\n",
       "\n",
       "    .dataframe thead th {\n",
       "        text-align: right;\n",
       "    }\n",
       "</style>\n",
       "<table border=\"1\" class=\"dataframe\">\n",
       "  <thead>\n",
       "    <tr style=\"text-align: right;\">\n",
       "      <th></th>\n",
       "      <th>user_id</th>\n",
       "      <th>song_id</th>\n",
       "      <th>target</th>\n",
       "      <th>genre_ids</th>\n",
       "      <th>artist_name</th>\n",
       "      <th>composer</th>\n",
       "      <th>lyricist</th>\n",
       "      <th>song_name</th>\n",
       "    </tr>\n",
       "  </thead>\n",
       "  <tbody>\n",
       "    <tr>\n",
       "      <th>476</th>\n",
       "      <td>LdNQe9L3ewHSp6yOrMAhLEjrKqiqNnw417zaatGlZr4=</td>\n",
       "      <td>48PnLVsKQXwlRoNr7779QyZxweYBbpX9z3E1YZm2F/A=</td>\n",
       "      <td>1</td>\n",
       "      <td>139</td>\n",
       "      <td>the weeknd</td>\n",
       "      <td>abel tesfaye  thomas bangalter  guy-manuel de ...</td>\n",
       "      <td></td>\n",
       "      <td>Starboy</td>\n",
       "    </tr>\n",
       "    <tr>\n",
       "      <th>760</th>\n",
       "      <td>o4g32YnfuD7gpEkGjlBrqN2rP61NcuNRz1Sq1jIczvI=</td>\n",
       "      <td>CRrF13jSccFyPiWrpgDtR/QeZuFkungWwy3u6EA3YyA=</td>\n",
       "      <td>0</td>\n",
       "      <td>465</td>\n",
       "      <td>陳綺貞 (cheer chen)</td>\n",
       "      <td></td>\n",
       "      <td></td>\n",
       "      <td>魚 (the edge)</td>\n",
       "    </tr>\n",
       "    <tr>\n",
       "      <th>741</th>\n",
       "      <td>rCUwLPDFrjzJg4VxfME1d2GQvqWIIEyfUcjqPC5l6l4=</td>\n",
       "      <td>OMTekr/F22VU+hUvLZYz8D1bZPyKoZxaARBfqpNFGM0=</td>\n",
       "      <td>1</td>\n",
       "      <td>958</td>\n",
       "      <td>various artists</td>\n",
       "      <td></td>\n",
       "      <td></td>\n",
       "      <td>布魯赫：第一號小提琴協奏曲/第二樂章：慢板 (Violin Concerto No. 1 i...</td>\n",
       "    </tr>\n",
       "    <tr>\n",
       "      <th>1049</th>\n",
       "      <td>etPpsFVQkbDKqjErFK5OWW7NoP8wSUBtzMLIvIi1s+g=</td>\n",
       "      <td>1mpaO+5qY/2x0PacUeX8g8zv++D8dbpv1bWO7LFxQ5k=</td>\n",
       "      <td>1</td>\n",
       "      <td>465</td>\n",
       "      <td>周俊偉</td>\n",
       "      <td></td>\n",
       "      <td></td>\n",
       "      <td>你別傻了</td>\n",
       "    </tr>\n",
       "    <tr>\n",
       "      <th>777</th>\n",
       "      <td>vV+RMnzML8PwUTm2mcRajBbKVks896F2YVI25VwoQkY=</td>\n",
       "      <td>MFPjIaT0PEycUUGrql3P1ww06+vCXCvzH2LZFxD+DjU=</td>\n",
       "      <td>0</td>\n",
       "      <td>139 125 109</td>\n",
       "      <td>che'nelle</td>\n",
       "      <td>tee  ryosuke imai  hiro</td>\n",
       "      <td>tee</td>\n",
       "      <td>Baby I Love U</td>\n",
       "    </tr>\n",
       "    <tr>\n",
       "      <th>489</th>\n",
       "      <td>NoyTlB2G5AqMxiX8duezDHkscZlCRjDDJQSFoaUy/Y8=</td>\n",
       "      <td>7vGvrf5l1XzNbeLZXzQgaNvc2VBmncarpN3LQpLUZiY=</td>\n",
       "      <td>1</td>\n",
       "      <td>458</td>\n",
       "      <td>周杰倫 (jay chou)</td>\n",
       "      <td>周杰倫</td>\n",
       "      <td>方文山</td>\n",
       "      <td>我不配</td>\n",
       "    </tr>\n",
       "    <tr>\n",
       "      <th>439</th>\n",
       "      <td>CJbBRvpbzOD/hR6eBO+1HDprtgE/A833vfjYYbFdddc=</td>\n",
       "      <td>f+kUjlxaL1nKJ2FZCOkc40O8YHvA5KJY24ykMh3qXII=</td>\n",
       "      <td>1</td>\n",
       "      <td>444</td>\n",
       "      <td>i.o.i</td>\n",
       "      <td></td>\n",
       "      <td></td>\n",
       "      <td>Very Very Very</td>\n",
       "    </tr>\n",
       "    <tr>\n",
       "      <th>958</th>\n",
       "      <td>hscYoX9rNseZ77DxVTPXLV18MH03ADYrLi+60bHzMO4=</td>\n",
       "      <td>j/XtiyjF45eXi3dn90i2UW63Wf7rjoKBL7qoGq1gyoQ=</td>\n",
       "      <td>1</td>\n",
       "      <td>465</td>\n",
       "      <td>hayley westenra</td>\n",
       "      <td></td>\n",
       "      <td></td>\n",
       "      <td>I Believe</td>\n",
       "    </tr>\n",
       "    <tr>\n",
       "      <th>1143</th>\n",
       "      <td>2fskKP1R2wLxorBFDuClGkr9jkmI4PElDUuItoqFthU=</td>\n",
       "      <td>R99k52nbyoZ0r6wZ9hHNGN3QJGDfNC7DB2alCRWTEEo=</td>\n",
       "      <td>1</td>\n",
       "      <td>465</td>\n",
       "      <td>嚴爵 (yen-j)</td>\n",
       "      <td>嚴爵</td>\n",
       "      <td>嚴云農</td>\n",
       "      <td>一直給 (Give)</td>\n",
       "    </tr>\n",
       "    <tr>\n",
       "      <th>1357</th>\n",
       "      <td>QSr0tiC4PPRruETvyxfr74vv30ktUllcniDmfpm43+g=</td>\n",
       "      <td>WaTir4MCLibe4CVwg827pj/9+lzGvXzuDQJenqHtIMU=</td>\n",
       "      <td>1</td>\n",
       "      <td>437</td>\n",
       "      <td>kalafina</td>\n",
       "      <td>yuki kajiura</td>\n",
       "      <td>yuki kajiura</td>\n",
       "      <td>Blaze</td>\n",
       "    </tr>\n",
       "  </tbody>\n",
       "</table>\n",
       "</div>"
      ],
      "text/plain": [
       "                                           user_id  \\\n",
       "476   LdNQe9L3ewHSp6yOrMAhLEjrKqiqNnw417zaatGlZr4=   \n",
       "760   o4g32YnfuD7gpEkGjlBrqN2rP61NcuNRz1Sq1jIczvI=   \n",
       "741   rCUwLPDFrjzJg4VxfME1d2GQvqWIIEyfUcjqPC5l6l4=   \n",
       "1049  etPpsFVQkbDKqjErFK5OWW7NoP8wSUBtzMLIvIi1s+g=   \n",
       "777   vV+RMnzML8PwUTm2mcRajBbKVks896F2YVI25VwoQkY=   \n",
       "489   NoyTlB2G5AqMxiX8duezDHkscZlCRjDDJQSFoaUy/Y8=   \n",
       "439   CJbBRvpbzOD/hR6eBO+1HDprtgE/A833vfjYYbFdddc=   \n",
       "958   hscYoX9rNseZ77DxVTPXLV18MH03ADYrLi+60bHzMO4=   \n",
       "1143  2fskKP1R2wLxorBFDuClGkr9jkmI4PElDUuItoqFthU=   \n",
       "1357  QSr0tiC4PPRruETvyxfr74vv30ktUllcniDmfpm43+g=   \n",
       "\n",
       "                                           song_id  target    genre_ids  \\\n",
       "476   48PnLVsKQXwlRoNr7779QyZxweYBbpX9z3E1YZm2F/A=       1          139   \n",
       "760   CRrF13jSccFyPiWrpgDtR/QeZuFkungWwy3u6EA3YyA=       0          465   \n",
       "741   OMTekr/F22VU+hUvLZYz8D1bZPyKoZxaARBfqpNFGM0=       1          958   \n",
       "1049  1mpaO+5qY/2x0PacUeX8g8zv++D8dbpv1bWO7LFxQ5k=       1          465   \n",
       "777   MFPjIaT0PEycUUGrql3P1ww06+vCXCvzH2LZFxD+DjU=       0  139 125 109   \n",
       "489   7vGvrf5l1XzNbeLZXzQgaNvc2VBmncarpN3LQpLUZiY=       1          458   \n",
       "439   f+kUjlxaL1nKJ2FZCOkc40O8YHvA5KJY24ykMh3qXII=       1          444   \n",
       "958   j/XtiyjF45eXi3dn90i2UW63Wf7rjoKBL7qoGq1gyoQ=       1          465   \n",
       "1143  R99k52nbyoZ0r6wZ9hHNGN3QJGDfNC7DB2alCRWTEEo=       1          465   \n",
       "1357  WaTir4MCLibe4CVwg827pj/9+lzGvXzuDQJenqHtIMU=       1          437   \n",
       "\n",
       "           artist_name                                           composer  \\\n",
       "476         the weeknd  abel tesfaye  thomas bangalter  guy-manuel de ...   \n",
       "760   陳綺貞 (cheer chen)                                                      \n",
       "741    various artists                                                      \n",
       "1049               周俊偉                                                      \n",
       "777          che'nelle                            tee  ryosuke imai  hiro   \n",
       "489     周杰倫 (jay chou)                                                周杰倫   \n",
       "439              i.o.i                                                      \n",
       "958    hayley westenra                                                      \n",
       "1143        嚴爵 (yen-j)                                                 嚴爵   \n",
       "1357          kalafina                                       yuki kajiura   \n",
       "\n",
       "          lyricist                                          song_name  \n",
       "476                                                           Starboy  \n",
       "760                                                      魚 (the edge)  \n",
       "741                 布魯赫：第一號小提琴協奏曲/第二樂章：慢板 (Violin Concerto No. 1 i...  \n",
       "1049                                                             你別傻了  \n",
       "777            tee                                      Baby I Love U  \n",
       "489            方文山                                                我不配  \n",
       "439                                                    Very Very Very  \n",
       "958                                                         I Believe  \n",
       "1143           嚴云農                                         一直給 (Give)  \n",
       "1357  yuki kajiura                                              Blaze  "
      ]
     },
     "execution_count": 43,
     "metadata": {},
     "output_type": "execute_result"
    }
   ],
   "source": [
    "main_df.sample(10)"
   ]
  },
  {
   "cell_type": "markdown",
   "metadata": {},
   "source": [
    "- Creating new column song_details with values concatenating corresoponding values of attributes artist_name, composer, lyricist ."
   ]
  },
  {
   "cell_type": "code",
   "execution_count": 44,
   "metadata": {},
   "outputs": [
    {
     "data": {
      "text/html": [
       "<div>\n",
       "<style scoped>\n",
       "    .dataframe tbody tr th:only-of-type {\n",
       "        vertical-align: middle;\n",
       "    }\n",
       "\n",
       "    .dataframe tbody tr th {\n",
       "        vertical-align: top;\n",
       "    }\n",
       "\n",
       "    .dataframe thead th {\n",
       "        text-align: right;\n",
       "    }\n",
       "</style>\n",
       "<table border=\"1\" class=\"dataframe\">\n",
       "  <thead>\n",
       "    <tr style=\"text-align: right;\">\n",
       "      <th></th>\n",
       "      <th>user_id</th>\n",
       "      <th>song_id</th>\n",
       "      <th>target</th>\n",
       "      <th>genre_ids</th>\n",
       "      <th>artist_name</th>\n",
       "      <th>composer</th>\n",
       "      <th>lyricist</th>\n",
       "      <th>song_name</th>\n",
       "      <th>songs_details</th>\n",
       "    </tr>\n",
       "  </thead>\n",
       "  <tbody>\n",
       "    <tr>\n",
       "      <th>0</th>\n",
       "      <td>FGtllVqz18RPiwJj/edr2gV78zirAiY/9SmYvia+kCg=</td>\n",
       "      <td>3Hg5kugV1S0wzEVLAEfqjIV5UHzb7bCrdBRQlGygLvU=</td>\n",
       "      <td>1</td>\n",
       "      <td>1259</td>\n",
       "      <td>desiigner</td>\n",
       "      <td>sidney selby  adnan khan</td>\n",
       "      <td></td>\n",
       "      <td>Panda</td>\n",
       "      <td>desiignersidney selby  adnan khan</td>\n",
       "    </tr>\n",
       "    <tr>\n",
       "      <th>1</th>\n",
       "      <td>hZyOA+0yqClPLt6uIEndf8fG8szH/95eKMbaxLE5z30=</td>\n",
       "      <td>3Hg5kugV1S0wzEVLAEfqjIV5UHzb7bCrdBRQlGygLvU=</td>\n",
       "      <td>1</td>\n",
       "      <td>1259</td>\n",
       "      <td>desiigner</td>\n",
       "      <td>sidney selby  adnan khan</td>\n",
       "      <td></td>\n",
       "      <td>Panda</td>\n",
       "      <td>desiignersidney selby  adnan khan</td>\n",
       "    </tr>\n",
       "    <tr>\n",
       "      <th>2</th>\n",
       "      <td>0LhkakIQDn36HZXI6ClQSO7W7jkpZAy+9MvYgPOZGrA=</td>\n",
       "      <td>skehue/d/R59G71dXYpntDwdjRRPlweN3JE8g40TgZU=</td>\n",
       "      <td>1</td>\n",
       "      <td>458</td>\n",
       "      <td>莊心妍</td>\n",
       "      <td>鄭建浩</td>\n",
       "      <td>鄭建浩</td>\n",
       "      <td>我過的很好</td>\n",
       "      <td>莊心妍鄭建浩鄭建浩</td>\n",
       "    </tr>\n",
       "    <tr>\n",
       "      <th>3</th>\n",
       "      <td>MofmAMt7P8LIcF4+LLlcjyIhYUzmv13L/LRwYFxiGYE=</td>\n",
       "      <td>skehue/d/R59G71dXYpntDwdjRRPlweN3JE8g40TgZU=</td>\n",
       "      <td>1</td>\n",
       "      <td>458</td>\n",
       "      <td>莊心妍</td>\n",
       "      <td>鄭建浩</td>\n",
       "      <td>鄭建浩</td>\n",
       "      <td>我過的很好</td>\n",
       "      <td>莊心妍鄭建浩鄭建浩</td>\n",
       "    </tr>\n",
       "    <tr>\n",
       "      <th>4</th>\n",
       "      <td>U9Z+N+szYGJHTPMn/C0V7yIyIC24fDI0RDRWChXATkg=</td>\n",
       "      <td>skehue/d/R59G71dXYpntDwdjRRPlweN3JE8g40TgZU=</td>\n",
       "      <td>0</td>\n",
       "      <td>458</td>\n",
       "      <td>莊心妍</td>\n",
       "      <td>鄭建浩</td>\n",
       "      <td>鄭建浩</td>\n",
       "      <td>我過的很好</td>\n",
       "      <td>莊心妍鄭建浩鄭建浩</td>\n",
       "    </tr>\n",
       "  </tbody>\n",
       "</table>\n",
       "</div>"
      ],
      "text/plain": [
       "                                        user_id  \\\n",
       "0  FGtllVqz18RPiwJj/edr2gV78zirAiY/9SmYvia+kCg=   \n",
       "1  hZyOA+0yqClPLt6uIEndf8fG8szH/95eKMbaxLE5z30=   \n",
       "2  0LhkakIQDn36HZXI6ClQSO7W7jkpZAy+9MvYgPOZGrA=   \n",
       "3  MofmAMt7P8LIcF4+LLlcjyIhYUzmv13L/LRwYFxiGYE=   \n",
       "4  U9Z+N+szYGJHTPMn/C0V7yIyIC24fDI0RDRWChXATkg=   \n",
       "\n",
       "                                        song_id  target genre_ids artist_name  \\\n",
       "0  3Hg5kugV1S0wzEVLAEfqjIV5UHzb7bCrdBRQlGygLvU=       1      1259   desiigner   \n",
       "1  3Hg5kugV1S0wzEVLAEfqjIV5UHzb7bCrdBRQlGygLvU=       1      1259   desiigner   \n",
       "2  skehue/d/R59G71dXYpntDwdjRRPlweN3JE8g40TgZU=       1       458         莊心妍   \n",
       "3  skehue/d/R59G71dXYpntDwdjRRPlweN3JE8g40TgZU=       1       458         莊心妍   \n",
       "4  skehue/d/R59G71dXYpntDwdjRRPlweN3JE8g40TgZU=       0       458         莊心妍   \n",
       "\n",
       "                   composer lyricist song_name  \\\n",
       "0  sidney selby  adnan khan              Panda   \n",
       "1  sidney selby  adnan khan              Panda   \n",
       "2                       鄭建浩      鄭建浩     我過的很好   \n",
       "3                       鄭建浩      鄭建浩     我過的很好   \n",
       "4                       鄭建浩      鄭建浩     我過的很好   \n",
       "\n",
       "                        songs_details  \n",
       "0  desiignersidney selby  adnan khan   \n",
       "1  desiignersidney selby  adnan khan   \n",
       "2                           莊心妍鄭建浩鄭建浩  \n",
       "3                           莊心妍鄭建浩鄭建浩  \n",
       "4                           莊心妍鄭建浩鄭建浩  "
      ]
     },
     "execution_count": 44,
     "metadata": {},
     "output_type": "execute_result"
    }
   ],
   "source": [
    "main_df['songs_details']=main_df['artist_name']+''+main_df['composer']+main_df['lyricist']\n",
    "main_df.head()"
   ]
  },
  {
   "cell_type": "markdown",
   "metadata": {},
   "source": [
    "- To find how many timmes each user ID appears in the dataset"
   ]
  },
  {
   "cell_type": "code",
   "execution_count": 45,
   "metadata": {},
   "outputs": [
    {
     "data": {
      "text/plain": [
       "EozJegFxTFIWDb9aJ7O8kSUHAgx4ZIvqf7IuN5Zck50=    19\n",
       "V5U4EGk2kaSKaUGSwhU6g3HBefxflEvAy1vWPu6UBQs=    18\n",
       "Bwg9yS76qujJJeKsYSzfJrMlkjK5Ui7KFkgUcjuXRCg=    12\n",
       "W9NYSCff57nmfyYCiX6IbW0/G3YuwC18h/rld+BGxMY=    11\n",
       "UzlQoa9tdrcpYdh4wksoh+SpWCFcKvRGPA+xLNqghmo=    11\n",
       "                                                ..\n",
       "rb7TT328utsdnd8COyhstig0zciXIURo7M464E60EHg=     1\n",
       "hSn7jMfIURFu+1W3PDIDTxbhM5SxRg9VFRoH23Rm2Ic=     1\n",
       "yrMfQXudhDaA/bOePZtkKErbjZc5pALG79FHPayEy5U=     1\n",
       "iP3eF1In0rH61CfgVmWVYj4CgFcQQ0iVZG7MBA+Plgo=     1\n",
       "j2Sx5B7BrjqCiT3ZwWK4AvepwM14QEalhTPi2/sgdG4=     1\n",
       "Name: user_id, Length: 975, dtype: int64"
      ]
     },
     "execution_count": 45,
     "metadata": {},
     "output_type": "execute_result"
    }
   ],
   "source": [
    "main_df.user_id.value_counts()\n"
   ]
  },
  {
   "cell_type": "markdown",
   "metadata": {},
   "source": [
    "#### Computing Similarities between songs using cosine similarities\n",
    "\n",
    "- Before computing, cosine similaritiy, we need to remove duplicate values in song_details"
   ]
  },
  {
   "cell_type": "code",
   "execution_count": 46,
   "metadata": {},
   "outputs": [
    {
     "data": {
      "text/plain": [
       "0"
      ]
     },
     "execution_count": 46,
     "metadata": {},
     "output_type": "execute_result"
    }
   ],
   "source": [
    "main_df.duplicated().sum()"
   ]
  },
  {
   "cell_type": "markdown",
   "metadata": {},
   "source": [
    "- \"As main_df contains user_id, so there will be rarely duplicated tuples. Here, it's zero.\"\n",
    "The DataFrame \"main_df\" contains the 'user_id' column, which uniquely identifies each row as it represents different users. Since different users can listen to the same song, there might be multiple rows with the same 'song_id' but different 'user_id'. Therefore, there could be duplicate 'song_details' for different users. However, since the 'user_id' column is included, the tuples (rows) are unique due to the distinct 'user_id' values. Thus, the number of duplicated tuples (rows) in \"main_df\" is zero.\n",
    "\n",
    "- \"As different users can listen to the same song, so we need to remove user_id and see for duplicate tuples in our dataset.\"\n",
    "To calculate the similarity between songs based on their attributes such as 'genre_ids', 'artist_name', 'composer', and 'lyricist', it's essential to remove the 'user_id' column, as the user information is not relevant for the similarity calculation. The 'user_id' column uniquely identifies the interaction between a specific user and a specific song, but it is not relevant for comparing the songs themselves.\n",
    "\n",
    "- Once the 'user_id' column is removed, the DataFrame \"temp_df\" contains only the song-related attributes, and there might be some duplicate rows (tuples) if different users have listened to the same song. These duplicates need to be removed to ensure that each unique song is represented only once when calculating cosine similarity.\n",
    "\n",
    "- After removing the 'user_id' column and eliminating any duplicate rows, the remaining rows in \"temp_df\" represent unique songs with their associated attributes. This clean dataset is then used to compute cosine similarity between songs based on their 'song_details', which is a combination of 'genre_ids', 'artist_name', 'composer', and 'lyricist'.\n",
    "\n",
    "- By focusing on the songs' characteristics rather than individual user interactions, the music recommendation system can provide more accurate and general song recommendations that are based on the intrinsic properties of the songs themselves."
   ]
  },
  {
   "cell_type": "markdown",
   "metadata": {},
   "source": [
    "#### Now, make a copy of main_df to temp_df so that we can drop user_id from it and use it on cosine similarity"
   ]
  },
  {
   "cell_type": "code",
   "execution_count": 47,
   "metadata": {},
   "outputs": [
    {
     "data": {
      "text/html": [
       "<div>\n",
       "<style scoped>\n",
       "    .dataframe tbody tr th:only-of-type {\n",
       "        vertical-align: middle;\n",
       "    }\n",
       "\n",
       "    .dataframe tbody tr th {\n",
       "        vertical-align: top;\n",
       "    }\n",
       "\n",
       "    .dataframe thead th {\n",
       "        text-align: right;\n",
       "    }\n",
       "</style>\n",
       "<table border=\"1\" class=\"dataframe\">\n",
       "  <thead>\n",
       "    <tr style=\"text-align: right;\">\n",
       "      <th></th>\n",
       "      <th>user_id</th>\n",
       "      <th>song_id</th>\n",
       "      <th>target</th>\n",
       "      <th>genre_ids</th>\n",
       "      <th>artist_name</th>\n",
       "      <th>composer</th>\n",
       "      <th>lyricist</th>\n",
       "      <th>song_name</th>\n",
       "      <th>songs_details</th>\n",
       "    </tr>\n",
       "  </thead>\n",
       "  <tbody>\n",
       "    <tr>\n",
       "      <th>0</th>\n",
       "      <td>FGtllVqz18RPiwJj/edr2gV78zirAiY/9SmYvia+kCg=</td>\n",
       "      <td>3Hg5kugV1S0wzEVLAEfqjIV5UHzb7bCrdBRQlGygLvU=</td>\n",
       "      <td>1</td>\n",
       "      <td>1259</td>\n",
       "      <td>desiigner</td>\n",
       "      <td>sidney selby  adnan khan</td>\n",
       "      <td></td>\n",
       "      <td>Panda</td>\n",
       "      <td>desiignersidney selby  adnan khan</td>\n",
       "    </tr>\n",
       "    <tr>\n",
       "      <th>1</th>\n",
       "      <td>hZyOA+0yqClPLt6uIEndf8fG8szH/95eKMbaxLE5z30=</td>\n",
       "      <td>3Hg5kugV1S0wzEVLAEfqjIV5UHzb7bCrdBRQlGygLvU=</td>\n",
       "      <td>1</td>\n",
       "      <td>1259</td>\n",
       "      <td>desiigner</td>\n",
       "      <td>sidney selby  adnan khan</td>\n",
       "      <td></td>\n",
       "      <td>Panda</td>\n",
       "      <td>desiignersidney selby  adnan khan</td>\n",
       "    </tr>\n",
       "    <tr>\n",
       "      <th>2</th>\n",
       "      <td>0LhkakIQDn36HZXI6ClQSO7W7jkpZAy+9MvYgPOZGrA=</td>\n",
       "      <td>skehue/d/R59G71dXYpntDwdjRRPlweN3JE8g40TgZU=</td>\n",
       "      <td>1</td>\n",
       "      <td>458</td>\n",
       "      <td>莊心妍</td>\n",
       "      <td>鄭建浩</td>\n",
       "      <td>鄭建浩</td>\n",
       "      <td>我過的很好</td>\n",
       "      <td>莊心妍鄭建浩鄭建浩</td>\n",
       "    </tr>\n",
       "    <tr>\n",
       "      <th>3</th>\n",
       "      <td>MofmAMt7P8LIcF4+LLlcjyIhYUzmv13L/LRwYFxiGYE=</td>\n",
       "      <td>skehue/d/R59G71dXYpntDwdjRRPlweN3JE8g40TgZU=</td>\n",
       "      <td>1</td>\n",
       "      <td>458</td>\n",
       "      <td>莊心妍</td>\n",
       "      <td>鄭建浩</td>\n",
       "      <td>鄭建浩</td>\n",
       "      <td>我過的很好</td>\n",
       "      <td>莊心妍鄭建浩鄭建浩</td>\n",
       "    </tr>\n",
       "    <tr>\n",
       "      <th>4</th>\n",
       "      <td>U9Z+N+szYGJHTPMn/C0V7yIyIC24fDI0RDRWChXATkg=</td>\n",
       "      <td>skehue/d/R59G71dXYpntDwdjRRPlweN3JE8g40TgZU=</td>\n",
       "      <td>0</td>\n",
       "      <td>458</td>\n",
       "      <td>莊心妍</td>\n",
       "      <td>鄭建浩</td>\n",
       "      <td>鄭建浩</td>\n",
       "      <td>我過的很好</td>\n",
       "      <td>莊心妍鄭建浩鄭建浩</td>\n",
       "    </tr>\n",
       "  </tbody>\n",
       "</table>\n",
       "</div>"
      ],
      "text/plain": [
       "                                        user_id  \\\n",
       "0  FGtllVqz18RPiwJj/edr2gV78zirAiY/9SmYvia+kCg=   \n",
       "1  hZyOA+0yqClPLt6uIEndf8fG8szH/95eKMbaxLE5z30=   \n",
       "2  0LhkakIQDn36HZXI6ClQSO7W7jkpZAy+9MvYgPOZGrA=   \n",
       "3  MofmAMt7P8LIcF4+LLlcjyIhYUzmv13L/LRwYFxiGYE=   \n",
       "4  U9Z+N+szYGJHTPMn/C0V7yIyIC24fDI0RDRWChXATkg=   \n",
       "\n",
       "                                        song_id  target genre_ids artist_name  \\\n",
       "0  3Hg5kugV1S0wzEVLAEfqjIV5UHzb7bCrdBRQlGygLvU=       1      1259   desiigner   \n",
       "1  3Hg5kugV1S0wzEVLAEfqjIV5UHzb7bCrdBRQlGygLvU=       1      1259   desiigner   \n",
       "2  skehue/d/R59G71dXYpntDwdjRRPlweN3JE8g40TgZU=       1       458         莊心妍   \n",
       "3  skehue/d/R59G71dXYpntDwdjRRPlweN3JE8g40TgZU=       1       458         莊心妍   \n",
       "4  skehue/d/R59G71dXYpntDwdjRRPlweN3JE8g40TgZU=       0       458         莊心妍   \n",
       "\n",
       "                   composer lyricist song_name  \\\n",
       "0  sidney selby  adnan khan              Panda   \n",
       "1  sidney selby  adnan khan              Panda   \n",
       "2                       鄭建浩      鄭建浩     我過的很好   \n",
       "3                       鄭建浩      鄭建浩     我過的很好   \n",
       "4                       鄭建浩      鄭建浩     我過的很好   \n",
       "\n",
       "                        songs_details  \n",
       "0  desiignersidney selby  adnan khan   \n",
       "1  desiignersidney selby  adnan khan   \n",
       "2                           莊心妍鄭建浩鄭建浩  \n",
       "3                           莊心妍鄭建浩鄭建浩  \n",
       "4                           莊心妍鄭建浩鄭建浩  "
      ]
     },
     "execution_count": 47,
     "metadata": {},
     "output_type": "execute_result"
    }
   ],
   "source": [
    "temp_df = main_df.copy() # Making duplicate of Original dataset.\n",
    "temp_df.head()"
   ]
  },
  {
   "cell_type": "markdown",
   "metadata": {},
   "source": [
    "- Now checking duplicated values before computing cosine similarities"
   ]
  },
  {
   "cell_type": "code",
   "execution_count": 49,
   "metadata": {},
   "outputs": [
    {
     "data": {
      "text/plain": [
       "889"
      ]
     },
     "execution_count": 49,
     "metadata": {},
     "output_type": "execute_result"
    }
   ],
   "source": [
    "temp_df.songs_details.duplicated().sum()"
   ]
  },
  {
   "cell_type": "code",
   "execution_count": 50,
   "metadata": {},
   "outputs": [
    {
     "data": {
      "text/plain": [
       "(1509, 9)"
      ]
     },
     "execution_count": 50,
     "metadata": {},
     "output_type": "execute_result"
    }
   ],
   "source": [
    "temp_df.shape"
   ]
  },
  {
   "cell_type": "code",
   "execution_count": 51,
   "metadata": {},
   "outputs": [
    {
     "data": {
      "text/plain": [
       "0"
      ]
     },
     "execution_count": 51,
     "metadata": {},
     "output_type": "execute_result"
    }
   ],
   "source": [
    "temp_df.duplicated().sum()"
   ]
  },
  {
   "cell_type": "code",
   "execution_count": 52,
   "metadata": {},
   "outputs": [],
   "source": [
    "temp_df = temp_df.drop('user_id', axis=1) # Removing user_id from temp_df"
   ]
  },
  {
   "cell_type": "code",
   "execution_count": 53,
   "metadata": {},
   "outputs": [
    {
     "data": {
      "text/html": [
       "<div>\n",
       "<style scoped>\n",
       "    .dataframe tbody tr th:only-of-type {\n",
       "        vertical-align: middle;\n",
       "    }\n",
       "\n",
       "    .dataframe tbody tr th {\n",
       "        vertical-align: top;\n",
       "    }\n",
       "\n",
       "    .dataframe thead th {\n",
       "        text-align: right;\n",
       "    }\n",
       "</style>\n",
       "<table border=\"1\" class=\"dataframe\">\n",
       "  <thead>\n",
       "    <tr style=\"text-align: right;\">\n",
       "      <th></th>\n",
       "      <th>song_id</th>\n",
       "      <th>target</th>\n",
       "      <th>genre_ids</th>\n",
       "      <th>artist_name</th>\n",
       "      <th>composer</th>\n",
       "      <th>lyricist</th>\n",
       "      <th>song_name</th>\n",
       "      <th>songs_details</th>\n",
       "    </tr>\n",
       "  </thead>\n",
       "  <tbody>\n",
       "    <tr>\n",
       "      <th>0</th>\n",
       "      <td>3Hg5kugV1S0wzEVLAEfqjIV5UHzb7bCrdBRQlGygLvU=</td>\n",
       "      <td>1</td>\n",
       "      <td>1259</td>\n",
       "      <td>desiigner</td>\n",
       "      <td>sidney selby  adnan khan</td>\n",
       "      <td></td>\n",
       "      <td>Panda</td>\n",
       "      <td>desiignersidney selby  adnan khan</td>\n",
       "    </tr>\n",
       "    <tr>\n",
       "      <th>1</th>\n",
       "      <td>3Hg5kugV1S0wzEVLAEfqjIV5UHzb7bCrdBRQlGygLvU=</td>\n",
       "      <td>1</td>\n",
       "      <td>1259</td>\n",
       "      <td>desiigner</td>\n",
       "      <td>sidney selby  adnan khan</td>\n",
       "      <td></td>\n",
       "      <td>Panda</td>\n",
       "      <td>desiignersidney selby  adnan khan</td>\n",
       "    </tr>\n",
       "    <tr>\n",
       "      <th>2</th>\n",
       "      <td>skehue/d/R59G71dXYpntDwdjRRPlweN3JE8g40TgZU=</td>\n",
       "      <td>1</td>\n",
       "      <td>458</td>\n",
       "      <td>莊心妍</td>\n",
       "      <td>鄭建浩</td>\n",
       "      <td>鄭建浩</td>\n",
       "      <td>我過的很好</td>\n",
       "      <td>莊心妍鄭建浩鄭建浩</td>\n",
       "    </tr>\n",
       "    <tr>\n",
       "      <th>3</th>\n",
       "      <td>skehue/d/R59G71dXYpntDwdjRRPlweN3JE8g40TgZU=</td>\n",
       "      <td>1</td>\n",
       "      <td>458</td>\n",
       "      <td>莊心妍</td>\n",
       "      <td>鄭建浩</td>\n",
       "      <td>鄭建浩</td>\n",
       "      <td>我過的很好</td>\n",
       "      <td>莊心妍鄭建浩鄭建浩</td>\n",
       "    </tr>\n",
       "    <tr>\n",
       "      <th>4</th>\n",
       "      <td>skehue/d/R59G71dXYpntDwdjRRPlweN3JE8g40TgZU=</td>\n",
       "      <td>0</td>\n",
       "      <td>458</td>\n",
       "      <td>莊心妍</td>\n",
       "      <td>鄭建浩</td>\n",
       "      <td>鄭建浩</td>\n",
       "      <td>我過的很好</td>\n",
       "      <td>莊心妍鄭建浩鄭建浩</td>\n",
       "    </tr>\n",
       "  </tbody>\n",
       "</table>\n",
       "</div>"
      ],
      "text/plain": [
       "                                        song_id  target genre_ids artist_name  \\\n",
       "0  3Hg5kugV1S0wzEVLAEfqjIV5UHzb7bCrdBRQlGygLvU=       1      1259   desiigner   \n",
       "1  3Hg5kugV1S0wzEVLAEfqjIV5UHzb7bCrdBRQlGygLvU=       1      1259   desiigner   \n",
       "2  skehue/d/R59G71dXYpntDwdjRRPlweN3JE8g40TgZU=       1       458         莊心妍   \n",
       "3  skehue/d/R59G71dXYpntDwdjRRPlweN3JE8g40TgZU=       1       458         莊心妍   \n",
       "4  skehue/d/R59G71dXYpntDwdjRRPlweN3JE8g40TgZU=       0       458         莊心妍   \n",
       "\n",
       "                   composer lyricist song_name  \\\n",
       "0  sidney selby  adnan khan              Panda   \n",
       "1  sidney selby  adnan khan              Panda   \n",
       "2                       鄭建浩      鄭建浩     我過的很好   \n",
       "3                       鄭建浩      鄭建浩     我過的很好   \n",
       "4                       鄭建浩      鄭建浩     我過的很好   \n",
       "\n",
       "                        songs_details  \n",
       "0  desiignersidney selby  adnan khan   \n",
       "1  desiignersidney selby  adnan khan   \n",
       "2                           莊心妍鄭建浩鄭建浩  \n",
       "3                           莊心妍鄭建浩鄭建浩  \n",
       "4                           莊心妍鄭建浩鄭建浩  "
      ]
     },
     "execution_count": 53,
     "metadata": {},
     "output_type": "execute_result"
    }
   ],
   "source": [
    "temp_df.head()"
   ]
  },
  {
   "cell_type": "code",
   "execution_count": 54,
   "metadata": {},
   "outputs": [
    {
     "data": {
      "text/plain": [
       "715"
      ]
     },
     "execution_count": 54,
     "metadata": {},
     "output_type": "execute_result"
    }
   ],
   "source": [
    "temp_df.duplicated().sum()"
   ]
  },
  {
   "cell_type": "markdown",
   "metadata": {},
   "source": [
    "- There are 715 duplicated tuples"
   ]
  },
  {
   "cell_type": "markdown",
   "metadata": {},
   "source": [
    "#### Reason for dropping user_id\n",
    "- Once the 'user_id' column is removed, the DataFrame \"temp_df\" contains only the song-related attributes, and there might be some duplicate rows (tuples) if different users have listened to the same song. These duplicates need to be removed to ensure that each unique song is represented only once when calculating cosine similarity."
   ]
  },
  {
   "cell_type": "code",
   "execution_count": 55,
   "metadata": {},
   "outputs": [
    {
     "data": {
      "text/plain": [
       "(794, 8)"
      ]
     },
     "execution_count": 55,
     "metadata": {},
     "output_type": "execute_result"
    }
   ],
   "source": [
    "temp_df = temp_df.drop_duplicates()\n",
    "temp_df.shape"
   ]
  },
  {
   "cell_type": "markdown",
   "metadata": {},
   "source": [
    "- After dropping duplicate values\n",
    "- 1509-715 = 794\n",
    "- Now, there are 794 unique values"
   ]
  },
  {
   "cell_type": "code",
   "execution_count": 56,
   "metadata": {},
   "outputs": [
    {
     "data": {
      "text/html": [
       "<div>\n",
       "<style scoped>\n",
       "    .dataframe tbody tr th:only-of-type {\n",
       "        vertical-align: middle;\n",
       "    }\n",
       "\n",
       "    .dataframe tbody tr th {\n",
       "        vertical-align: top;\n",
       "    }\n",
       "\n",
       "    .dataframe thead th {\n",
       "        text-align: right;\n",
       "    }\n",
       "</style>\n",
       "<table border=\"1\" class=\"dataframe\">\n",
       "  <thead>\n",
       "    <tr style=\"text-align: right;\">\n",
       "      <th></th>\n",
       "      <th>song_id</th>\n",
       "      <th>target</th>\n",
       "      <th>genre_ids</th>\n",
       "      <th>artist_name</th>\n",
       "      <th>composer</th>\n",
       "      <th>lyricist</th>\n",
       "      <th>song_name</th>\n",
       "      <th>songs_details</th>\n",
       "    </tr>\n",
       "  </thead>\n",
       "  <tbody>\n",
       "    <tr>\n",
       "      <th>0</th>\n",
       "      <td>3Hg5kugV1S0wzEVLAEfqjIV5UHzb7bCrdBRQlGygLvU=</td>\n",
       "      <td>1</td>\n",
       "      <td>1259</td>\n",
       "      <td>desiigner</td>\n",
       "      <td>sidney selby  adnan khan</td>\n",
       "      <td></td>\n",
       "      <td>Panda</td>\n",
       "      <td>desiignersidney selby  adnan khan</td>\n",
       "    </tr>\n",
       "    <tr>\n",
       "      <th>2</th>\n",
       "      <td>skehue/d/R59G71dXYpntDwdjRRPlweN3JE8g40TgZU=</td>\n",
       "      <td>1</td>\n",
       "      <td>458</td>\n",
       "      <td>莊心妍</td>\n",
       "      <td>鄭建浩</td>\n",
       "      <td>鄭建浩</td>\n",
       "      <td>我過的很好</td>\n",
       "      <td>莊心妍鄭建浩鄭建浩</td>\n",
       "    </tr>\n",
       "    <tr>\n",
       "      <th>4</th>\n",
       "      <td>skehue/d/R59G71dXYpntDwdjRRPlweN3JE8g40TgZU=</td>\n",
       "      <td>0</td>\n",
       "      <td>458</td>\n",
       "      <td>莊心妍</td>\n",
       "      <td>鄭建浩</td>\n",
       "      <td>鄭建浩</td>\n",
       "      <td>我過的很好</td>\n",
       "      <td>莊心妍鄭建浩鄭建浩</td>\n",
       "    </tr>\n",
       "    <tr>\n",
       "      <th>21</th>\n",
       "      <td>reXuGcEWDDCnL0K3Th//3DFG4S1ACSpJMzA+CFipo1g=</td>\n",
       "      <td>1</td>\n",
       "      <td>458</td>\n",
       "      <td>周湯豪 (nickthereal)</td>\n",
       "      <td>周湯豪</td>\n",
       "      <td>周湯豪\\崔惟楷</td>\n",
       "      <td>帥到分手</td>\n",
       "      <td>周湯豪 (nickthereal)周湯豪周湯豪\\崔惟楷</td>\n",
       "    </tr>\n",
       "    <tr>\n",
       "      <th>73</th>\n",
       "      <td>reXuGcEWDDCnL0K3Th//3DFG4S1ACSpJMzA+CFipo1g=</td>\n",
       "      <td>0</td>\n",
       "      <td>458</td>\n",
       "      <td>周湯豪 (nickthereal)</td>\n",
       "      <td>周湯豪</td>\n",
       "      <td>周湯豪\\崔惟楷</td>\n",
       "      <td>帥到分手</td>\n",
       "      <td>周湯豪 (nickthereal)周湯豪周湯豪\\崔惟楷</td>\n",
       "    </tr>\n",
       "  </tbody>\n",
       "</table>\n",
       "</div>"
      ],
      "text/plain": [
       "                                         song_id  target genre_ids  \\\n",
       "0   3Hg5kugV1S0wzEVLAEfqjIV5UHzb7bCrdBRQlGygLvU=       1      1259   \n",
       "2   skehue/d/R59G71dXYpntDwdjRRPlweN3JE8g40TgZU=       1       458   \n",
       "4   skehue/d/R59G71dXYpntDwdjRRPlweN3JE8g40TgZU=       0       458   \n",
       "21  reXuGcEWDDCnL0K3Th//3DFG4S1ACSpJMzA+CFipo1g=       1       458   \n",
       "73  reXuGcEWDDCnL0K3Th//3DFG4S1ACSpJMzA+CFipo1g=       0       458   \n",
       "\n",
       "          artist_name                  composer lyricist song_name  \\\n",
       "0           desiigner  sidney selby  adnan khan              Panda   \n",
       "2                 莊心妍                       鄭建浩      鄭建浩     我過的很好   \n",
       "4                 莊心妍                       鄭建浩      鄭建浩     我過的很好   \n",
       "21  周湯豪 (nickthereal)                       周湯豪  周湯豪\\崔惟楷      帥到分手   \n",
       "73  周湯豪 (nickthereal)                       周湯豪  周湯豪\\崔惟楷      帥到分手   \n",
       "\n",
       "                         songs_details  \n",
       "0   desiignersidney selby  adnan khan   \n",
       "2                            莊心妍鄭建浩鄭建浩  \n",
       "4                            莊心妍鄭建浩鄭建浩  \n",
       "21         周湯豪 (nickthereal)周湯豪周湯豪\\崔惟楷  \n",
       "73         周湯豪 (nickthereal)周湯豪周湯豪\\崔惟楷  "
      ]
     },
     "execution_count": 56,
     "metadata": {},
     "output_type": "execute_result"
    }
   ],
   "source": [
    "temp_df.head()"
   ]
  },
  {
   "cell_type": "code",
   "execution_count": 57,
   "metadata": {},
   "outputs": [],
   "source": [
    "temp_df.reset_index(inplace=True)"
   ]
  },
  {
   "cell_type": "code",
   "execution_count": 58,
   "metadata": {},
   "outputs": [
    {
     "data": {
      "text/html": [
       "<div>\n",
       "<style scoped>\n",
       "    .dataframe tbody tr th:only-of-type {\n",
       "        vertical-align: middle;\n",
       "    }\n",
       "\n",
       "    .dataframe tbody tr th {\n",
       "        vertical-align: top;\n",
       "    }\n",
       "\n",
       "    .dataframe thead th {\n",
       "        text-align: right;\n",
       "    }\n",
       "</style>\n",
       "<table border=\"1\" class=\"dataframe\">\n",
       "  <thead>\n",
       "    <tr style=\"text-align: right;\">\n",
       "      <th></th>\n",
       "      <th>index</th>\n",
       "      <th>song_id</th>\n",
       "      <th>target</th>\n",
       "      <th>genre_ids</th>\n",
       "      <th>artist_name</th>\n",
       "      <th>composer</th>\n",
       "      <th>lyricist</th>\n",
       "      <th>song_name</th>\n",
       "      <th>songs_details</th>\n",
       "    </tr>\n",
       "  </thead>\n",
       "  <tbody>\n",
       "    <tr>\n",
       "      <th>0</th>\n",
       "      <td>0</td>\n",
       "      <td>3Hg5kugV1S0wzEVLAEfqjIV5UHzb7bCrdBRQlGygLvU=</td>\n",
       "      <td>1</td>\n",
       "      <td>1259</td>\n",
       "      <td>desiigner</td>\n",
       "      <td>sidney selby  adnan khan</td>\n",
       "      <td></td>\n",
       "      <td>Panda</td>\n",
       "      <td>desiignersidney selby  adnan khan</td>\n",
       "    </tr>\n",
       "    <tr>\n",
       "      <th>1</th>\n",
       "      <td>2</td>\n",
       "      <td>skehue/d/R59G71dXYpntDwdjRRPlweN3JE8g40TgZU=</td>\n",
       "      <td>1</td>\n",
       "      <td>458</td>\n",
       "      <td>莊心妍</td>\n",
       "      <td>鄭建浩</td>\n",
       "      <td>鄭建浩</td>\n",
       "      <td>我過的很好</td>\n",
       "      <td>莊心妍鄭建浩鄭建浩</td>\n",
       "    </tr>\n",
       "    <tr>\n",
       "      <th>2</th>\n",
       "      <td>4</td>\n",
       "      <td>skehue/d/R59G71dXYpntDwdjRRPlweN3JE8g40TgZU=</td>\n",
       "      <td>0</td>\n",
       "      <td>458</td>\n",
       "      <td>莊心妍</td>\n",
       "      <td>鄭建浩</td>\n",
       "      <td>鄭建浩</td>\n",
       "      <td>我過的很好</td>\n",
       "      <td>莊心妍鄭建浩鄭建浩</td>\n",
       "    </tr>\n",
       "    <tr>\n",
       "      <th>3</th>\n",
       "      <td>21</td>\n",
       "      <td>reXuGcEWDDCnL0K3Th//3DFG4S1ACSpJMzA+CFipo1g=</td>\n",
       "      <td>1</td>\n",
       "      <td>458</td>\n",
       "      <td>周湯豪 (nickthereal)</td>\n",
       "      <td>周湯豪</td>\n",
       "      <td>周湯豪\\崔惟楷</td>\n",
       "      <td>帥到分手</td>\n",
       "      <td>周湯豪 (nickthereal)周湯豪周湯豪\\崔惟楷</td>\n",
       "    </tr>\n",
       "    <tr>\n",
       "      <th>4</th>\n",
       "      <td>73</td>\n",
       "      <td>reXuGcEWDDCnL0K3Th//3DFG4S1ACSpJMzA+CFipo1g=</td>\n",
       "      <td>0</td>\n",
       "      <td>458</td>\n",
       "      <td>周湯豪 (nickthereal)</td>\n",
       "      <td>周湯豪</td>\n",
       "      <td>周湯豪\\崔惟楷</td>\n",
       "      <td>帥到分手</td>\n",
       "      <td>周湯豪 (nickthereal)周湯豪周湯豪\\崔惟楷</td>\n",
       "    </tr>\n",
       "  </tbody>\n",
       "</table>\n",
       "</div>"
      ],
      "text/plain": [
       "   index                                       song_id  target genre_ids  \\\n",
       "0      0  3Hg5kugV1S0wzEVLAEfqjIV5UHzb7bCrdBRQlGygLvU=       1      1259   \n",
       "1      2  skehue/d/R59G71dXYpntDwdjRRPlweN3JE8g40TgZU=       1       458   \n",
       "2      4  skehue/d/R59G71dXYpntDwdjRRPlweN3JE8g40TgZU=       0       458   \n",
       "3     21  reXuGcEWDDCnL0K3Th//3DFG4S1ACSpJMzA+CFipo1g=       1       458   \n",
       "4     73  reXuGcEWDDCnL0K3Th//3DFG4S1ACSpJMzA+CFipo1g=       0       458   \n",
       "\n",
       "         artist_name                  composer lyricist song_name  \\\n",
       "0          desiigner  sidney selby  adnan khan              Panda   \n",
       "1                莊心妍                       鄭建浩      鄭建浩     我過的很好   \n",
       "2                莊心妍                       鄭建浩      鄭建浩     我過的很好   \n",
       "3  周湯豪 (nickthereal)                       周湯豪  周湯豪\\崔惟楷      帥到分手   \n",
       "4  周湯豪 (nickthereal)                       周湯豪  周湯豪\\崔惟楷      帥到分手   \n",
       "\n",
       "                        songs_details  \n",
       "0  desiignersidney selby  adnan khan   \n",
       "1                           莊心妍鄭建浩鄭建浩  \n",
       "2                           莊心妍鄭建浩鄭建浩  \n",
       "3         周湯豪 (nickthereal)周湯豪周湯豪\\崔惟楷  \n",
       "4         周湯豪 (nickthereal)周湯豪周湯豪\\崔惟楷  "
      ]
     },
     "execution_count": 58,
     "metadata": {},
     "output_type": "execute_result"
    }
   ],
   "source": [
    "temp_df.head()"
   ]
  },
  {
   "cell_type": "code",
   "execution_count": 78,
   "metadata": {},
   "outputs": [
    {
     "name": "stderr",
     "output_type": "stream",
     "text": [
      "c:\\Users\\Jonathan\\AppData\\Local\\Programs\\Python\\Python39\\lib\\site-packages\\IPython\\core\\pylabtools.py:132: UserWarning: Glyph 21608 (\\N{CJK UNIFIED IDEOGRAPH-5468}) missing from current font.\n",
      "  fig.canvas.print_figure(bytes_io, **kw)\n",
      "c:\\Users\\Jonathan\\AppData\\Local\\Programs\\Python\\Python39\\lib\\site-packages\\IPython\\core\\pylabtools.py:132: UserWarning: Glyph 26480 (\\N{CJK UNIFIED IDEOGRAPH-6770}) missing from current font.\n",
      "  fig.canvas.print_figure(bytes_io, **kw)\n",
      "c:\\Users\\Jonathan\\AppData\\Local\\Programs\\Python\\Python39\\lib\\site-packages\\IPython\\core\\pylabtools.py:132: UserWarning: Glyph 20523 (\\N{CJK UNIFIED IDEOGRAPH-502B}) missing from current font.\n",
      "  fig.canvas.print_figure(bytes_io, **kw)\n",
      "c:\\Users\\Jonathan\\AppData\\Local\\Programs\\Python\\Python39\\lib\\site-packages\\IPython\\core\\pylabtools.py:132: UserWarning: Glyph 20116 (\\N{CJK UNIFIED IDEOGRAPH-4E94}) missing from current font.\n",
      "  fig.canvas.print_figure(bytes_io, **kw)\n",
      "c:\\Users\\Jonathan\\AppData\\Local\\Programs\\Python\\Python39\\lib\\site-packages\\IPython\\core\\pylabtools.py:132: UserWarning: Glyph 26376 (\\N{CJK UNIFIED IDEOGRAPH-6708}) missing from current font.\n",
      "  fig.canvas.print_figure(bytes_io, **kw)\n",
      "c:\\Users\\Jonathan\\AppData\\Local\\Programs\\Python\\Python39\\lib\\site-packages\\IPython\\core\\pylabtools.py:132: UserWarning: Glyph 22825 (\\N{CJK UNIFIED IDEOGRAPH-5929}) missing from current font.\n",
      "  fig.canvas.print_figure(bytes_io, **kw)\n",
      "c:\\Users\\Jonathan\\AppData\\Local\\Programs\\Python\\Python39\\lib\\site-packages\\IPython\\core\\pylabtools.py:132: UserWarning: Glyph 26519 (\\N{CJK UNIFIED IDEOGRAPH-6797}) missing from current font.\n",
      "  fig.canvas.print_figure(bytes_io, **kw)\n",
      "c:\\Users\\Jonathan\\AppData\\Local\\Programs\\Python\\Python39\\lib\\site-packages\\IPython\\core\\pylabtools.py:132: UserWarning: Glyph 20426 (\\N{CJK UNIFIED IDEOGRAPH-4FCA}) missing from current font.\n",
      "  fig.canvas.print_figure(bytes_io, **kw)\n",
      "c:\\Users\\Jonathan\\AppData\\Local\\Programs\\Python\\Python39\\lib\\site-packages\\IPython\\core\\pylabtools.py:132: UserWarning: Glyph 20625 (\\N{CJK UNIFIED IDEOGRAPH-5091}) missing from current font.\n",
      "  fig.canvas.print_figure(bytes_io, **kw)\n",
      "c:\\Users\\Jonathan\\AppData\\Local\\Programs\\Python\\Python39\\lib\\site-packages\\IPython\\core\\pylabtools.py:132: UserWarning: Glyph 29579 (\\N{CJK UNIFIED IDEOGRAPH-738B}) missing from current font.\n",
      "  fig.canvas.print_figure(bytes_io, **kw)\n",
      "c:\\Users\\Jonathan\\AppData\\Local\\Programs\\Python\\Python39\\lib\\site-packages\\IPython\\core\\pylabtools.py:132: UserWarning: Glyph 21147 (\\N{CJK UNIFIED IDEOGRAPH-529B}) missing from current font.\n",
      "  fig.canvas.print_figure(bytes_io, **kw)\n",
      "c:\\Users\\Jonathan\\AppData\\Local\\Programs\\Python\\Python39\\lib\\site-packages\\IPython\\core\\pylabtools.py:132: UserWarning: Glyph 23439 (\\N{CJK UNIFIED IDEOGRAPH-5B8F}) missing from current font.\n",
      "  fig.canvas.print_figure(bytes_io, **kw)\n",
      "c:\\Users\\Jonathan\\AppData\\Local\\Programs\\Python\\Python39\\lib\\site-packages\\IPython\\core\\pylabtools.py:132: UserWarning: Glyph 38515 (\\N{CJK UNIFIED IDEOGRAPH-9673}) missing from current font.\n",
      "  fig.canvas.print_figure(bytes_io, **kw)\n",
      "c:\\Users\\Jonathan\\AppData\\Local\\Programs\\Python\\Python39\\lib\\site-packages\\IPython\\core\\pylabtools.py:132: UserWarning: Glyph 22869 (\\N{CJK UNIFIED IDEOGRAPH-5955}) missing from current font.\n",
      "  fig.canvas.print_figure(bytes_io, **kw)\n",
      "c:\\Users\\Jonathan\\AppData\\Local\\Programs\\Python\\Python39\\lib\\site-packages\\IPython\\core\\pylabtools.py:132: UserWarning: Glyph 36805 (\\N{CJK UNIFIED IDEOGRAPH-8FC5}) missing from current font.\n",
      "  fig.canvas.print_figure(bytes_io, **kw)\n",
      "c:\\Users\\Jonathan\\AppData\\Local\\Programs\\Python\\Python39\\lib\\site-packages\\IPython\\core\\pylabtools.py:132: UserWarning: Glyph 24373 (\\N{CJK UNIFIED IDEOGRAPH-5F35}) missing from current font.\n",
      "  fig.canvas.print_figure(bytes_io, **kw)\n",
      "c:\\Users\\Jonathan\\AppData\\Local\\Programs\\Python\\Python39\\lib\\site-packages\\IPython\\core\\pylabtools.py:132: UserWarning: Glyph 38902 (\\N{CJK UNIFIED IDEOGRAPH-97F6}) missing from current font.\n",
      "  fig.canvas.print_figure(bytes_io, **kw)\n",
      "c:\\Users\\Jonathan\\AppData\\Local\\Programs\\Python\\Python39\\lib\\site-packages\\IPython\\core\\pylabtools.py:132: UserWarning: Glyph 28085 (\\N{CJK UNIFIED IDEOGRAPH-6DB5}) missing from current font.\n",
      "  fig.canvas.print_figure(bytes_io, **kw)\n",
      "c:\\Users\\Jonathan\\AppData\\Local\\Programs\\Python\\Python39\\lib\\site-packages\\IPython\\core\\pylabtools.py:132: UserWarning: Glyph 21129 (\\N{CJK UNIFIED IDEOGRAPH-5289}) missing from current font.\n",
      "  fig.canvas.print_figure(bytes_io, **kw)\n",
      "c:\\Users\\Jonathan\\AppData\\Local\\Programs\\Python\\Python39\\lib\\site-packages\\IPython\\core\\pylabtools.py:132: UserWarning: Glyph 33509 (\\N{CJK UNIFIED IDEOGRAPH-82E5}) missing from current font.\n",
      "  fig.canvas.print_figure(bytes_io, **kw)\n",
      "c:\\Users\\Jonathan\\AppData\\Local\\Programs\\Python\\Python39\\lib\\site-packages\\IPython\\core\\pylabtools.py:132: UserWarning: Glyph 33521 (\\N{CJK UNIFIED IDEOGRAPH-82F1}) missing from current font.\n",
      "  fig.canvas.print_figure(bytes_io, **kw)\n",
      "c:\\Users\\Jonathan\\AppData\\Local\\Programs\\Python\\Python39\\lib\\site-packages\\IPython\\core\\pylabtools.py:132: UserWarning: Glyph 34157 (\\N{CJK UNIFIED IDEOGRAPH-856D}) missing from current font.\n",
      "  fig.canvas.print_figure(bytes_io, **kw)\n",
      "c:\\Users\\Jonathan\\AppData\\Local\\Programs\\Python\\Python39\\lib\\site-packages\\IPython\\core\\pylabtools.py:132: UserWarning: Glyph 20126 (\\N{CJK UNIFIED IDEOGRAPH-4E9E}) missing from current font.\n",
      "  fig.canvas.print_figure(bytes_io, **kw)\n",
      "c:\\Users\\Jonathan\\AppData\\Local\\Programs\\Python\\Python39\\lib\\site-packages\\IPython\\core\\pylabtools.py:132: UserWarning: Glyph 36562 (\\N{CJK UNIFIED IDEOGRAPH-8ED2}) missing from current font.\n",
      "  fig.canvas.print_figure(bytes_io, **kw)\n"
     ]
    },
    {
     "data": {
      "image/png": "[encoded data removed]",
      "text/plain": [
       "<Figure size 720x432 with 1 Axes>"
      ]
     },
     "metadata": {
      "needs_background": "light"
     },
     "output_type": "display_data"
    }
   ],
   "source": [
    "# Top 10 most common artists\n",
    "top_artists = temp_df['artist_name'].value_counts().nlargest(10)\n",
    "plt.figure(figsize=(10, 6))\n",
    "sns.barplot(x=top_artists.index, y=top_artists.values)\n",
    "plt.title('Top 10 Most Common Artists')\n",
    "plt.xticks(rotation=45, ha='right')\n",
    "plt.xlabel('Artist Name')\n",
    "plt.ylabel('Count')\n",
    "plt.show()"
   ]
  },
  {
   "cell_type": "code",
   "execution_count": 79,
   "metadata": {},
   "outputs": [
    {
     "name": "stderr",
     "output_type": "stream",
     "text": [
      "c:\\Users\\Jonathan\\AppData\\Local\\Programs\\Python\\Python39\\lib\\site-packages\\IPython\\core\\pylabtools.py:132: UserWarning: Glyph 21608 (\\N{CJK UNIFIED IDEOGRAPH-5468}) missing from current font.\n",
      "  fig.canvas.print_figure(bytes_io, **kw)\n",
      "c:\\Users\\Jonathan\\AppData\\Local\\Programs\\Python\\Python39\\lib\\site-packages\\IPython\\core\\pylabtools.py:132: UserWarning: Glyph 26480 (\\N{CJK UNIFIED IDEOGRAPH-6770}) missing from current font.\n",
      "  fig.canvas.print_figure(bytes_io, **kw)\n",
      "c:\\Users\\Jonathan\\AppData\\Local\\Programs\\Python\\Python39\\lib\\site-packages\\IPython\\core\\pylabtools.py:132: UserWarning: Glyph 20523 (\\N{CJK UNIFIED IDEOGRAPH-502B}) missing from current font.\n",
      "  fig.canvas.print_figure(bytes_io, **kw)\n",
      "c:\\Users\\Jonathan\\AppData\\Local\\Programs\\Python\\Python39\\lib\\site-packages\\IPython\\core\\pylabtools.py:132: UserWarning: Glyph 38463 (\\N{CJK UNIFIED IDEOGRAPH-963F}) missing from current font.\n",
      "  fig.canvas.print_figure(bytes_io, **kw)\n",
      "c:\\Users\\Jonathan\\AppData\\Local\\Programs\\Python\\Python39\\lib\\site-packages\\IPython\\core\\pylabtools.py:132: UserWarning: Glyph 20449 (\\N{CJK UNIFIED IDEOGRAPH-4FE1}) missing from current font.\n",
      "  fig.canvas.print_figure(bytes_io, **kw)\n",
      "c:\\Users\\Jonathan\\AppData\\Local\\Programs\\Python\\Python39\\lib\\site-packages\\IPython\\core\\pylabtools.py:132: UserWarning: Glyph 26519 (\\N{CJK UNIFIED IDEOGRAPH-6797}) missing from current font.\n",
      "  fig.canvas.print_figure(bytes_io, **kw)\n",
      "c:\\Users\\Jonathan\\AppData\\Local\\Programs\\Python\\Python39\\lib\\site-packages\\IPython\\core\\pylabtools.py:132: UserWarning: Glyph 20426 (\\N{CJK UNIFIED IDEOGRAPH-4FCA}) missing from current font.\n",
      "  fig.canvas.print_figure(bytes_io, **kw)\n",
      "c:\\Users\\Jonathan\\AppData\\Local\\Programs\\Python\\Python39\\lib\\site-packages\\IPython\\core\\pylabtools.py:132: UserWarning: Glyph 20625 (\\N{CJK UNIFIED IDEOGRAPH-5091}) missing from current font.\n",
      "  fig.canvas.print_figure(bytes_io, **kw)\n",
      "c:\\Users\\Jonathan\\AppData\\Local\\Programs\\Python\\Python39\\lib\\site-packages\\IPython\\core\\pylabtools.py:132: UserWarning: Glyph 38515 (\\N{CJK UNIFIED IDEOGRAPH-9673}) missing from current font.\n",
      "  fig.canvas.print_figure(bytes_io, **kw)\n",
      "c:\\Users\\Jonathan\\AppData\\Local\\Programs\\Python\\Python39\\lib\\site-packages\\IPython\\core\\pylabtools.py:132: UserWarning: Glyph 30355 (\\N{CJK UNIFIED IDEOGRAPH-7693}) missing from current font.\n",
      "  fig.canvas.print_figure(bytes_io, **kw)\n",
      "c:\\Users\\Jonathan\\AppData\\Local\\Programs\\Python\\Python39\\lib\\site-packages\\IPython\\core\\pylabtools.py:132: UserWarning: Glyph 23431 (\\N{CJK UNIFIED IDEOGRAPH-5B87}) missing from current font.\n",
      "  fig.canvas.print_figure(bytes_io, **kw)\n",
      "c:\\Users\\Jonathan\\AppData\\Local\\Programs\\Python\\Python39\\lib\\site-packages\\IPython\\core\\pylabtools.py:132: UserWarning: Glyph 23567 (\\N{CJK UNIFIED IDEOGRAPH-5C0F}) missing from current font.\n",
      "  fig.canvas.print_figure(bytes_io, **kw)\n",
      "c:\\Users\\Jonathan\\AppData\\Local\\Programs\\Python\\Python39\\lib\\site-packages\\IPython\\core\\pylabtools.py:132: UserWarning: Glyph 38686 (\\N{CJK UNIFIED IDEOGRAPH-971E}) missing from current font.\n",
      "  fig.canvas.print_figure(bytes_io, **kw)\n",
      "c:\\Users\\Jonathan\\AppData\\Local\\Programs\\Python\\Python39\\lib\\site-packages\\IPython\\core\\pylabtools.py:132: UserWarning: Glyph 37165 (\\N{CJK UNIFIED IDEOGRAPH-912D}) missing from current font.\n",
      "  fig.canvas.print_figure(bytes_io, **kw)\n",
      "c:\\Users\\Jonathan\\AppData\\Local\\Programs\\Python\\Python39\\lib\\site-packages\\IPython\\core\\pylabtools.py:132: UserWarning: Glyph 24314 (\\N{CJK UNIFIED IDEOGRAPH-5EFA}) missing from current font.\n",
      "  fig.canvas.print_figure(bytes_io, **kw)\n",
      "c:\\Users\\Jonathan\\AppData\\Local\\Programs\\Python\\Python39\\lib\\site-packages\\IPython\\core\\pylabtools.py:132: UserWarning: Glyph 28009 (\\N{CJK UNIFIED IDEOGRAPH-6D69}) missing from current font.\n",
      "  fig.canvas.print_figure(bytes_io, **kw)\n",
      "c:\\Users\\Jonathan\\AppData\\Local\\Programs\\Python\\Python39\\lib\\site-packages\\IPython\\core\\pylabtools.py:132: UserWarning: Glyph 26446 (\\N{CJK UNIFIED IDEOGRAPH-674E}) missing from current font.\n",
      "  fig.canvas.print_figure(bytes_io, **kw)\n",
      "c:\\Users\\Jonathan\\AppData\\Local\\Programs\\Python\\Python39\\lib\\site-packages\\IPython\\core\\pylabtools.py:132: UserWarning: Glyph 29577 (\\N{CJK UNIFIED IDEOGRAPH-7389}) missing from current font.\n",
      "  fig.canvas.print_figure(bytes_io, **kw)\n",
      "c:\\Users\\Jonathan\\AppData\\Local\\Programs\\Python\\Python39\\lib\\site-packages\\IPython\\core\\pylabtools.py:132: UserWarning: Glyph 29885 (\\N{CJK UNIFIED IDEOGRAPH-74BD}) missing from current font.\n",
      "  fig.canvas.print_figure(bytes_io, **kw)\n",
      "c:\\Users\\Jonathan\\AppData\\Local\\Programs\\Python\\Python39\\lib\\site-packages\\IPython\\core\\pylabtools.py:132: UserWarning: Glyph 24421 (\\N{CJK UNIFIED IDEOGRAPH-5F65}) missing from current font.\n",
      "  fig.canvas.print_figure(bytes_io, **kw)\n",
      "c:\\Users\\Jonathan\\AppData\\Local\\Programs\\Python\\Python39\\lib\\site-packages\\IPython\\core\\pylabtools.py:132: UserWarning: Glyph 20801 (\\N{CJK UNIFIED IDEOGRAPH-5141}) missing from current font.\n",
      "  fig.canvas.print_figure(bytes_io, **kw)\n"
     ]
    },
    {
     "data": {
      "image/png": "[encoded data removed]",
      "text/plain": [
       "<Figure size 720x432 with 1 Axes>"
      ]
     },
     "metadata": {
      "needs_background": "light"
     },
     "output_type": "display_data"
    }
   ],
   "source": [
    "# Top 10 most common composers\n",
    "top_composers = temp_df['composer'].value_counts().nlargest(10)\n",
    "plt.figure(figsize=(10, 6))\n",
    "sns.barplot(x=top_composers.index, y=top_composers.values)\n",
    "plt.title('Top 10 Most Common Composers')\n",
    "plt.xticks(rotation=45, ha='right')\n",
    "plt.xlabel('Composer')\n",
    "plt.ylabel('Count')\n",
    "plt.show()"
   ]
  },
  {
   "cell_type": "code",
   "execution_count": 80,
   "metadata": {},
   "outputs": [
    {
     "name": "stderr",
     "output_type": "stream",
     "text": [
      "c:\\Users\\Jonathan\\AppData\\Local\\Programs\\Python\\Python39\\lib\\site-packages\\IPython\\core\\pylabtools.py:132: UserWarning: Glyph 26041 (\\N{CJK UNIFIED IDEOGRAPH-65B9}) missing from current font.\n",
      "  fig.canvas.print_figure(bytes_io, **kw)\n",
      "c:\\Users\\Jonathan\\AppData\\Local\\Programs\\Python\\Python39\\lib\\site-packages\\IPython\\core\\pylabtools.py:132: UserWarning: Glyph 25991 (\\N{CJK UNIFIED IDEOGRAPH-6587}) missing from current font.\n",
      "  fig.canvas.print_figure(bytes_io, **kw)\n",
      "c:\\Users\\Jonathan\\AppData\\Local\\Programs\\Python\\Python39\\lib\\site-packages\\IPython\\core\\pylabtools.py:132: UserWarning: Glyph 23665 (\\N{CJK UNIFIED IDEOGRAPH-5C71}) missing from current font.\n",
      "  fig.canvas.print_figure(bytes_io, **kw)\n",
      "c:\\Users\\Jonathan\\AppData\\Local\\Programs\\Python\\Python39\\lib\\site-packages\\IPython\\core\\pylabtools.py:132: UserWarning: Glyph 38463 (\\N{CJK UNIFIED IDEOGRAPH-963F}) missing from current font.\n",
      "  fig.canvas.print_figure(bytes_io, **kw)\n",
      "c:\\Users\\Jonathan\\AppData\\Local\\Programs\\Python\\Python39\\lib\\site-packages\\IPython\\core\\pylabtools.py:132: UserWarning: Glyph 20449 (\\N{CJK UNIFIED IDEOGRAPH-4FE1}) missing from current font.\n",
      "  fig.canvas.print_figure(bytes_io, **kw)\n",
      "c:\\Users\\Jonathan\\AppData\\Local\\Programs\\Python\\Python39\\lib\\site-packages\\IPython\\core\\pylabtools.py:132: UserWarning: Glyph 26519 (\\N{CJK UNIFIED IDEOGRAPH-6797}) missing from current font.\n",
      "  fig.canvas.print_figure(bytes_io, **kw)\n",
      "c:\\Users\\Jonathan\\AppData\\Local\\Programs\\Python\\Python39\\lib\\site-packages\\IPython\\core\\pylabtools.py:132: UserWarning: Glyph 22805 (\\N{CJK UNIFIED IDEOGRAPH-5915}) missing from current font.\n",
      "  fig.canvas.print_figure(bytes_io, **kw)\n",
      "c:\\Users\\Jonathan\\AppData\\Local\\Programs\\Python\\Python39\\lib\\site-packages\\IPython\\core\\pylabtools.py:132: UserWarning: Glyph 23002 (\\N{CJK UNIFIED IDEOGRAPH-59DA}) missing from current font.\n",
      "  fig.canvas.print_figure(bytes_io, **kw)\n",
      "c:\\Users\\Jonathan\\AppData\\Local\\Programs\\Python\\Python39\\lib\\site-packages\\IPython\\core\\pylabtools.py:132: UserWarning: Glyph 33509 (\\N{CJK UNIFIED IDEOGRAPH-82E5}) missing from current font.\n",
      "  fig.canvas.print_figure(bytes_io, **kw)\n",
      "c:\\Users\\Jonathan\\AppData\\Local\\Programs\\Python\\Python39\\lib\\site-packages\\IPython\\core\\pylabtools.py:132: UserWarning: Glyph 40845 (\\N{CJK UNIFIED IDEOGRAPH-9F8D}) missing from current font.\n",
      "  fig.canvas.print_figure(bytes_io, **kw)\n",
      "c:\\Users\\Jonathan\\AppData\\Local\\Programs\\Python\\Python39\\lib\\site-packages\\IPython\\core\\pylabtools.py:132: UserWarning: Glyph 33883 (\\N{CJK UNIFIED IDEOGRAPH-845B}) missing from current font.\n",
      "  fig.canvas.print_figure(bytes_io, **kw)\n",
      "c:\\Users\\Jonathan\\AppData\\Local\\Programs\\Python\\Python39\\lib\\site-packages\\IPython\\core\\pylabtools.py:132: UserWarning: Glyph 22823 (\\N{CJK UNIFIED IDEOGRAPH-5927}) missing from current font.\n",
      "  fig.canvas.print_figure(bytes_io, **kw)\n",
      "c:\\Users\\Jonathan\\AppData\\Local\\Programs\\Python\\Python39\\lib\\site-packages\\IPython\\core\\pylabtools.py:132: UserWarning: Glyph 28858 (\\N{CJK UNIFIED IDEOGRAPH-70BA}) missing from current font.\n",
      "  fig.canvas.print_figure(bytes_io, **kw)\n",
      "c:\\Users\\Jonathan\\AppData\\Local\\Programs\\Python\\Python39\\lib\\site-packages\\IPython\\core\\pylabtools.py:132: UserWarning: Glyph 37165 (\\N{CJK UNIFIED IDEOGRAPH-912D}) missing from current font.\n",
      "  fig.canvas.print_figure(bytes_io, **kw)\n",
      "c:\\Users\\Jonathan\\AppData\\Local\\Programs\\Python\\Python39\\lib\\site-packages\\IPython\\core\\pylabtools.py:132: UserWarning: Glyph 24314 (\\N{CJK UNIFIED IDEOGRAPH-5EFA}) missing from current font.\n",
      "  fig.canvas.print_figure(bytes_io, **kw)\n",
      "c:\\Users\\Jonathan\\AppData\\Local\\Programs\\Python\\Python39\\lib\\site-packages\\IPython\\core\\pylabtools.py:132: UserWarning: Glyph 28009 (\\N{CJK UNIFIED IDEOGRAPH-6D69}) missing from current font.\n",
      "  fig.canvas.print_figure(bytes_io, **kw)\n",
      "c:\\Users\\Jonathan\\AppData\\Local\\Programs\\Python\\Python39\\lib\\site-packages\\IPython\\core\\pylabtools.py:132: UserWarning: Glyph 38515 (\\N{CJK UNIFIED IDEOGRAPH-9673}) missing from current font.\n",
      "  fig.canvas.print_figure(bytes_io, **kw)\n",
      "c:\\Users\\Jonathan\\AppData\\Local\\Programs\\Python\\Python39\\lib\\site-packages\\IPython\\core\\pylabtools.py:132: UserWarning: Glyph 24421 (\\N{CJK UNIFIED IDEOGRAPH-5F65}) missing from current font.\n",
      "  fig.canvas.print_figure(bytes_io, **kw)\n",
      "c:\\Users\\Jonathan\\AppData\\Local\\Programs\\Python\\Python39\\lib\\site-packages\\IPython\\core\\pylabtools.py:132: UserWarning: Glyph 20801 (\\N{CJK UNIFIED IDEOGRAPH-5141}) missing from current font.\n",
      "  fig.canvas.print_figure(bytes_io, **kw)\n",
      "c:\\Users\\Jonathan\\AppData\\Local\\Programs\\Python\\Python39\\lib\\site-packages\\IPython\\core\\pylabtools.py:132: UserWarning: Glyph 34081 (\\N{CJK UNIFIED IDEOGRAPH-8521}) missing from current font.\n",
      "  fig.canvas.print_figure(bytes_io, **kw)\n",
      "c:\\Users\\Jonathan\\AppData\\Local\\Programs\\Python\\Python39\\lib\\site-packages\\IPython\\core\\pylabtools.py:132: UserWarning: Glyph 20581 (\\N{CJK UNIFIED IDEOGRAPH-5065}) missing from current font.\n",
      "  fig.canvas.print_figure(bytes_io, **kw)\n",
      "c:\\Users\\Jonathan\\AppData\\Local\\Programs\\Python\\Python39\\lib\\site-packages\\IPython\\core\\pylabtools.py:132: UserWarning: Glyph 38597 (\\N{CJK UNIFIED IDEOGRAPH-96C5}) missing from current font.\n",
      "  fig.canvas.print_figure(bytes_io, **kw)\n",
      "c:\\Users\\Jonathan\\AppData\\Local\\Programs\\Python\\Python39\\lib\\site-packages\\IPython\\core\\pylabtools.py:132: UserWarning: Glyph 40643 (\\N{CJK UNIFIED IDEOGRAPH-9EC3}) missing from current font.\n",
      "  fig.canvas.print_figure(bytes_io, **kw)\n",
      "c:\\Users\\Jonathan\\AppData\\Local\\Programs\\Python\\Python39\\lib\\site-packages\\IPython\\core\\pylabtools.py:132: UserWarning: Glyph 23159 (\\N{CJK UNIFIED IDEOGRAPH-5A77}) missing from current font.\n",
      "  fig.canvas.print_figure(bytes_io, **kw)\n"
     ]
    },
    {
     "data": {
      "image/png": "[encoded data removed]",
      "text/plain": [
       "<Figure size 720x432 with 1 Axes>"
      ]
     },
     "metadata": {
      "needs_background": "light"
     },
     "output_type": "display_data"
    }
   ],
   "source": [
    "# Top 10 most common lyricists\n",
    "top_lyricists = temp_df['lyricist'].value_counts().nlargest(10)\n",
    "plt.figure(figsize=(10, 6))\n",
    "sns.barplot(x=top_lyricists.index, y=top_lyricists.values)\n",
    "plt.title('Top 10 Most Common Lyricists')\n",
    "plt.xticks(rotation=45, ha='right')\n",
    "plt.xlabel('Lyricist')\n",
    "plt.ylabel('Count')\n",
    "plt.show()"
   ]
  },
  {
   "cell_type": "code",
   "execution_count": 82,
   "metadata": {},
   "outputs": [
    {
     "data": {
      "image/png": "[encoded data removed]",
      "text/plain": [
       "<Figure size 720x360 with 1 Axes>"
      ]
     },
     "metadata": {
      "needs_background": "light"
     },
     "output_type": "display_data"
    }
   ],
   "source": [
    "\n",
    "# Word cloud for 'song_details'\n",
    "from wordcloud import WordCloud\n",
    "\n",
    "songs_details_text = ' '.join(temp_df['songs_details'].dropna())\n",
    "wordcloud = WordCloud(width=800, height=400, background_color='white').generate(songs_details_text)\n",
    "\n",
    "plt.figure(figsize=(10, 5))\n",
    "plt.imshow(wordcloud, interpolation='bilinear')\n",
    "plt.axis('off')\n",
    "plt.title('Word Cloud for Song Details')\n",
    "plt.show()"
   ]
  },
  {
   "cell_type": "markdown",
   "metadata": {},
   "source": [
    "- In the above code, we are creating a word cloud visualization for the 'song_details' text data in the DataFrame \"temp_df\". A word cloud is a graphical representation of the most frequent words in a given text corpus, where the size of each word is proportional to its frequency. Word clouds are commonly used to visually display the most prominent words in a text dataset."
   ]
  },
  {
   "cell_type": "markdown",
   "metadata": {},
   "source": [
    "#### Feature extraction using TF-IDF"
   ]
  },
  {
   "cell_type": "code",
   "execution_count": 59,
   "metadata": {},
   "outputs": [],
   "source": [
    "from sklearn.feature_extraction.text import TfidfVectorizer\n",
    "tfidf=TfidfVectorizer(analyzer='word',stop_words='english')\n",
    "tfidf_matrix=tfidf.fit_transform(temp_df['songs_details'])"
   ]
  },
  {
   "cell_type": "markdown",
   "metadata": {},
   "source": [
    "- At first we import the TfidfVectorizer class from the sklearn.feature_extraction.text module, which is a utility for text feature extraction using the TF-IDF representation.\n",
    "\n",
    "- After that we create an instance of the TfidfVectorizer class with the specified parameters:\n",
    "analyzer='word': This specifies that the vectorizer should consider words as the individual features for representing the text data.\n",
    "stop_words='english': This tells the vectorizer to remove common English stop words (e.g., 'the', 'a', 'an', 'and', etc.) from the text data, as they often do not carry significant meaning for analysis.\n",
    "\n",
    "- tfidf_matrix = tfidf.fit_transform(temp_df['songs_details']): This line applies the fit_transform() method of the TfidfVectorizer to the 'songs_details' column of the DataFrame \"temp_df\". The fit_transform() method first learns the vocabulary from the input text (i.e., 'songs_details') and then transforms the text data into a numerical feature matrix using the TF-IDF representation.\n",
    "\n",
    "- fit_transform(): This method learns the vocabulary of the text data and then converts it into a numerical feature matrix. The result, tfidf_matrix, is a sparse matrix that represents the TF-IDF values of the 'songs_details' text data.\n",
    "\n",
    "The TF-IDF representation captures the importance of each word in each 'songs_details' text relative to the entire corpus. The more frequently a word appears in a 'songs_details', the higher its TF-IDF score will be. Additionally, words that appear frequently across all 'songs_details' will have lower TF-IDF scores.\n",
    "\n",
    "This tfidf_matrix can be used as input for various machine learning algorithms to analyze and make recommendations based on the similarity of the songs' characteristics represented by the TF-IDF vectors."
   ]
  },
  {
   "cell_type": "markdown",
   "metadata": {},
   "source": [
    "- TF-IDF (Term Frequency-Inverse Document Frequency) vectorization is used before computing cosine similarity in natural language processing and text analysis tasks. Here's why TF-IDF is typically used before cosine similarity:\n",
    "\n",
    "- Text Representation: In natural language processing, text data needs to be represented as numerical features to be used in machine learning models. TF-IDF is a popular technique to convert raw text data into a numerical vector representation that retains the semantic meaning of the words.\n",
    "\n",
    "- TF-IDF Weights: TF-IDF calculates the importance of each word in a document relative to the entire corpus. It assigns higher weights to words that appear frequently in a document but are rare across all documents in the corpus. Words that are common across all documents receive lower weights. This way, the TF-IDF vector captures the relative importance of words in each document.\n",
    "\n",
    "- Dimensionality Reduction: The TF-IDF vector representation reduces the dimensionality of the text data. Each document is represented by a numerical vector, and the vector's dimension is equal to the vocabulary size (the number of unique words) in the corpus.\n",
    "\n",
    "- Cosine Similarity: Cosine similarity is a metric used to measure the similarity between two vectors. It calculates the cosine of the angle between two vectors and ranges from -1 to 1. A value close to 1 indicates high similarity, while a value close to -1 indicates dissimilarity. A value close to 0 indicates orthogonality (no similarity).\n",
    "\n",
    "- Cosine Similarity on TF-IDF: After TF-IDF vectorization, each document is represented by a numerical vector in the TF-IDF space. Cosine similarity is then calculated between pairs of vectors representing different documents. The similarity score reflects the semantic similarity of the text content in the documents.\n",
    "\n",
    "- Text Similarity and Recommendations: In the context of a music recommendation system or text similarity tasks, cosine similarity on TF-IDF vectors helps identify similar songs based on their lyrics, artists, and other text-based attributes. By measuring the cosine similarity between TF-IDF vectors, you can recommend songs that are semantically similar in terms of their textual content.\n",
    "\n",
    "- Overall, TF-IDF vectorization is an essential step in representing text data for various natural language processing tasks, including music recommendation systems. It allows for meaningful comparisons between documents based on their text content, and cosine similarity on TF-IDF vectors helps identify similar songs for music recommendation purposes."
   ]
  },
  {
   "cell_type": "markdown",
   "metadata": {},
   "source": [
    "#### Now implementing Cosine Similarity"
   ]
  },
  {
   "cell_type": "code",
   "execution_count": 60,
   "metadata": {},
   "outputs": [],
   "source": [
    "\n",
    "from sklearn.metrics.pairwise import cosine_similarity"
   ]
  },
  {
   "cell_type": "code",
   "execution_count": 61,
   "metadata": {},
   "outputs": [],
   "source": [
    "cosine_similarities=cosine_similarity(tfidf_matrix)\n"
   ]
  },
  {
   "cell_type": "code",
   "execution_count": 62,
   "metadata": {},
   "outputs": [
    {
     "data": {
      "text/plain": [
       "array([[1., 0., 0., ..., 0., 0., 0.],\n",
       "       [0., 1., 1., ..., 0., 0., 0.],\n",
       "       [0., 1., 1., ..., 0., 0., 0.],\n",
       "       ...,\n",
       "       [0., 0., 0., ..., 1., 0., 0.],\n",
       "       [0., 0., 0., ..., 0., 1., 0.],\n",
       "       [0., 0., 0., ..., 0., 0., 1.]])"
      ]
     },
     "execution_count": 62,
     "metadata": {},
     "output_type": "execute_result"
    }
   ],
   "source": [
    "cosine_similarities"
   ]
  },
  {
   "cell_type": "code",
   "execution_count": 64,
   "metadata": {},
   "outputs": [
    {
     "data": {
      "text/plain": [
       "(794, 794)"
      ]
     },
     "execution_count": 64,
     "metadata": {},
     "output_type": "execute_result"
    }
   ],
   "source": [
    "cosine_similarities.shape"
   ]
  },
  {
   "cell_type": "code",
   "execution_count": 66,
   "metadata": {},
   "outputs": [
    {
     "data": {
      "text/plain": [
       "array([1.        , 0.        , 0.        , 0.        , 0.        ,\n",
       "       0.        , 0.        , 0.        , 0.        , 0.        ,\n",
       "       0.        , 0.        , 0.        , 0.        , 0.        ,\n",
       "       0.        , 0.        , 0.        , 0.        , 0.        ,\n",
       "       0.        , 0.        , 0.        , 0.        , 0.        ,\n",
       "       0.        , 0.        , 0.        , 0.        , 0.        ,\n",
       "       0.        , 0.        , 0.        , 0.        , 0.        ,\n",
       "       0.        , 0.        , 0.        , 0.        , 0.        ,\n",
       "       0.        , 0.        , 0.        , 0.        , 0.        ,\n",
       "       0.        , 0.        , 0.        , 0.        , 0.        ,\n",
       "       0.        , 0.        , 0.        , 0.        , 0.        ,\n",
       "       0.        , 0.        , 0.        , 0.        , 0.        ,\n",
       "       0.        , 0.        , 0.        , 0.        , 0.        ,\n",
       "       0.        , 0.        , 0.        , 0.        , 0.        ,\n",
       "       0.        , 0.        , 0.        , 0.        , 0.        ,\n",
       "       0.        , 0.        , 0.        , 0.10869486, 0.        ,\n",
       "       0.        , 0.        , 0.        , 0.        , 0.        ,\n",
       "       0.        , 0.        , 0.        , 0.        , 0.        ,\n",
       "       0.        , 0.        , 0.        , 0.        , 0.        ,\n",
       "       0.        , 0.        , 0.        , 0.        , 0.        ,\n",
       "       0.        , 0.        , 0.        , 0.        , 0.        ,\n",
       "       0.        , 0.        , 0.        , 0.        , 0.        ,\n",
       "       0.        , 0.        , 0.        , 0.        , 0.        ,\n",
       "       0.        , 0.        , 0.        , 0.        , 0.        ,\n",
       "       0.        , 0.        , 0.        , 0.        , 0.        ,\n",
       "       0.        , 0.        , 0.        , 0.        , 0.        ,\n",
       "       0.        , 0.        , 0.        , 0.        , 0.        ,\n",
       "       0.        , 0.        , 0.        , 0.        , 0.        ,\n",
       "       0.        , 0.        , 0.        , 0.        , 0.        ,\n",
       "       0.        , 0.        , 0.        , 0.        , 0.        ,\n",
       "       0.        , 0.        , 0.        , 0.        , 0.        ,\n",
       "       0.        , 0.        , 0.        , 0.        , 0.        ,\n",
       "       0.        , 0.        , 0.        , 0.        , 0.        ,\n",
       "       0.        , 0.        , 0.        , 0.        , 0.        ,\n",
       "       0.        , 0.        , 0.        , 0.        , 0.        ,\n",
       "       0.        , 0.        , 0.        , 0.        , 0.        ,\n",
       "       0.        , 0.        , 0.        , 0.        , 0.        ,\n",
       "       0.        , 0.        , 0.        , 0.        , 0.        ,\n",
       "       0.        , 0.        , 0.        , 0.        , 0.        ,\n",
       "       0.        , 0.        , 0.        , 0.        , 0.        ,\n",
       "       0.        , 0.        , 0.        , 0.        , 0.        ,\n",
       "       0.        , 0.        , 0.        , 0.        , 0.        ,\n",
       "       0.        , 0.        , 0.        , 0.        , 0.        ,\n",
       "       0.        , 0.        , 0.        , 0.        , 0.        ,\n",
       "       0.        , 0.        , 0.        , 0.        , 0.        ,\n",
       "       0.        , 0.        , 0.        , 0.        , 0.        ,\n",
       "       0.        , 0.        , 0.        , 0.        , 0.        ,\n",
       "       0.        , 0.        , 0.        , 0.        , 0.        ,\n",
       "       0.        , 0.        , 0.        , 0.        , 0.        ,\n",
       "       0.        , 0.        , 0.        , 0.        , 0.        ,\n",
       "       0.        , 0.        , 0.        , 0.        , 0.        ,\n",
       "       0.        , 0.        , 0.        , 0.        , 0.        ,\n",
       "       0.        , 0.        , 0.        , 0.        , 0.        ,\n",
       "       0.        , 0.        , 0.        , 0.        , 0.        ,\n",
       "       0.        , 0.        , 0.        , 0.        , 0.        ,\n",
       "       0.        , 0.        , 0.        , 0.        , 0.        ,\n",
       "       0.        , 0.        , 0.        , 0.        , 0.        ,\n",
       "       0.        , 0.        , 0.        , 0.        , 0.        ,\n",
       "       0.        , 0.        , 0.        , 0.        , 0.        ,\n",
       "       0.        , 0.        , 0.        , 0.        , 0.        ,\n",
       "       0.        , 0.        , 0.        , 0.        , 0.        ,\n",
       "       0.        , 0.        , 0.        , 0.        , 0.        ,\n",
       "       0.        , 0.        , 0.        , 0.        , 0.        ,\n",
       "       0.        , 0.        , 0.        , 0.        , 0.        ,\n",
       "       0.        , 0.        , 0.        , 0.        , 0.        ,\n",
       "       0.        , 0.        , 0.        , 0.        , 0.        ,\n",
       "       0.        , 0.        , 0.        , 0.        , 0.        ,\n",
       "       0.        , 0.        , 0.        , 0.        , 0.        ,\n",
       "       0.        , 0.        , 0.        , 0.        , 0.        ,\n",
       "       0.        , 0.        , 0.        , 0.        , 0.        ,\n",
       "       0.        , 0.        , 0.        , 0.        , 0.        ,\n",
       "       0.        , 0.        , 0.        , 0.        , 0.        ,\n",
       "       0.        , 0.        , 0.        , 0.        , 0.        ,\n",
       "       0.        , 0.        , 0.        , 0.        , 0.        ,\n",
       "       0.        , 0.        , 0.        , 0.        , 0.        ,\n",
       "       0.        , 0.        , 0.        , 0.        , 0.        ,\n",
       "       0.        , 0.        , 0.        , 0.        , 0.        ,\n",
       "       0.        , 0.        , 0.        , 0.        , 0.        ,\n",
       "       0.        , 0.        , 0.        , 0.        , 0.        ,\n",
       "       0.        , 0.        , 0.        , 0.        , 0.        ,\n",
       "       0.        , 0.        , 0.        , 0.        , 0.        ,\n",
       "       0.        , 0.        , 0.        , 0.        , 0.        ,\n",
       "       0.        , 0.        , 0.        , 0.        , 0.        ,\n",
       "       0.        , 0.        , 0.        , 0.        , 0.        ,\n",
       "       0.        , 0.        , 0.        , 0.        , 0.        ,\n",
       "       0.        , 0.        , 0.        , 0.        , 0.        ,\n",
       "       0.        , 0.        , 0.        , 0.        , 0.        ,\n",
       "       0.        , 0.        , 0.        , 0.        , 0.        ,\n",
       "       0.        , 0.        , 0.        , 0.        , 0.        ,\n",
       "       0.        , 0.        , 0.        , 0.        , 0.        ,\n",
       "       0.        , 0.        , 0.        , 0.        , 0.        ,\n",
       "       0.        , 0.        , 0.        , 0.        , 0.        ,\n",
       "       0.        , 0.        , 0.        , 0.        , 0.        ,\n",
       "       0.        , 0.        , 0.        , 0.        , 0.        ,\n",
       "       0.        , 0.        , 0.        , 0.        , 0.        ,\n",
       "       0.        , 0.        , 0.        , 0.        , 0.        ,\n",
       "       0.        , 0.        , 0.        , 0.        , 0.        ,\n",
       "       0.        , 0.        , 0.        , 0.        , 0.        ,\n",
       "       0.        , 0.        , 0.        , 0.        , 0.        ,\n",
       "       0.        , 0.        , 0.        , 0.        , 0.        ,\n",
       "       0.        , 0.        , 0.        , 0.        , 0.        ,\n",
       "       0.        , 0.        , 0.        , 0.        , 0.        ,\n",
       "       0.        , 0.        , 0.        , 0.        , 0.        ,\n",
       "       0.        , 0.        , 0.        , 0.        , 0.        ,\n",
       "       0.        , 0.        , 0.        , 0.        , 0.        ,\n",
       "       0.        , 0.        , 0.        , 0.        , 0.        ,\n",
       "       0.        , 0.        , 0.        , 0.        , 0.        ,\n",
       "       0.        , 0.        , 0.        , 0.        , 0.        ,\n",
       "       0.        , 0.        , 0.        , 0.        , 0.        ,\n",
       "       0.        , 0.        , 0.        , 0.        , 0.        ,\n",
       "       0.        , 0.        , 0.        , 0.        , 0.        ,\n",
       "       0.        , 0.        , 0.        , 0.        , 0.        ,\n",
       "       0.        , 0.        , 0.        , 0.        , 0.        ,\n",
       "       0.        , 0.        , 0.        , 0.        , 0.        ,\n",
       "       0.        , 0.        , 0.        , 0.        , 0.        ,\n",
       "       0.        , 0.        , 0.        , 0.        , 0.        ,\n",
       "       0.        , 0.        , 0.        , 0.        , 0.        ,\n",
       "       0.        , 0.        , 0.        , 0.        , 0.        ,\n",
       "       0.        , 0.        , 0.        , 0.        , 0.        ,\n",
       "       0.        , 0.        , 0.        , 0.        , 0.        ,\n",
       "       0.        , 0.        , 0.        , 0.        , 0.        ,\n",
       "       0.        , 0.        , 0.        , 0.        , 0.        ,\n",
       "       0.        , 0.        , 0.        , 0.        , 0.        ,\n",
       "       0.        , 0.        , 0.        , 0.        , 0.        ,\n",
       "       0.        , 0.        , 0.        , 0.        , 0.        ,\n",
       "       0.        , 0.        , 0.        , 0.        , 0.        ,\n",
       "       0.        , 0.        , 0.        , 0.        , 0.        ,\n",
       "       0.        , 0.        , 0.        , 0.        , 0.        ,\n",
       "       0.        , 0.        , 0.        , 0.        , 0.        ,\n",
       "       0.        , 0.        , 0.        , 0.        , 0.        ,\n",
       "       0.        , 0.        , 0.        , 0.        , 0.        ,\n",
       "       0.        , 0.        , 0.        , 0.23506799, 0.        ,\n",
       "       0.        , 0.        , 0.        , 0.        , 0.        ,\n",
       "       0.        , 0.        , 0.        , 0.        , 0.        ,\n",
       "       0.        , 0.        , 0.        , 0.        , 0.        ,\n",
       "       0.        , 0.        , 0.        , 0.        , 0.        ,\n",
       "       0.        , 0.        , 0.        , 0.        , 0.        ,\n",
       "       0.        , 0.        , 0.        , 0.        , 0.        ,\n",
       "       0.        , 0.        , 0.        , 0.        , 0.        ,\n",
       "       0.        , 0.        , 0.        , 0.        , 0.        ,\n",
       "       0.        , 0.        , 0.        , 0.        , 0.        ,\n",
       "       0.        , 0.        , 0.        , 0.        , 0.        ,\n",
       "       0.        , 0.        , 0.        , 0.        , 0.        ,\n",
       "       0.        , 0.        , 0.        , 0.        , 0.        ,\n",
       "       0.        , 0.        , 0.        , 0.        , 0.        ,\n",
       "       0.        , 0.        , 0.        , 0.        , 0.        ,\n",
       "       0.        , 0.        , 0.        , 0.        , 0.        ,\n",
       "       0.        , 0.        , 0.        , 0.        , 0.        ,\n",
       "       0.        , 0.        , 0.        , 0.        , 0.        ,\n",
       "       0.        , 0.        , 0.        , 0.        , 0.        ,\n",
       "       0.        , 0.        , 0.        , 0.        , 0.        ,\n",
       "       0.        , 0.        , 0.        , 0.        , 0.        ,\n",
       "       0.        , 0.        , 0.        , 0.        , 0.        ,\n",
       "       0.        , 0.        , 0.        , 0.        , 0.        ,\n",
       "       0.        , 0.        , 0.        , 0.        , 0.        ,\n",
       "       0.        , 0.        , 0.        , 0.        , 0.        ,\n",
       "       0.        , 0.        , 0.        , 0.        , 0.        ,\n",
       "       0.        , 0.        , 0.        , 0.        , 0.        ,\n",
       "       0.        , 0.        , 0.        , 0.        ])"
      ]
     },
     "execution_count": 66,
     "metadata": {},
     "output_type": "execute_result"
    }
   ],
   "source": [
    "cosine_similarities[0]"
   ]
  },
  {
   "cell_type": "code",
   "execution_count": 63,
   "metadata": {},
   "outputs": [
    {
     "data": {
      "text/plain": [
       "[(658, 0.23506799063654626),\n",
       " (78, 0.10869485994928993),\n",
       " (1, 0.0),\n",
       " (2, 0.0),\n",
       " (3, 0.0)]"
      ]
     },
     "execution_count": 63,
     "metadata": {},
     "output_type": "execute_result"
    }
   ],
   "source": [
    "sorted(list(enumerate(cosine_similarities[0])),reverse=True,key=lambda x:x[1])[1:6]"
   ]
  },
  {
   "cell_type": "markdown",
   "metadata": {},
   "source": [
    "- cosine_similarities: This is likely a matrix containing the cosine similarity scores between different songs. For example, if there are N songs, cosine_similarities will be an NxN matrix where each entry represents the cosine similarity score between a pair of songs.\n",
    "\n",
    "- cosine_similarities[0]: This part extracts the first row of the cosine_similarities matrix. This row represents the cosine similarity scores between the first song and all other songs in the dataset.\n",
    "\n",
    "- enumerate(cosine_similarities[0]): The enumerate() function is used to iterate over the elements of the first row of cosine_similarities. It returns pairs of (index, value), where index is the index of the element in the row, and value is the cosine similarity score.\n",
    "\n",
    "- sorted(...): This part sorts the enumerated cosine similarity scores in descending order based on the similarity scores (the second element of each pair). The reverse=True argument indicates that the sorting should be in descending order (highest similarity scores first).\n",
    "\n",
    "- key=lambda x: x[1]: This is a lambda function used as the key for sorting. It specifies that the sorting should be based on the second element of each pair (i.e., the cosine similarity score).\n",
    "\n",
    "- [1:6]: Finally, this part slices the sorted list to get the top 5 most similar songs (excluding the first element, which would be the song's similarity to itself since the similarity of a song to itself is always 1).\n",
    "\n",
    "- To summarize, the code snippet is extracting the cosine similarity scores between the first song and all other songs in the dataset, then sorting these similarity scores in descending order to find the top 5 most similar songs to the first song. The result will be a list of pairs, where each pair contains the index of a song and its corresponding cosine similarity score with the first song."
   ]
  },
  {
   "cell_type": "code",
   "execution_count": 67,
   "metadata": {},
   "outputs": [
    {
     "data": {
      "text/html": [
       "<div>\n",
       "<style scoped>\n",
       "    .dataframe tbody tr th:only-of-type {\n",
       "        vertical-align: middle;\n",
       "    }\n",
       "\n",
       "    .dataframe tbody tr th {\n",
       "        vertical-align: top;\n",
       "    }\n",
       "\n",
       "    .dataframe thead th {\n",
       "        text-align: right;\n",
       "    }\n",
       "</style>\n",
       "<table border=\"1\" class=\"dataframe\">\n",
       "  <thead>\n",
       "    <tr style=\"text-align: right;\">\n",
       "      <th></th>\n",
       "      <th>index</th>\n",
       "      <th>song_id</th>\n",
       "      <th>target</th>\n",
       "      <th>genre_ids</th>\n",
       "      <th>artist_name</th>\n",
       "      <th>composer</th>\n",
       "      <th>lyricist</th>\n",
       "      <th>song_name</th>\n",
       "      <th>songs_details</th>\n",
       "    </tr>\n",
       "  </thead>\n",
       "  <tbody>\n",
       "    <tr>\n",
       "      <th>0</th>\n",
       "      <td>0</td>\n",
       "      <td>3Hg5kugV1S0wzEVLAEfqjIV5UHzb7bCrdBRQlGygLvU=</td>\n",
       "      <td>1</td>\n",
       "      <td>1259</td>\n",
       "      <td>desiigner</td>\n",
       "      <td>sidney selby  adnan khan</td>\n",
       "      <td></td>\n",
       "      <td>Panda</td>\n",
       "      <td>desiignersidney selby  adnan khan</td>\n",
       "    </tr>\n",
       "    <tr>\n",
       "      <th>1</th>\n",
       "      <td>2</td>\n",
       "      <td>skehue/d/R59G71dXYpntDwdjRRPlweN3JE8g40TgZU=</td>\n",
       "      <td>1</td>\n",
       "      <td>458</td>\n",
       "      <td>莊心妍</td>\n",
       "      <td>鄭建浩</td>\n",
       "      <td>鄭建浩</td>\n",
       "      <td>我過的很好</td>\n",
       "      <td>莊心妍鄭建浩鄭建浩</td>\n",
       "    </tr>\n",
       "    <tr>\n",
       "      <th>2</th>\n",
       "      <td>4</td>\n",
       "      <td>skehue/d/R59G71dXYpntDwdjRRPlweN3JE8g40TgZU=</td>\n",
       "      <td>0</td>\n",
       "      <td>458</td>\n",
       "      <td>莊心妍</td>\n",
       "      <td>鄭建浩</td>\n",
       "      <td>鄭建浩</td>\n",
       "      <td>我過的很好</td>\n",
       "      <td>莊心妍鄭建浩鄭建浩</td>\n",
       "    </tr>\n",
       "    <tr>\n",
       "      <th>3</th>\n",
       "      <td>21</td>\n",
       "      <td>reXuGcEWDDCnL0K3Th//3DFG4S1ACSpJMzA+CFipo1g=</td>\n",
       "      <td>1</td>\n",
       "      <td>458</td>\n",
       "      <td>周湯豪 (nickthereal)</td>\n",
       "      <td>周湯豪</td>\n",
       "      <td>周湯豪\\崔惟楷</td>\n",
       "      <td>帥到分手</td>\n",
       "      <td>周湯豪 (nickthereal)周湯豪周湯豪\\崔惟楷</td>\n",
       "    </tr>\n",
       "    <tr>\n",
       "      <th>4</th>\n",
       "      <td>73</td>\n",
       "      <td>reXuGcEWDDCnL0K3Th//3DFG4S1ACSpJMzA+CFipo1g=</td>\n",
       "      <td>0</td>\n",
       "      <td>458</td>\n",
       "      <td>周湯豪 (nickthereal)</td>\n",
       "      <td>周湯豪</td>\n",
       "      <td>周湯豪\\崔惟楷</td>\n",
       "      <td>帥到分手</td>\n",
       "      <td>周湯豪 (nickthereal)周湯豪周湯豪\\崔惟楷</td>\n",
       "    </tr>\n",
       "  </tbody>\n",
       "</table>\n",
       "</div>"
      ],
      "text/plain": [
       "   index                                       song_id  target genre_ids  \\\n",
       "0      0  3Hg5kugV1S0wzEVLAEfqjIV5UHzb7bCrdBRQlGygLvU=       1      1259   \n",
       "1      2  skehue/d/R59G71dXYpntDwdjRRPlweN3JE8g40TgZU=       1       458   \n",
       "2      4  skehue/d/R59G71dXYpntDwdjRRPlweN3JE8g40TgZU=       0       458   \n",
       "3     21  reXuGcEWDDCnL0K3Th//3DFG4S1ACSpJMzA+CFipo1g=       1       458   \n",
       "4     73  reXuGcEWDDCnL0K3Th//3DFG4S1ACSpJMzA+CFipo1g=       0       458   \n",
       "\n",
       "         artist_name                  composer lyricist song_name  \\\n",
       "0          desiigner  sidney selby  adnan khan              Panda   \n",
       "1                莊心妍                       鄭建浩      鄭建浩     我過的很好   \n",
       "2                莊心妍                       鄭建浩      鄭建浩     我過的很好   \n",
       "3  周湯豪 (nickthereal)                       周湯豪  周湯豪\\崔惟楷      帥到分手   \n",
       "4  周湯豪 (nickthereal)                       周湯豪  周湯豪\\崔惟楷      帥到分手   \n",
       "\n",
       "                        songs_details  \n",
       "0  desiignersidney selby  adnan khan   \n",
       "1                           莊心妍鄭建浩鄭建浩  \n",
       "2                           莊心妍鄭建浩鄭建浩  \n",
       "3         周湯豪 (nickthereal)周湯豪周湯豪\\崔惟楷  \n",
       "4         周湯豪 (nickthereal)周湯豪周湯豪\\崔惟楷  "
      ]
     },
     "execution_count": 67,
     "metadata": {},
     "output_type": "execute_result"
    }
   ],
   "source": [
    "temp_df.head()"
   ]
  },
  {
   "cell_type": "code",
   "execution_count": 68,
   "metadata": {},
   "outputs": [],
   "source": [
    "#In which you can recommend only index\n",
    "def recommend(song):\n",
    "    song_index=temp_df[temp_df['song_name']==song].index[0]\n",
    "    distances=cosine_similarities[song_index]\n",
    "    song_list=sorted(list(enumerate(cosine_similarities[0])),reverse=True,key=lambda x:x[1])[1:6]\n",
    "    for i in song_list:\n",
    "        print(i[0])"
   ]
  },
  {
   "cell_type": "markdown",
   "metadata": {},
   "source": [
    "- Here, the recommend(song) function takes a song name as input, finds the index of that song in the DataFrame \"temp_df\", retrieves its cosine similarity scores with all other songs, and then recommends the top 5 most similar songs based on their indices in \"temp_df\". The indices are then printed as recommendations. Note that these indices can be used to retrieve the full song details from the original dataset."
   ]
  },
  {
   "cell_type": "code",
   "execution_count": 70,
   "metadata": {},
   "outputs": [
    {
     "name": "stdout",
     "output_type": "stream",
     "text": [
      "658\n",
      "78\n",
      "1\n",
      "2\n",
      "3\n"
     ]
    }
   ],
   "source": [
    "recommend('Panda')"
   ]
  },
  {
   "cell_type": "markdown",
   "metadata": {},
   "source": [
    "#### User-based Recommender\n",
    "- Recommending song name instead of indexes"
   ]
  },
  {
   "cell_type": "code",
   "execution_count": 71,
   "metadata": {},
   "outputs": [],
   "source": [
    "def recommend(song):\n",
    "    song_index=temp_df[temp_df['song_name']==song].index[0]\n",
    "    distances=cosine_similarities[song_index]\n",
    "    song_list=sorted(list(enumerate(distances)),reverse=True,key=lambda x:x[1])[1:10]\n",
    "    for i in song_list:\n",
    "        print(temp_df.iloc[i[0]].song_name)"
   ]
  },
  {
   "cell_type": "code",
   "execution_count": 72,
   "metadata": {},
   "outputs": [
    {
     "name": "stdout",
     "output_type": "stream",
     "text": [
      "Tiimmy Turner\n",
      "La La La\n",
      "我過的很好\n",
      "我過的很好\n",
      "帥到分手\n",
      "帥到分手\n",
      "迷些路 (Lost On The Way)\n",
      "迷些路 (Lost On The Way)\n",
      "Bokurano Yume\n"
     ]
    }
   ],
   "source": [
    "recommend('Panda')"
   ]
  },
  {
   "cell_type": "markdown",
   "metadata": {},
   "source": []
  }
 ],
 "metadata": {
  "kernelspec": {
   "display_name": "Python 3",
   "language": "python",
   "name": "python3"
  },
  "language_info": {
   "codemirror_mode": {
    "name": "ipython",
    "version": 3
   },
   "file_extension": ".py",
   "mimetype": "text/x-python",
   "name": "python",
   "nbconvert_exporter": "python",
   "pygments_lexer": "ipython3",
   "version": "3.9.0"
  },
  "orig_nbformat": 4
 },
 "nbformat": 4,
 "nbformat_minor": 2
}
